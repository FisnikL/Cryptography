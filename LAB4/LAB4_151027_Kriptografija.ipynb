{
 "cells": [
  {
   "cell_type": "markdown",
   "metadata": {},
   "source": [
    "# LAB4 - КРИПТОГРАФИЈА\n",
    "\n",
    "## 151027 Fisnik Limani"
   ]
  },
  {
   "cell_type": "markdown",
   "metadata": {},
   "source": [
    "# 1. DES (DATA ENCRYPTION STANDARD) IMPLEMENTATION"
   ]
  },
  {
   "cell_type": "code",
   "execution_count": 130,
   "metadata": {
    "ExecuteTime": {
     "end_time": "2019-12-25T03:51:09.362136Z",
     "start_time": "2019-12-25T03:51:09.249033Z"
    },
    "hide_input": true,
    "scrolled": true
   },
   "outputs": [],
   "source": [
    "# Convert ASCII text to binary\n",
    "def _ascii_to_bin(text):\n",
    "\n",
    "    out = \"\"\n",
    "    for letter in text:\n",
    "        out += bin(ord(letter))[2:].zfill(8)\n",
    "    # ord(letter) - Given a string of length one, return an integer representing the Unicode code point of the character \n",
    "    #               when the argument is a unicode object, or the value of the byte when the argument is an 8-bit string. \n",
    "\n",
    "    # Pad block with 0s if necessary\n",
    "    for i in range(64-(len(out))):\n",
    "        out += \"0\"\n",
    "\n",
    "    return out\n",
    "\n",
    "# Convert binary to ASCII text\n",
    "def _bin_to_ascii(bit64):\n",
    "\n",
    "    out = \"\"\n",
    "    for i in range(0, len(bit64), 8):\n",
    "        out += chr(int(bit64[i:i+8], 2))\n",
    "\n",
    "    #out.replace(\"\\x00\", \"\")\n",
    "    return out\n",
    "\n",
    "# Convert HEX text to binary\n",
    "def _hex_to_bin(text):\n",
    "\n",
    "    out = \"\"\n",
    "    for letter in text:\n",
    "        out += bin(int(letter, 16))[2:].zfill(4)\n",
    "\n",
    "    # Pad block with 0s if necessary\n",
    "    for i in range(64-(len(out))):\n",
    "        out += \"0\"\n",
    "\n",
    "    return out\n",
    "\n",
    "# Convert binary to hex\n",
    "def _bin_to_hex(bit64):\n",
    "\n",
    "    out = \"\"\n",
    "    for i in range(0, len(bit64), 4):\n",
    "        out += hex(int(bit64[i:i+4], 2))[2:]\n",
    "\n",
    "    return out\n",
    "\n",
    "\"\"\"\n",
    "Expansion:\n",
    "\n",
    "    - Takes 32-bit binary number in the form of a string\n",
    "    - Transforms and permutes 32-bit number into 48-bit number\n",
    "    - Returns 48-bit binary number in the form of a string\n",
    "\n",
    "\"\"\"\n",
    "def _expansion(bit32):\n",
    "\n",
    "    # Expansion table\n",
    "    e = [32,  1,  2,  3,  4,  5,\n",
    "          4,  5,  6,  7,  8,  9,\n",
    "          8,  9, 10, 11, 12, 13,\n",
    "         12, 13, 14, 15, 16, 17,\n",
    "         16, 17, 18, 19, 20, 21,\n",
    "         20, 21, 22, 23, 24, 25,\n",
    "         24, 25, 26, 27, 28, 29,\n",
    "         28, 29, 30, 31, 32,  1]\n",
    "\n",
    "    # Perform permutation on bit32\n",
    "    out = \"\"\n",
    "    for number in e:\n",
    "        out += bit32[number-1]\n",
    "\n",
    "    return out\n",
    "\n",
    "\"\"\"\n",
    "Sbox Substitution:\n",
    "\n",
    "    - Takes 48-bit binary number in the form of a string\n",
    "    \n",
    "    - Splits 48-bit input into 8 chunks of 6 bits\n",
    "    - Performs substitutions on each chunk using 8 hard-coded tables:\n",
    "\t    > The first and last bit of the 6-bit chunk acts as a\n",
    "\t      coordinate for the row of the Sbox\n",
    "\t    > The middle 4 bits act as a coordinate for the column\n",
    "\t    \n",
    "    - Returns 32-bit binary number in the form of a string \n",
    "\"\"\"\n",
    "def _Sbox(bit48, s_boxovi = False, round_s_boxovi = False, round_s_boxovi_list = None):\n",
    "\n",
    "    s = [\n",
    "         # s1\n",
    "         [[14,  4, 13,  1,  2, 15, 11,  8,  3, 10,  6, 12,  5,  9,  0,  7],\n",
    "          [ 0, 15,  7,  4, 14,  2, 13,  1, 10,  6, 12, 11,  9,  5,  3,  8],\n",
    "          [ 4,  1, 14,  8, 13,  6,  2, 11, 15, 12,  9,  7,  3, 10,  5,  0],\n",
    "          [15, 12,  8,  2,  4,  9,  1,  7,  5, 11,  3, 14, 10,  0,  6, 13]],\n",
    "         # s2\n",
    "         [[15,  1,  8, 14,  6, 11,  3,  4,  9,  7,  2, 13, 12,  0,  5, 10],\n",
    "          [ 3, 13,  4,  7, 15,  2,  8, 14, 12,  0,  1, 10,  6,  9, 11,  5],\n",
    "          [ 0, 14,  7, 11, 10,  4, 13,  1,  5,  8, 12,  6,  9,  3,  2, 15],\n",
    "          [13,  8, 10,  1,  3, 15,  4,  2, 11,  6,  7, 12,  0,  5, 14,  9]],\n",
    "         # s3\n",
    "         [[10,  0,  9, 14,  6,  3, 15,  5,  1, 13, 12,  7, 11,  4,  2,  8],\n",
    "          [13,  7,  0,  9,  3,  4,  6, 10,  2,  8,  5, 14, 12, 11, 15,  1],\n",
    "          [13,  6,  4,  9,  8, 15,  3,  0, 11,  1,  2, 12,  5, 10, 14,  7],\n",
    "          [ 1, 10, 13,  0,  6,  9,  8,  7,  4, 15, 14,  3, 11,  5,  2, 12]],\n",
    "         # s4\n",
    "         [[ 7, 13, 14,  3,  0,  6,  9, 10,  1,  2,  8,  5, 11, 12,  4, 15],\n",
    "          [13,  8, 11,  5,  6, 15,  0,  3,  4,  7,  2, 12,  1, 10, 14,  9],\n",
    "          [10,  6,  9,  0, 12, 11,  7, 13, 15,  1,  3, 14,  5,  2,  8,  4],\n",
    "          [ 3, 15,  0,  6, 10,  1, 13,  8,  9,  4,  5, 11, 12,  7,  2, 14]],\n",
    "         # s5\n",
    "         [[ 2, 12,  4,  1,  7, 10, 11,  6,  8,  5,  3, 15, 13,  0, 14,  9],\n",
    "          [14, 11,  2, 12,  4,  7, 13,  1,  5,  0, 15, 10,  3,  9,  8,  6],\n",
    "          [ 4,  2,  1, 11, 10, 13,  7,  8, 15,  9, 12,  5,  6,  3,  0, 14],\n",
    "          [11,  8, 12,  7,  1, 14,  2, 13,  6, 15,  0,  9, 10,  4,  5,  3]],\n",
    "         # s6\n",
    "         [[12,  1, 10, 15,  9,  2,  6,  8,  0, 13,  3,  4, 14,  7,  5, 11],\n",
    "          [10, 15,  4,  2,  7, 12,  9,  5,  6,  1, 13, 14,  0, 11,  3,  8],\n",
    "          [ 9, 14, 15,  5,  2,  8, 12,  3,  7,  0,  4, 10,  1, 13, 11,  6],\n",
    "          [ 4,  3,  2, 12,  9,  5, 15, 10, 11, 14,  1,  7,  6,  0,  8, 13]],\n",
    "         # s7\n",
    "         [[ 4, 11,  2, 14, 15,  0,  8, 13,  3, 12,  9,  7,  5, 10,  6,  1],\n",
    "          [13,  0, 11,  7,  4,  9,  1, 10, 14,  3,  5, 12,  2, 15,  8,  6],\n",
    "          [ 1,  4, 11, 13, 12,  3,  7, 14, 10, 15,  6,  8,  0,  5,  9,  2],\n",
    "          [ 6, 11, 13,  8,  1,  4, 10,  7,  9,  5,  0, 15, 14,  2,  3, 12]],\n",
    "         # s8\n",
    "         [[13,  2,  8,  4,  6, 15, 11,  1, 10,  9,  3, 14,  5,  0, 12,  7],\n",
    "          [ 1, 15, 13,  8, 10,  3,  7,  4, 12,  5,  6, 11,  0, 14,  9,  2],\n",
    "          [ 7, 11,  4,  1,  9, 12, 14,  2,  0,  6, 10, 13, 15,  3,  5,  8],\n",
    "          [ 2,  1, 14,  7,  4, 10,  8, 13, 15, 12,  9,  0,  3,  5,  6, 11]]\n",
    "        ]\n",
    "    \n",
    "    # Break up 48-bit input into 8 6-bit chunks\n",
    "    bit6_list = []\n",
    "    for i in range(0, 48, 6):\n",
    "        bit6_list.append(bit48[i:i+6])\n",
    "    if s_boxovi:\n",
    "        print(bit6_list)\n",
    "    elif round_s_boxovi:\n",
    "        # print(bit6_list)\n",
    "        round_s_boxovi_list.append(bit6_list)\n",
    "\n",
    "    # Perform 8 Sbox substitutions using the 8 6-bit chunks\n",
    "    # and the 8 Sbox tables s1-s8\n",
    "    out = \"\"\n",
    "    for i in range(8):\n",
    "        chunk = bit6_list[i]\n",
    "        row = int(chunk[0]+chunk[5], 2)\n",
    "        col = int(chunk[1:5], 2)\n",
    "\n",
    "        out += (bin(s[i][row][col])[2:].zfill(4))\n",
    "\n",
    "    return out\n",
    "\n",
    "\"\"\"\n",
    "Permute:\n",
    "\n",
    "    - Takes 32-bit binary number in the form of a string\n",
    "    - Performs simple permutation on the number\n",
    "    - Returns 32-bit binary number in the form of a string\n",
    "\n",
    "\"\"\"\n",
    "def _permute(bit32):\n",
    "\n",
    "    # Permutation table\n",
    "    p = [16,  7, 20, 21,\n",
    "         29, 12, 28, 17,\n",
    "          1, 15, 23, 26,\n",
    "          5, 18, 31, 10,\n",
    "          2,  8, 24, 14,\n",
    "         32, 27,  3,  9,\n",
    "         19, 13, 30,  6,\n",
    "         22, 11,  4, 25]\n",
    "\n",
    "    # Perform permutation on bit32\n",
    "    out = \"\"\n",
    "    for number in p:\n",
    "        out += bit32[number-1]\n",
    "\n",
    "    return out\n",
    "\n",
    "\"\"\"\n",
    "f Function:\n",
    "\n",
    "    - Takes 32-bit binary number in the form of a string (bit32)\n",
    "      and a 48-bit binary number in the form of a string (key)\n",
    "\n",
    "    - Performs various permutations, expansions, and reductions\n",
    "      on the input bit32\n",
    "\n",
    "    - Returns 32-bit binary number in the form of a string\n",
    "\n",
    "\n",
    "\"\"\"\n",
    "def f(bit32, key, s_boxovi = False, round_s_boxovi = False, round_s_boxovi_list = None):\n",
    "\n",
    "    # Expand 32-bit input to 48 bits and convert to int\n",
    "    bit48 = int(_expansion(bit32), base = 2)\n",
    "\n",
    "\n",
    "    # XOR 48-bit result and round key, and then convert back to binary\n",
    "    bit48 ^= int(key, 2)\n",
    "    bit48 = bin(bit48)[2:].zfill(48)\n",
    "    # [2:] - because bin gives a number of a form '0b{binaryNumberRepresentation}'\n",
    "    # zfill(width) - The width specifies the length of the returned string from zfill() with '0' digits filled to the left.\n",
    "    \n",
    "\n",
    "    # Perform Sbox substitution\n",
    "    bit32 = _Sbox(bit48, s_boxovi, round_s_boxovi, round_s_boxovi_list)\n",
    "\n",
    "\n",
    "    # Perform permutation on bit32\n",
    "    bit32 = _permute(bit32)\n",
    "    \n",
    "\n",
    "    return bit32\n",
    "\n",
    "def _cipher(bit64, keys, first_round = False, s_boxovi = False, round_s_boxovi = False, round_s_boxovi_list = None):\n",
    "\n",
    "    # Initial permutation table\n",
    "    ip = [58, 50, 42, 34, 26, 18, 10, 2,\n",
    "          60, 52, 44, 36, 28, 20, 12, 4,\n",
    "          62, 54, 46, 38, 30, 22, 14, 6,\n",
    "          64, 56, 48, 40, 32, 24, 16, 8,\n",
    "          57, 49, 41, 33, 25, 17,  9, 1,\n",
    "          59, 51, 43, 35, 27, 19, 11, 3,\n",
    "          61, 53, 45, 37, 29, 21, 13, 5,\n",
    "          63, 55, 47, 39, 31, 23, 15, 7]\n",
    "\n",
    "    # Final permutation\n",
    "    fp = [40,  8, 48, 16, 56, 24, 64, 32,\n",
    "          39,  7, 47, 15, 55, 23, 63, 31,\n",
    "          38,  6, 46, 14, 54, 22, 62, 30,\n",
    "          37,  5, 45, 13, 53, 21, 61, 29,\n",
    "          36,  4, 44, 12, 52, 20, 60, 28,\n",
    "          35,  3, 43, 11, 51, 19, 59, 27,\n",
    "          34,  2, 42, 10, 50, 18, 58, 26,\n",
    "          33,  1, 41,  9, 49, 17, 57, 25]\n",
    "    \n",
    "\n",
    "    # Perform initial permutation on block\n",
    "    p = \"\"\n",
    "    for number in ip:\n",
    "        p += bit64[number-1]\n",
    "\n",
    "    # Split block into two halves\n",
    "    ln = p[:32]\n",
    "    rn = p[32:]\n",
    "    \n",
    "    # print('After initial permutation', _bin_to_hex(p))\n",
    "    # print('L0', _bin_to_hex(ln), 'R0', _bin_to_hex(rn))\n",
    "        \n",
    "    # 16 rounds of encryption, rotating and XORing each half after each round\n",
    "    for i in range(16):\n",
    "        temp = rn\n",
    "        if round_s_boxovi:\n",
    "            rn = bin(int(ln, 2) ^ int(f(rn, keys[i], round_s_boxovi = round_s_boxovi, round_s_boxovi_list = round_s_boxovi_list), 2))[2:].zfill(32)\n",
    "        elif i == 1 and s_boxovi:\n",
    "            rn = bin(int(ln, 2) ^ int(f(rn, keys[i], True), 2))[2:].zfill(32)\n",
    "            break\n",
    "        elif i == 0 and first_round:\n",
    "            print(ln + rn)\n",
    "            break\n",
    "        else:\n",
    "            rn = bin(int(ln, 2) ^ int(f(rn, keys[i]), 2))[2:].zfill(32)\n",
    "        ln = temp\n",
    "        # print(_bin_to_hex(ln), _bin_to_hex(rn), _bin_to_hex(keys[i]))\n",
    "    \n",
    "    # We reverse the order of the two blocks into R16L16 and perform final permutation\n",
    "    combined = rn + ln\n",
    "    # combined = ln + rn\n",
    "    out = \"\"\n",
    "    for number in fp:\n",
    "        out += combined[number-1]\n",
    "    \n",
    "    return out\n",
    "\n",
    "\n",
    "import random\n",
    "\n",
    "\"\"\"\n",
    "DES Key Scheduler:\n",
    "\n",
    "    - Generates 16 48-bit subkeys from a randomly\n",
    "      generated 64-bit initial key\n",
    "\n",
    "    - Returns a list of the 16 subkeys in the form\n",
    "      of binary strings\n",
    "\n",
    "\"\"\"\n",
    "\n",
    "def key_scheduler(key = None, is_key_random = False):\n",
    "\n",
    "    # -------------------- Variables -------------------- #\n",
    "    #\n",
    "    # k         Initial 64-bit key\n",
    "    # k_prime   Permuted 56-bit key\n",
    "    # c0        Left half of k_prime\n",
    "    # d0        Right half of k_prime\n",
    "    # c_keys    16 28-bit permutations of c0 using lrt\n",
    "    # d_keys    16 28-bit permutations of d0 using lrt\n",
    "    # keys      Final list of 16 48-bit keys\n",
    "    #\n",
    "    # --------------------------------------------------- #\n",
    "\n",
    "    \n",
    "    # ---------------- Hard-Coded Values ---------------- #\n",
    "\n",
    "    # pc1       Permutation table No. 1\n",
    "    pc1 = [57, 49, 41, 33, 25, 17,  9, #7\n",
    "            1, 58, 50, 42, 34, 26, 18, #14\n",
    "           10,  2, 59, 51, 43, 35, 27, #21\n",
    "           19, 11,  3, 60, 52, 44, 36, #28\n",
    "           63, 55, 47, 39, 31, 23, 15, #35\n",
    "            7, 62, 54, 46, 38, 30, 22, #42\n",
    "           14,  6, 61, 53, 45, 37, 29, #49\n",
    "           21, 13,  5, 28, 20, 12,  4] #56\n",
    "\n",
    "    # pc2       Permutation table No. 2\n",
    "    pc2 = [14, 17, 11, 24,  1,  5,\n",
    "           3,  28, 15,  6, 21, 10,\n",
    "           23, 19, 12,  4, 26,  8,\n",
    "           16,  7, 27, 20, 13,  2,\n",
    "           41, 52, 31, 37, 47, 55,\n",
    "           30, 40, 51, 45, 33, 48,\n",
    "           44, 49, 39, 56, 34, 53,\n",
    "           46, 42, 50, 36, 29, 32]\n",
    "           \n",
    "\n",
    "    # lrt       Left rotation table\n",
    "    lrt = [1, 1, 2, 2, 2, 2, 2, 2,\n",
    "           1, 2, 2, 2, 2, 2, 2, 1]\n",
    "\n",
    "    # --------------------------------------------------- #\n",
    "\n",
    "\n",
    "    \n",
    "\n",
    "    # Generate random 64-bit number\n",
    "    # Note - Even though the algorithm starts with a 64-bit key, DES is still technically\n",
    "    # 56-bit, because 8 of the bits are used as parity bits. These bits are lost during the\n",
    "    # first permutation using pc1.\n",
    "    k = None\n",
    "    if is_key_random:\n",
    "        k = random.getrandbits(64)    # getrandbits(k) - Returns a python long int with k random bits. \n",
    "        k = bin(k)[2:].zfill(64)\n",
    "    else:\n",
    "        k = _hex_to_bin(key)\n",
    "        # print('key: ',key)\n",
    "        # print('k: ', k)\n",
    "    \n",
    "\n",
    "    # Generate k_prime using permutation table 1\n",
    "    k_prime = \"\"\n",
    "    for number in pc1:\n",
    "        k_prime += k[number-1]\n",
    "    \n",
    "    # print(\"k_prime: \", k_prime)\n",
    "\n",
    "    # Find c0 (left half of k_prime) and d0 (right half of k_prime)\n",
    "    c0 = k_prime[:28]\n",
    "    d0 = k_prime[28:]\n",
    "\n",
    "\n",
    "    # Rotate c0 and d0 according to left rotation table\n",
    "    c_keys = []\n",
    "    d_keys = []\n",
    "    for i in range(16):\n",
    "        num = lrt[i]\n",
    "        \n",
    "        temp = c0[0:num]\n",
    "        c0 = c0[num:] + temp\n",
    "        c_keys.append(c0)\n",
    "\n",
    "        temp = d0[0:num]\n",
    "        d0 = d0[num:] + temp\n",
    "        d_keys.append(d0)\n",
    "        # print(i, c0, d0)\n",
    "\n",
    "\n",
    "    # Generate subkeys by combining c_keys[i] and d_keys[i].\n",
    "    # Use permutation table 2 to generate 16 48-bit keys\n",
    "    keys = []\n",
    "    for i in range(16):\n",
    "        cat = c_keys[i] + d_keys[i]\n",
    "        # print('cat:', cat)\n",
    "        temp = \"\"\n",
    "        for number in pc2:\n",
    "            temp += cat[number-1]\n",
    "        keys.append(temp)\n",
    "\n",
    "    return keys\n",
    "\n",
    "def _plaintext(bit64, keys):\n",
    "\n",
    "    # Initial permutation table\n",
    "    ip = [58, 50, 42, 34, 26, 18, 10, 2,\n",
    "          60, 52, 44, 36, 28, 20, 12, 4,\n",
    "          62, 54, 46, 38, 30, 22, 14, 6,\n",
    "          64, 56, 48, 40, 32, 24, 16, 8,\n",
    "          57, 49, 41, 33, 25, 17,  9, 1,\n",
    "          59, 51, 43, 35, 27, 19, 11, 3,\n",
    "          61, 53, 45, 37, 29, 21, 13, 5,\n",
    "          63, 55, 47, 39, 31, 23, 15, 7]\n",
    "\n",
    "    # Final permutation table\n",
    "    fp = [40,  8, 48, 16, 56, 24, 64, 32,\n",
    "          39,  7, 47, 15, 55, 23, 63, 31,\n",
    "          38,  6, 46, 14, 54, 22, 62, 30,\n",
    "          37,  5, 45, 13, 53, 21, 61, 29,\n",
    "          36,  4, 44, 12, 52, 20, 60, 28,\n",
    "          35,  3, 43, 11, 51, 19, 59, 27,\n",
    "          34,  2, 42, 10, 50, 18, 58, 26,\n",
    "          33,  1, 41,  9, 49, 17, 57, 25]\n",
    "\n",
    "\n",
    "    # Perform initial permutation on block\n",
    "    p = \"\"\n",
    "    for number in ip:\n",
    "        p+= bit64[number-1]\n",
    "\n",
    "\n",
    "    # Split block into two halves\n",
    "    ln = p[:32]\n",
    "    rn = p[32:]\n",
    "\n",
    "    # 16 rounds of decryption, rotating and XORing each half after each round\n",
    "    # Notice that for decryption, the algorithm starts with the left half as\n",
    "    # opposed to the right half with encryption, and it iterates backwards\n",
    "    # through the key set.\n",
    "    for i in range(15, -1, -1):\n",
    "        temp = rn\n",
    "        rn = bin(int(ln, 2) ^ int(f(rn, keys[i]), 2))[2:].zfill(32)\n",
    "        ln = temp\n",
    "\n",
    "    # Combine left and right halves and perform final permutation\n",
    "    # combined = ln + rn\n",
    "    combined = rn + ln\n",
    "    out = \"\"\n",
    "    for number in fp:\n",
    "        out += combined[number-1]\n",
    "\n",
    "\n",
    "    return out"
   ]
  },
  {
   "cell_type": "code",
   "execution_count": 232,
   "metadata": {
    "ExecuteTime": {
     "end_time": "2019-12-25T05:55:33.281231Z",
     "start_time": "2019-12-25T05:55:33.273252Z"
    },
    "hide_input": false
   },
   "outputs": [],
   "source": [
    "def encrypt(text, keys, first_round=False, s_boxovi = False, round_s_boxovi = False, round_s_boxovi_list = None):\n",
    "    text = _bin_to_hex(_ascii_to_bin(text))\n",
    "    # print(\"ENCRYPT\", text)\n",
    "    # Split text up into 64-bit chunks\n",
    "    blocks = []\n",
    "    \n",
    "    for i in range(0, len(text), 16):\n",
    "        blocks.append(text[i:i+16])\n",
    "    # print(blocks)\n",
    "\n",
    "    # Encrypt chunks\n",
    "    e_list = []\n",
    "    for block in blocks:\n",
    "        e_list.append(_cipher(_hex_to_bin(block), keys, first_round, s_boxovi, round_s_boxovi, round_s_boxovi_list))\n",
    "\n",
    "\n",
    "    # Combine chunks back into a single string\n",
    "    out = \"\"\n",
    "    for block in e_list:\n",
    "        # out += _bin_to_ascii(block)    # ASCII output\n",
    "        out += hex(int(block, 2))[2:]      # Hex output\n",
    "        #out += block                    # Binary output\n",
    "    return out"
   ]
  },
  {
   "cell_type": "code",
   "execution_count": 233,
   "metadata": {
    "ExecuteTime": {
     "end_time": "2019-12-25T05:55:38.213516Z",
     "start_time": "2019-12-25T05:55:38.205498Z"
    },
    "hide_input": false
   },
   "outputs": [],
   "source": [
    "def decrypt(cipher, keys):\n",
    "    cipher = _hex_to_bin(cipher)\n",
    "    # print(cipher)\n",
    "    # Split text up into 64-bit chunks\n",
    "    blocks = []\n",
    "    for i in range(0, len(cipher), 64):\n",
    "        blocks.append(cipher[i:i+64])\n",
    "\n",
    "\n",
    "    # Decrypt chunks\n",
    "    d_list = []\n",
    "    for block in blocks:\n",
    "        d_list.append(_plaintext(block, keys))\n",
    "\n",
    "\n",
    "    # Combine chunks back into a single string\n",
    "    out = \"\"\n",
    "    for block in d_list:\n",
    "        out += _bin_to_hex(block)\n",
    "\n",
    "\n",
    "    return _bin_to_ascii(_hex_to_bin(out))"
   ]
  },
  {
   "cell_type": "markdown",
   "metadata": {},
   "source": [
    "# 1.1. TESTS FOR DES IMPLEMENTATION"
   ]
  },
  {
   "cell_type": "code",
   "execution_count": 254,
   "metadata": {
    "ExecuteTime": {
     "end_time": "2019-12-25T06:14:27.216794Z",
     "start_time": "2019-12-25T06:14:27.207820Z"
    }
   },
   "outputs": [
    {
     "name": "stdout",
     "output_type": "stream",
     "text": [
      "Enkriptirana poraka na F.Limani e 1D806E75759165D1\n",
      "Dekriptirana poraka na 1D806E75759165D1 F.Limani\n"
     ]
    }
   ],
   "source": [
    "k = 'FFFFFFFFFFFFFFFF'\n",
    "keys = key_scheduler(k)\n",
    "\n",
    "message = 'F.Limani'\n",
    "enkriptirana = encrypt(message, keys).upper()\n",
    "print('Enkriptirana poraka na', message, 'e', enkriptirana)\n",
    "\n",
    "dekriptirana = decrypt(enkriptirana, keys)\n",
    "print('Dekriptirana poraka na', enkriptirana, dekriptirana)"
   ]
  },
  {
   "cell_type": "code",
   "execution_count": 255,
   "metadata": {
    "ExecuteTime": {
     "end_time": "2019-12-25T06:14:28.707544Z",
     "start_time": "2019-12-25T06:14:28.697544Z"
    }
   },
   "outputs": [
    {
     "name": "stdout",
     "output_type": "stream",
     "text": [
      "Enkriptirana poraka na Crypto.. e 4C73BED5BF8B4D1E\n",
      "Dekriptirana poraka na 4C73BED5BF8B4D1E Crypto..\n"
     ]
    }
   ],
   "source": [
    "k = '123456789ABCDEF'\n",
    "keys = key_scheduler(k)\n",
    "\n",
    "message = 'Crypto..'\n",
    "enkriptirana = encrypt(message, keys).upper()\n",
    "print('Enkriptirana poraka na', message, 'e', enkriptirana)\n",
    "\n",
    "dekriptirana = decrypt(enkriptirana, keys)\n",
    "print('Dekriptirana poraka na', enkriptirana, dekriptirana)"
   ]
  },
  {
   "cell_type": "markdown",
   "metadata": {},
   "source": [
    "# 2. FUNCTION padd_message(message)\n",
    "\n",
    "- Function that fills the message (input) with 0 if it is not divisible by 8"
   ]
  },
  {
   "cell_type": "code",
   "execution_count": 146,
   "metadata": {
    "ExecuteTime": {
     "end_time": "2019-12-25T04:08:44.790402Z",
     "start_time": "2019-12-25T04:08:44.782444Z"
    }
   },
   "outputs": [],
   "source": [
    "def padd_message(message):\n",
    "    \"\"\"\n",
    "        Function that padds the message with 0s if the number of characters is not a divisor of 8\n",
    "    \"\"\"\n",
    "    l = len(message)\n",
    "    if l % 8 == 0:\n",
    "        return message\n",
    "    while l % 8 != 0:\n",
    "        # print(message)\n",
    "        message += '0'\n",
    "        l = len(message)\n",
    "    return message"
   ]
  },
  {
   "cell_type": "markdown",
   "metadata": {},
   "source": [
    "# 2.1. TESTS FOR padd_message FUNCTION"
   ]
  },
  {
   "cell_type": "code",
   "execution_count": 253,
   "metadata": {
    "ExecuteTime": {
     "end_time": "2019-12-25T06:13:40.240993Z",
     "start_time": "2019-12-25T06:13:40.233014Z"
    }
   },
   "outputs": [
    {
     "name": "stdout",
     "output_type": "stream",
     "text": [
      "Message 'F.Limani' padded looks like: F.Limani\n",
      "Message 'Hey' padded looks like: Hey00000\n",
      "Message 'Fisnik Limani' padded looks like: Fisnik Limani000\n"
     ]
    }
   ],
   "source": [
    "# TEST 1\n",
    "print('Message', '\\'F.Limani\\'', 'padded looks like:', padd_message('F.Limani'))\n",
    "\n",
    "# TEST 2\n",
    "print('Message', '\\'Hey\\'', 'padded looks like:', padd_message('Hey'))\n",
    "\n",
    "# TEST 3\n",
    "print('Message', '\\'Fisnik Limani\\'', 'padded looks like:', padd_message('Fisnik Limani'))"
   ]
  },
  {
   "cell_type": "markdown",
   "metadata": {},
   "source": [
    "# 3. ECB MODE MODULE"
   ]
  },
  {
   "cell_type": "markdown",
   "metadata": {},
   "source": [
    "## 3.1. ECB MODE ENCRYPTION"
   ]
  },
  {
   "cell_type": "code",
   "execution_count": 335,
   "metadata": {
    "ExecuteTime": {
     "end_time": "2019-12-25T06:52:59.761525Z",
     "start_time": "2019-12-25T06:52:59.753511Z"
    }
   },
   "outputs": [],
   "source": [
    "def encryptECB(message, key):\n",
    "    \"\"\"\n",
    "        message - ASCII\n",
    "        key - HEX\n",
    "    \"\"\"\n",
    "    message = padd_message(message)\n",
    "    text = _bin_to_hex(_ascii_to_bin(message))\n",
    "    keys = key_scheduler(key)\n",
    "    \n",
    "    blocks = []\n",
    "    for i in range(0, len(text), 16):\n",
    "        blocks.append(text[i:i+16])\n",
    "\n",
    "    e_list = []\n",
    "    for block in blocks:\n",
    "        e_list.append(_cipher(_hex_to_bin(block), keys))\n",
    "\n",
    "\n",
    "    # Combine chunks back into a single string\n",
    "    out = \"\"\n",
    "    for block in e_list:\n",
    "        out += _bin_to_ascii(block)    # ASCII output\n",
    "        # out += hex(int(block, 2))      # Hex output\n",
    "        # out += block                    # Binary output\n",
    "    return out"
   ]
  },
  {
   "cell_type": "markdown",
   "metadata": {},
   "source": [
    "## 3.2. ECB MODE DECRYPTION"
   ]
  },
  {
   "cell_type": "code",
   "execution_count": 336,
   "metadata": {
    "ExecuteTime": {
     "end_time": "2019-12-25T06:52:59.774455Z",
     "start_time": "2019-12-25T06:52:59.763483Z"
    }
   },
   "outputs": [],
   "source": [
    "def decryptECB(cipher, key):\n",
    "    \"\"\"\n",
    "        cipher - ASCII\n",
    "        key - HEX\n",
    "    \"\"\"\n",
    "    cipher = padd_message(cipher)\n",
    "    cipher = _ascii_to_bin(cipher)\n",
    "    keys = key_scheduler(key)\n",
    "    # print(cipher)\n",
    "    # Split text up into 64-bit chunks\n",
    "    blocks = []\n",
    "    for i in range(0, len(cipher), 64):\n",
    "        blocks.append(cipher[i:i+64])\n",
    "    \n",
    "    d_list = []\n",
    "    # Decrypt chunks\n",
    "    for block in blocks:\n",
    "        d_list.append(_plaintext(block, keys))\n",
    "\n",
    "    #print(d_list)\n",
    "    # Combine chunks back into a single string\n",
    "    out = \"\"\n",
    "    for block in d_list:\n",
    "        out += block\n",
    "        \n",
    "    return _bin_to_ascii(out)"
   ]
  },
  {
   "cell_type": "markdown",
   "metadata": {},
   "source": [
    "## 3.3. ECB MODE TESTS"
   ]
  },
  {
   "cell_type": "code",
   "execution_count": 337,
   "metadata": {
    "ExecuteTime": {
     "end_time": "2019-12-25T06:52:59.787419Z",
     "start_time": "2019-12-25T06:52:59.776448Z"
    }
   },
   "outputs": [
    {
     "name": "stdout",
     "output_type": "stream",
     "text": [
      "CIPHER: ÒnçØa>PZQ\u0017H\u0001gÏzYÇ*ËF\u0006¼ï$6ßif8\u001e",
      "Llå\u001d",
      "-\n",
      "MESSAGE: Cryptography is a very interesting !!!!!\n"
     ]
    }
   ],
   "source": [
    "k = 'FFFFFFFFFFFFFFFF'\n",
    "m = 'Cryptography is a very interesting !!!!!'\n",
    "cipher = encryptECB(m,k)\n",
    "print('CIPHER:', cipher)\n",
    "message = decryptECB(cipher, k)\n",
    "print('MESSAGE:', message)"
   ]
  },
  {
   "cell_type": "code",
   "execution_count": 338,
   "metadata": {
    "ExecuteTime": {
     "end_time": "2019-12-25T06:52:59.798429Z",
     "start_time": "2019-12-25T06:52:59.789414Z"
    }
   },
   "outputs": [
    {
     "name": "stdout",
     "output_type": "stream",
     "text": [
      "CIPHER: í¹\u001aû»å$mf\u001e",
      "\u001a#Ì²=¡àu¹%µËñ\u0005HÝHsÀ\n",
      "MESSAGE: Fisnik loves Cryptography0000000\n"
     ]
    }
   ],
   "source": [
    "k = '123456789ABCDEF'\n",
    "m = 'Fisnik loves Cryptography'\n",
    "cipher = encryptECB(m,k)\n",
    "print('CIPHER:', cipher)\n",
    "message = decryptECB(cipher, k)\n",
    "print('MESSAGE:', message)"
   ]
  },
  {
   "cell_type": "markdown",
   "metadata": {},
   "source": [
    "# 4. CBC MODE MODULE"
   ]
  },
  {
   "cell_type": "markdown",
   "metadata": {},
   "source": [
    "## 4.1. CBC MODE ENCRYPTION"
   ]
  },
  {
   "cell_type": "code",
   "execution_count": 339,
   "metadata": {
    "ExecuteTime": {
     "end_time": "2019-12-25T06:52:59.810357Z",
     "start_time": "2019-12-25T06:52:59.800385Z"
    }
   },
   "outputs": [],
   "source": [
    "def encryptCBC(message, key, iv):\n",
    "    \"\"\"\n",
    "        message - ASCII\n",
    "        key - HEX\n",
    "        iv - HEX\n",
    "    \"\"\"\n",
    "    message = padd_message(message)\n",
    "    text = _bin_to_hex(_ascii_to_bin(message))\n",
    "    keys = key_scheduler(key)\n",
    "    iv = _hex_to_bin(iv)\n",
    "    \n",
    "    # print(text)\n",
    "    blocks = []\n",
    "    for i in range(0, len(text), 16):\n",
    "        blocks.append(text[i:i+16])\n",
    "        \n",
    "    # bin(int(ln, 2) ^ int(f(rn, keys[i]), 2))[2:].zfill(32)\n",
    "    e_list = []\n",
    "    prev_output = iv\n",
    "    for i in range(len(blocks)):\n",
    "        block = _hex_to_bin(blocks[i])\n",
    "        block = bin(int(prev_output, 2) ^ int(block, 2))[2:].zfill(64)\n",
    "        encrypted = _cipher(block, keys)\n",
    "        e_list.append(encrypted)\n",
    "        prev_output = encrypted\n",
    "\n",
    "    # Combine chunks back into a single string\n",
    "    out = \"\"\n",
    "    for block in e_list:\n",
    "        out += _bin_to_ascii(block)    # ASCII output\n",
    "        # out += hex(int(block, 2))[2:]      # Hex output\n",
    "        # out += block                    # Binary output\n",
    "    return out"
   ]
  },
  {
   "cell_type": "markdown",
   "metadata": {},
   "source": [
    "## 4.2. CBC MODE DECRYPTION"
   ]
  },
  {
   "cell_type": "code",
   "execution_count": 340,
   "metadata": {
    "ExecuteTime": {
     "end_time": "2019-12-25T06:52:59.822327Z",
     "start_time": "2019-12-25T06:52:59.811354Z"
    }
   },
   "outputs": [],
   "source": [
    "def decryptCBC(cipher, key, iv):\n",
    "    \"\"\"\n",
    "        message - ASCII\n",
    "        key - HEX\n",
    "        iv - HEX\n",
    "    \"\"\"\n",
    "    cipher = padd_message(cipher)\n",
    "    # cipher = _ascii_to_bin(cipher)\n",
    "    iv = _hex_to_bin(iv)\n",
    "    cipher = _ascii_to_bin(cipher)\n",
    "    # print(len(cipher))\n",
    "    keys = key_scheduler(key)\n",
    "    # print(cipher)\n",
    "    # Split text up into 64-bit chunks\n",
    "    blocks = []\n",
    "    for i in range(0, len(cipher), 64):\n",
    "        blocks.append(cipher[i:i+64])\n",
    "    \n",
    "    d_list = []\n",
    "    # Decrypt chunks\n",
    "    previous_input = iv\n",
    "    for i in range(len(blocks)):\n",
    "        # print(blocks[i])\n",
    "        decrypted = _plaintext(blocks[i], keys)\n",
    "        block = bin(int(previous_input, 2) ^ int(decrypted, 2))[2:].zfill(64)\n",
    "        d_list.append(block)\n",
    "        previous_input = blocks[i]\n",
    "\n",
    "    #print(d_list)\n",
    "    # Combine chunks back into a single string\n",
    "    out = \"\"\n",
    "    for block in d_list:\n",
    "        out += block\n",
    "        \n",
    "    return _bin_to_ascii(out)"
   ]
  },
  {
   "cell_type": "markdown",
   "metadata": {},
   "source": [
    "## 4.3. CBC MODE TESTS"
   ]
  },
  {
   "cell_type": "code",
   "execution_count": 341,
   "metadata": {
    "ExecuteTime": {
     "end_time": "2019-12-25T06:52:59.830344Z",
     "start_time": "2019-12-25T06:52:59.823324Z"
    }
   },
   "outputs": [
    {
     "name": "stdout",
     "output_type": "stream",
     "text": [
      "CIPHER: ÈÉe\u001f\f",
      "#Åâ\n",
      "MESSAGE: F.Limani\n"
     ]
    }
   ],
   "source": [
    "k = 'FFFFFFFFFFFFFFFF'\n",
    "iv = '1111111111111111'\n",
    "m = 'F.Limani'\n",
    "\n",
    "cipher = encryptCBC(m,k, iv)\n",
    "print('CIPHER:', cipher)\n",
    "message = decryptCBC(cipher, k, iv)\n",
    "print('MESSAGE:', message)"
   ]
  },
  {
   "cell_type": "code",
   "execution_count": 398,
   "metadata": {
    "ExecuteTime": {
     "end_time": "2019-12-25T07:33:13.643185Z",
     "start_time": "2019-12-25T07:33:13.627228Z"
    }
   },
   "outputs": [
    {
     "name": "stdout",
     "output_type": "stream",
     "text": [
      "CIPHER: 09H\u000flðh³[F#U\b*þá\u0004",
      "U\u0005\r",
      ")ê@rV\n",
      "MESSAGE: Fisnik loves Cryptography0000000\n"
     ]
    }
   ],
   "source": [
    "k = '123456789ABCDEF'\n",
    "iv = '123456789ABCDEF'\n",
    "m = 'Fisnik loves Cryptography'\n",
    "\n",
    "cipher = encryptCBC(m,k, iv)\n",
    "print('CIPHER:', cipher)\n",
    "message = decryptCBC(cipher, k, iv)\n",
    "print('MESSAGE:', message)"
   ]
  },
  {
   "cell_type": "markdown",
   "metadata": {},
   "source": [
    "# 5. FUNCTION swap_blocks(cipher, b1, b2)\n",
    "\n",
    "- Function that swaps values of blocks within the cipher corresponding to indexes b1 and b2"
   ]
  },
  {
   "cell_type": "code",
   "execution_count": 377,
   "metadata": {
    "ExecuteTime": {
     "end_time": "2019-12-25T07:11:27.517657Z",
     "start_time": "2019-12-25T07:11:27.507649Z"
    }
   },
   "outputs": [],
   "source": [
    "def swap_blocks(cipher, b1, b2):\n",
    "    \"\"\"\n",
    "        cipher - ascii\n",
    "        b1 - index of first block\n",
    "        b2 - index of second block\n",
    "    \"\"\"\n",
    "    cipher = _ascii_to_bin(cipher)\n",
    "    blocks = []\n",
    "    for i in range(0, len(cipher), 64):\n",
    "        blocks.append(cipher[i:i+64])\n",
    "    \n",
    "    #Swap\n",
    "    block_to_swap = blocks[b1]\n",
    "    blocks[b1] = blocks[b2]\n",
    "    blocks[b2] = block_to_swap\n",
    "    \n",
    "    out = \"\"\n",
    "    for block in blocks:\n",
    "        out += block\n",
    "    \n",
    "    return _bin_to_ascii(out)"
   ]
  },
  {
   "cell_type": "markdown",
   "metadata": {},
   "source": [
    "# 5.1. TESTS FOR FUNCTION swap_blocks(cipher, b1, b2) "
   ]
  },
  {
   "cell_type": "code",
   "execution_count": 344,
   "metadata": {
    "ExecuteTime": {
     "end_time": "2019-12-25T06:52:59.864213Z",
     "start_time": "2019-12-25T06:52:59.854242Z"
    }
   },
   "outputs": [
    {
     "name": "stdout",
     "output_type": "stream",
     "text": [
      "Message: AAAAAAAABBBBBBBBCCCCCCCCDDDDDDDDEEEEEEEE \n",
      "\n",
      "Swap block 0 and 4: EEEEEEEEBBBBBBBBCCCCCCCCDDDDDDDDAAAAAAAA \n",
      "\n",
      "Swap block 1 and 2: AAAAAAAACCCCCCCCBBBBBBBBDDDDDDDDEEEEEEEE \n",
      "\n",
      "Swap block 3 and 0: DDDDDDDDBBBBBBBBCCCCCCCCAAAAAAAAEEEEEEEE \n",
      "\n"
     ]
    }
   ],
   "source": [
    "cipher='AAAAAAAABBBBBBBBCCCCCCCCDDDDDDDDEEEEEEEE'\n",
    "\n",
    "print('Message:', cipher, '\\n')\n",
    "print('Swap block 0 and 4:', swap_blocks(cipher, 0, 4), '\\n')\n",
    "print('Swap block 1 and 2:', swap_blocks(cipher, 1, 2), '\\n')\n",
    "print('Swap block 3 and 0:', swap_blocks(cipher, 3, 0), '\\n')"
   ]
  },
  {
   "cell_type": "markdown",
   "metadata": {},
   "source": [
    "# 6. FUNCTION remove_block(cipher, b)\n",
    "\n",
    "- Function that removes block from the cipher corresponding to index b"
   ]
  },
  {
   "cell_type": "code",
   "execution_count": 376,
   "metadata": {
    "ExecuteTime": {
     "end_time": "2019-12-25T07:11:19.969424Z",
     "start_time": "2019-12-25T07:11:19.959452Z"
    }
   },
   "outputs": [],
   "source": [
    "def remove_block(cipher, b):\n",
    "    \"\"\"\n",
    "        cipher - ascii\n",
    "        b - index of block to be removed\n",
    "    \"\"\"\n",
    "    cipher = _ascii_to_bin(cipher)\n",
    "    blocks = []\n",
    "    for i in range(0, len(cipher), 64):\n",
    "        blocks.append(cipher[i:i+64])\n",
    "    \n",
    "    #Remove\n",
    "    new_blocks = []\n",
    "    for i in range(len(blocks)):\n",
    "        if i != b:\n",
    "            new_blocks.append(blocks[i])\n",
    "    \n",
    "    out = \"\"\n",
    "    for block in new_blocks:\n",
    "        out += block\n",
    "        \n",
    "    return _bin_to_ascii(out)"
   ]
  },
  {
   "cell_type": "markdown",
   "metadata": {},
   "source": [
    "# 6.1. TESTS FOR FUNCTION remove_block(cipher, b)"
   ]
  },
  {
   "cell_type": "code",
   "execution_count": 346,
   "metadata": {
    "ExecuteTime": {
     "end_time": "2019-12-25T06:52:59.882166Z",
     "start_time": "2019-12-25T06:52:59.874188Z"
    }
   },
   "outputs": [
    {
     "name": "stdout",
     "output_type": "stream",
     "text": [
      "Message: AAAAAAAABBBBBBBBCCCCCCCCDDDDDDDDEEEEEEEE \n",
      "\n",
      "Remove block 0: BBBBBBBBCCCCCCCCDDDDDDDDEEEEEEEE \n",
      "\n",
      "Remove block 2: AAAAAAAABBBBBBBBDDDDDDDDEEEEEEEE \n",
      "\n",
      "Remove block 4: AAAAAAAABBBBBBBBCCCCCCCCDDDDDDDD \n",
      "\n"
     ]
    }
   ],
   "source": [
    "cipher='AAAAAAAABBBBBBBBCCCCCCCCDDDDDDDDEEEEEEEE'\n",
    "\n",
    "print('Message:', cipher, '\\n')\n",
    "print('Remove block 0:', remove_block(cipher, 0), '\\n')\n",
    "print('Remove block 2:', remove_block(cipher, 2), '\\n')\n",
    "print('Remove block 4:', remove_block(cipher, 4), '\\n')"
   ]
  },
  {
   "cell_type": "markdown",
   "metadata": {},
   "source": [
    "# 7. CUT-AND-PASTE ATTACK"
   ]
  },
  {
   "cell_type": "markdown",
   "metadata": {},
   "source": [
    "#### MESSAGE: ZDRAVO JAS SUM  FISNIK  LIMANI  \n",
    "#### BLOCKS: ZDRAVO J|AS SUM  |FISNIK  |LIMANI  |"
   ]
  },
  {
   "cell_type": "code",
   "execution_count": 371,
   "metadata": {
    "ExecuteTime": {
     "end_time": "2019-12-25T07:09:18.065040Z",
     "start_time": "2019-12-25T07:09:18.060052Z"
    }
   },
   "outputs": [],
   "source": [
    "message = 'ZDRAVO JAS SUM  FISNIK  LIMANI  '\n",
    "key = '123456789ABCDEF'\n",
    "iv = '123456789ABCDEF'"
   ]
  },
  {
   "cell_type": "markdown",
   "metadata": {},
   "source": [
    "# 7.1. ATTACK BY SWAPPING BLOCKS ON ECB MODE"
   ]
  },
  {
   "cell_type": "code",
   "execution_count": 375,
   "metadata": {
    "ExecuteTime": {
     "end_time": "2019-12-25T07:10:37.322067Z",
     "start_time": "2019-12-25T07:10:37.307143Z"
    }
   },
   "outputs": [
    {
     "name": "stdout",
     "output_type": "stream",
     "text": [
      "Messsage:  ZDRAVO JAS SUM  FISNIK  LIMANI  \n",
      "Encrypted: \b>ö¢\f",
      "'¯UP\u0003(1\tJÜEÛ»Å\u0019UÇ½ÎÑ\\äÌ)¼]\n",
      "Swapped blocks 2 and 3: \b>ö¢\f",
      "'¯UP\u0003(1\tJÜÎÑ\\äÌ)¼]EÛ»Å\u0019UÇ½\n",
      "Decrypt now: ZDRAVO JAS SUM  LIMANI  FISNIK  \n"
     ]
    }
   ],
   "source": [
    "ecb_encrypted = encryptECB(message, key)\n",
    "print('Messsage: ', message)\n",
    "print('Encrypted:', ecb_encrypted)\n",
    "swapped_2_3 = swap_blocks(ecb_encrypted, 2, 3)\n",
    "print('Swapped blocks 2 and 3:', swapped_2_3)\n",
    "ecb_decrypted = decryptECB(swapped_2_3, key)\n",
    "print('Decrypt now:', ecb_decrypted)"
   ]
  },
  {
   "cell_type": "markdown",
   "metadata": {},
   "source": [
    "## Conclusion\n",
    "- In ECB mode, if we swap two blocks, then there will be swapped original blocks corresponding to those encrypted blocks too!\n",
    "- So attack succeded!"
   ]
  },
  {
   "cell_type": "markdown",
   "metadata": {},
   "source": [
    "# 7.2. ATTACK BY REMOVING BLOCK ON ECB MODE"
   ]
  },
  {
   "cell_type": "code",
   "execution_count": 397,
   "metadata": {
    "ExecuteTime": {
     "end_time": "2019-12-25T07:31:31.429203Z",
     "start_time": "2019-12-25T07:31:31.413247Z"
    }
   },
   "outputs": [
    {
     "name": "stdout",
     "output_type": "stream",
     "text": [
      "Messsage:  ZDRAVO JAS SUM  FISNIK  LIMANI  \n",
      "Encrypted: \b>ö¢\f",
      "'¯UP\u0003(1\tJÜEÛ»Å\u0019UÇ½ÎÑ\\äÌ)¼]\n",
      "Removed block 3: \b>ö¢\f",
      "'¯UP\u0003(1\tJÜEÛ»Å\u0019UÇ½\n",
      "Decrypt now: ZDRAVO JAS SUM  FISNIK  \n"
     ]
    }
   ],
   "source": [
    "ecb_encrypted = encryptECB(message, key)\n",
    "print('Messsage: ', message)\n",
    "print('Encrypted:', ecb_encrypted)\n",
    "remove_3 = remove_block(ecb_encrypted, 3)\n",
    "print('Removed block 3:', remove_3)\n",
    "ecb_decrypted = decryptECB(remove_3, key)\n",
    "print('Decrypt now:', ecb_decrypted)"
   ]
  },
  {
   "cell_type": "markdown",
   "metadata": {},
   "source": [
    "## Conclusion\n",
    "- In ECB mode, if we remove a block, then there will be removed the original block corresponding to that encrypted block too!\n",
    "- So attack succeded!"
   ]
  },
  {
   "cell_type": "markdown",
   "metadata": {},
   "source": [
    "# 7.3. ATTACK BY SWAPPING BLOCKS ON CBC MODE"
   ]
  },
  {
   "cell_type": "code",
   "execution_count": 374,
   "metadata": {
    "ExecuteTime": {
     "end_time": "2019-12-25T07:10:30.139828Z",
     "start_time": "2019-12-25T07:10:30.123869Z"
    }
   },
   "outputs": [
    {
     "name": "stdout",
     "output_type": "stream",
     "text": [
      "Messsage:  ZDRAVO JAS SUM  FISNIK  LIMANI  \n",
      "Encrypted: è¥\b6ã¡£À\u001d",
      "s°\"ý¦úT²Yßã/úp~føÑJ\n",
      "Swapped blocks 2 and 3: è¥\b6ã¡£À\u001d",
      "s°\"ý¦p~føÑJúT²Yßã/ú\n",
      "Decrypt now: ZDRAVO JAS SUM  \u0015Ýâk!ò|\u0010ÍC\f",
      "Ì\n"
     ]
    }
   ],
   "source": [
    "cbc_encrypted = encryptCBC(message, key, iv)\n",
    "print('Messsage: ', message)\n",
    "print('Encrypted:', cbc_encrypted)\n",
    "swapped_2_3 = swap_blocks(cbc_encrypted, 2, 3)\n",
    "print('Swapped blocks 2 and 3:', swapped_2_3)\n",
    "cbc_decrypted = decryptCBC(swapped_2_3, key, iv)\n",
    "print('Decrypt now:', cbc_decrypted)"
   ]
  },
  {
   "cell_type": "markdown",
   "metadata": {},
   "source": [
    "## Conclusion\n",
    "- In CBC mode, if we swap two blocks, then there will be obtained an unclear decryption of that text and all this is due to initial vector that propagates some changes to later blocks using encryption of previous blocks\n",
    "- So attack didn't succeed (or partially succeded, because swapping was done to the blocks in the end, so only those blocks are affected)!"
   ]
  },
  {
   "cell_type": "code",
   "execution_count": 385,
   "metadata": {
    "ExecuteTime": {
     "end_time": "2019-12-25T07:22:40.842272Z",
     "start_time": "2019-12-25T07:22:40.825319Z"
    }
   },
   "outputs": [
    {
     "name": "stdout",
     "output_type": "stream",
     "text": [
      "Messsage:  ZDRAVO JAS SUM  FISNIK  LIMANI  \n",
      "Encrypted: è¥\b6ã¡£À\u001d",
      "s°\"ý¦úT²Yßã/úp~føÑJ\n",
      "Swapped blocks 0 and 1: £À\u001d",
      "s°\"ý¦è¥\b6ã¡úT²Yßã/úp~føÑJ\n",
      "Decrypt now: ÒêÇÇ\u001d",
      "që°\u0019J|Ñ\u0003\u001c",
      "daÒñ_>'LIMANI  \n"
     ]
    }
   ],
   "source": [
    "cbc_encrypted = encryptCBC(message, key, iv)\n",
    "print('Messsage: ', message)\n",
    "print('Encrypted:', cbc_encrypted)\n",
    "swapped_0_1 = swap_blocks(cbc_encrypted, 0, 1)\n",
    "print('Swapped blocks 0 and 1:', swapped_0_1)\n",
    "cbc_decrypted = decryptCBC(swapped_0_1, key, iv)\n",
    "print('Decrypt now:', cbc_decrypted)"
   ]
  },
  {
   "cell_type": "code",
   "execution_count": 396,
   "metadata": {
    "ExecuteTime": {
     "end_time": "2019-12-25T07:30:11.392271Z",
     "start_time": "2019-12-25T07:30:11.377316Z"
    }
   },
   "outputs": [
    {
     "name": "stdout",
     "output_type": "stream",
     "text": [
      "Messsage:  ZDRAVO JAS SUM  FISNIK  LIMANI  \n",
      "Encrypted: è¥\b6ã¡£À\u001d",
      "s°\"ý¦úT²Yßã/úp~føÑJ\n",
      "Swapped blocks 0 and 1: è¥\b6ã¡úT²Yßã/ú£À\u001d",
      "s°\"ý¦p~føÑJ\n",
      "Decrypt now: ZDRAVO JdaÒñ_>':ï\u000e¯ì{\u0015Ýâk!ò|\n"
     ]
    }
   ],
   "source": [
    "cbc_encrypted = encryptCBC(message, key, iv)\n",
    "print('Messsage: ', message)\n",
    "print('Encrypted:', cbc_encrypted)\n",
    "swapped_1_2 = swap_blocks(cbc_encrypted, 1, 2)\n",
    "print('Swapped blocks 0 and 1:', swapped_1_2)\n",
    "cbc_decrypted = decryptCBC(swapped_0_1, key, iv)\n",
    "print('Decrypt now:', cbc_decrypted)"
   ]
  },
  {
   "cell_type": "markdown",
   "metadata": {},
   "source": [
    "## Conclusion\n",
    "- In CBC mode, if we swap two blocks in the beginning, then more (but not until the end) of the following blocks will be affected!\n",
    "- So attack won't (or partially) succeed!"
   ]
  },
  {
   "cell_type": "markdown",
   "metadata": {},
   "source": [
    "# 7.4. ATTACK BY REMOVING BLOCK ON CBC MODE"
   ]
  },
  {
   "cell_type": "code",
   "execution_count": 388,
   "metadata": {
    "ExecuteTime": {
     "end_time": "2019-12-25T07:25:05.348660Z",
     "start_time": "2019-12-25T07:25:05.337690Z"
    }
   },
   "outputs": [
    {
     "name": "stdout",
     "output_type": "stream",
     "text": [
      "Messsage:  ZDRAVO JAS SUM  FISNIK  LIMANI  \n",
      "Encrypted: è¥\b6ã¡£À\u001d",
      "s°\"ý¦úT²Yßã/úp~føÑJ\n",
      "Removed block 3: è¥\b6ã¡£À\u001d",
      "s°\"ý¦úT²Yßã/ú\n",
      "Decrypt now: ZDRAVO JAS SUM  FISNIK  \n"
     ]
    }
   ],
   "source": [
    "cbc_encrypted = encryptCBC(message, key, iv)\n",
    "print('Messsage: ', message)\n",
    "print('Encrypted:', cbc_encrypted)\n",
    "remove_3 = remove_block(cbc_encrypted, 3)\n",
    "print('Removed block 3:', remove_3)\n",
    "cbc_decrypted = decryptCBC(remove_3, key, iv)\n",
    "print('Decrypt now:', cbc_decrypted)"
   ]
  },
  {
   "cell_type": "code",
   "execution_count": 393,
   "metadata": {
    "ExecuteTime": {
     "end_time": "2019-12-25T07:27:54.568590Z",
     "start_time": "2019-12-25T07:27:54.555641Z"
    }
   },
   "outputs": [
    {
     "name": "stdout",
     "output_type": "stream",
     "text": [
      "Messsage:  ZDRAVO JAS SUM  FISNIK  LIMANI  \n",
      "Encrypted: è¥\b6ã¡£À\u001d",
      "s°\"ý¦úT²Yßã/úp~føÑJ\n",
      "Removed block 2: è¥\b6ã¡£À\u001d",
      "s°\"ý¦p~føÑJ\n",
      "Decrypt now: ZDRAVO JAS SUM  \u0015Ýâk!ò|\n"
     ]
    }
   ],
   "source": [
    "cbc_encrypted = encryptCBC(message, key, iv)\n",
    "print('Messsage: ', message)\n",
    "print('Encrypted:', cbc_encrypted)\n",
    "remove_2 = remove_block(cbc_encrypted, 2)\n",
    "print('Removed block 2:', remove_2)\n",
    "cbc_decrypted = decryptCBC(remove_2, key, iv)\n",
    "print('Decrypt now:', cbc_decrypted)"
   ]
  },
  {
   "cell_type": "code",
   "execution_count": 394,
   "metadata": {
    "ExecuteTime": {
     "end_time": "2019-12-25T07:27:56.737242Z",
     "start_time": "2019-12-25T07:27:56.723279Z"
    }
   },
   "outputs": [
    {
     "name": "stdout",
     "output_type": "stream",
     "text": [
      "Messsage:  ZDRAVO JAS SUM  FISNIK  LIMANI  \n",
      "Encrypted: è¥\b6ã¡£À\u001d",
      "s°\"ý¦úT²Yßã/úp~føÑJ\n",
      "Removed block 1: è¥\b6ã¡úT²Yßã/úp~føÑJ\n",
      "Decrypt now: ZDRAVO JdaÒñ_>'LIMANI  \n"
     ]
    }
   ],
   "source": [
    "cbc_encrypted = encryptCBC(message, key, iv)\n",
    "print('Messsage: ', message)\n",
    "print('Encrypted:', cbc_encrypted)\n",
    "remove_1 = remove_block(cbc_encrypted, 1)\n",
    "print('Removed block 1:', remove_1)\n",
    "cbc_decrypted = decryptCBC(remove_1, key, iv)\n",
    "print('Decrypt now:', cbc_decrypted)"
   ]
  },
  {
   "cell_type": "code",
   "execution_count": 395,
   "metadata": {
    "ExecuteTime": {
     "end_time": "2019-12-25T07:27:59.129867Z",
     "start_time": "2019-12-25T07:27:59.112912Z"
    }
   },
   "outputs": [
    {
     "name": "stdout",
     "output_type": "stream",
     "text": [
      "Messsage:  ZDRAVO JAS SUM  FISNIK  LIMANI  \n",
      "Encrypted: è¥\b6ã¡£À\u001d",
      "s°\"ý¦úT²Yßã/úp~føÑJ\n",
      "Removed block 0: £À\u001d",
      "s°\"ý¦úT²Yßã/úp~føÑJ\n",
      "Decrypt now: ÒêÇÇ\u001d",
      "qFISNIK  LIMANI  \n"
     ]
    }
   ],
   "source": [
    "cbc_encrypted = encryptCBC(message, key, iv)\n",
    "print('Messsage: ', message)\n",
    "print('Encrypted:', cbc_encrypted)\n",
    "remove_0 = remove_block(cbc_encrypted, 0)\n",
    "print('Removed block 0:', remove_0)\n",
    "cbc_decrypted = decryptCBC(remove_0, key, iv)\n",
    "print('Decrypt now:', cbc_decrypted)"
   ]
  },
  {
   "cell_type": "markdown",
   "metadata": {},
   "source": [
    "## Conclusion\n",
    "- In CBC mode, if we remove a block, then only the immediate following block will be affected!\n",
    "- So attack won't (or partially) succeed!"
   ]
  }
 ],
 "metadata": {
  "kernelspec": {
   "display_name": "Python 3",
   "language": "python",
   "name": "python3"
  },
  "language_info": {
   "codemirror_mode": {
    "name": "ipython",
    "version": 3
   },
   "file_extension": ".py",
   "mimetype": "text/x-python",
   "name": "python",
   "nbconvert_exporter": "python",
   "pygments_lexer": "ipython3",
   "version": "3.7.3"
  }
 },
 "nbformat": 4,
 "nbformat_minor": 2
}
