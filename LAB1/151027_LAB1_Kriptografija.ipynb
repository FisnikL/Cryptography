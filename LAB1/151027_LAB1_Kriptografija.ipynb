{
 "cells": [
  {
   "cell_type": "markdown",
   "metadata": {},
   "source": [
    "# КРИПТОГРАФИЈА - LAB1\n",
    "\n",
    "#### 151027, Fisnik Limani"
   ]
  },
  {
   "cell_type": "markdown",
   "metadata": {},
   "source": [
    "## Материјал:\n",
    "\n",
    "#### Research Paper: FREQUENCY  DISTRIBUTION OF LETTERS, BIGRAMS AND TRIGRAMS IN THE MACEDONIAN LANGUAGE\n",
    "#### Link: http://js.ugd.edu.mk/index.php/YFCS/article/view/27/1035"
   ]
  },
  {
   "cell_type": "code",
   "execution_count": 308,
   "metadata": {
    "ExecuteTime": {
     "end_time": "2019-11-03T20:03:27.811922Z",
     "start_time": "2019-11-03T20:03:27.794974Z"
    }
   },
   "outputs": [],
   "source": [
    "# Податоци земени од горенаведеното истражување за униграмите, биграмите и триграмите на македонскиот јазик\n",
    "unigrams = {\n",
    "    'А': 13.293, 'О': 10.679, 'И': 9.160, 'Е': 8.945, 'Т': 7.462,\n",
    "    'Н': 7.077,  'Р': 5.090,  'С': 4.751, 'В': 4.343, 'Д': 3.911,\n",
    "    'К': 3.672,  'Л': 2.959,  'П': 2.926, 'М': 2.309, 'У': 2.262,\n",
    "    'З': 1.979,  'Ј': 1.511,  'Г': 1.505, 'Б': 1.434, 'Ч': 0.925,\n",
    "    'Ш': 0.916,  'Ц': 0.857,  'Ж': 0.568, 'Њ': 0.555, 'Ф': 0.347, \n",
    "    'Ќ': 0.264,  'Х': 0.146,  'Г': 0.106, 'Џ': 0.025, 'Љ': 0.015,\n",
    "    'Ѕ': 0.009,\n",
    "}\n",
    "\n",
    "bigrams = {\n",
    "    'НА': 3.235, 'АТ': 1.860, 'ТА': 1.808, 'НИ': 1.764, 'ТЕ': 1.721,\n",
    "    'РА': 1.688, 'ОТ': 1.616, 'СТ': 1.614, 'ТО': 1.541, 'КО': 1.456,\n",
    "    'ВА': 1.455, 'ВО': 1.445, 'ЕН': 1.414, 'ОД': 1.375, 'ПР': 1.271,\n",
    "    'РЕ': 1.234, 'КА': 1.215, 'ИТ': 1.197, 'ПО': 1.191, 'НО': 1.161, \n",
    "    'ЗА': 1.125, 'ДА': 0.983, 'ЈА': 0.981, 'СЕ': 0.958, 'УВ': 0.901,\n",
    "    'РИ': 0.895, 'ОВ': 0.887, 'ТИ': 0.874, 'ЛИ': 0.859, 'РО': 0.839\n",
    "}\n",
    "\n",
    "trigrams = {\n",
    "    'ИТЕ': 1.261, 'АТА': 1.147, 'УВА': 1.124, 'ИЈА': 0.709, 'АЊЕ': 0.639,\n",
    "    'СТА': 0.612, 'ОСТ': 0.579, 'ВАЊ': 0.483, 'ПРО': 0.479, 'ПРЕ': 0.476,\n",
    "    'ЕТО': 0.429, 'ИСТ': 0.412, 'РЕД': 0.407, 'АКО': 0.405, 'НАТ': 0.393,\n",
    "    'ИРА': 0.367, 'ШТО': 0.362, 'НОС': 0.356, 'ЕНИ': 0.356, 'АНИ': 0.348,\n",
    "    'ПРИ': 0.340, 'ИОТ': 0.331, 'НИТ': 0.329, 'ОТО': 0.323, 'ААТ': 0.318,\n",
    "    'ОВИ': 0.309, 'РАН': 0.305, 'ИНА': 0.305, 'СКИ': 0.295, 'МЕН': 0.292\n",
    "}"
   ]
  },
  {
   "cell_type": "code",
   "execution_count": 309,
   "metadata": {
    "ExecuteTime": {
     "end_time": "2019-11-03T20:03:27.823893Z",
     "start_time": "2019-11-03T20:03:27.813881Z"
    }
   },
   "outputs": [
    {
     "data": {
      "text/plain": [
       "'НШГЖИЛЏЛЈЛВШЃЅНЈЧЗШЛЃТГЃЅШЖГЃЃГЈЗЦБЖЛЏЧФГЈЃЅАЏЅЏЧФЛСЈНЃЅГЃСЈФГЈЦБЏЏНЈЧЗЃЧШЅСЧВЈФЅЈСШЅШВШГЈЅЈЛВШЈФЅЈСШКЏЅШНШГЖИЛЏЛВШЃЅНЈЧЗШЛЃТГЃЅШЖГЃЃГЈЗЦБЖЛЏЧФГЈЃЅАЏЅЏЧФЛСЈСЈФЈФЛШСЅШЖЅЃСЏЧВЃЛЏЛЈЛФСГЃЧЃИЃЗЏЛЈЌЃБФГЈЦБЏЈРБШСЏЅСЈФИЖАРЏЅСЏФЅЃГЅШЧЗВШГЈЅЈЛФЛШЦЃЅШФЃИШЅШФЏЌЗЃБШЅЖШЧЃЌСЏЃИБШЌЃЃЏЌЃЅШЏФЏЛЛШУЈЌЃЅШНШГЖИЛЏЛЈЛВШЃЅНЈЧЗШЛЃТГЃЅШЖГЃЃГЈЗЦБЖЛЏЧФГЈЃЅАЏЅЏЧФЛСЈНЃЅГЃЏЧЏВЖИЛШЛЅШВЌЧЖАЖСШКЏЛЈЅШЌСШЛШЅШБУЈИЏЗЃЃЅФЛЃЛЖЛЃЈЌЈРИШФЛШЅШЃЅНЈЧЗШЛЃГШЛШЃГЈЗЦБЖЛЏЧФГШЛШЛЏЊЅЃГШСЈЗШГЏЌЈЅЃБШЃЅФЛЃЛЖЛЈЛВШЃЅНЈЧЗШЛЃГШЃЃЦЧЃЦЧЃЧЈЌЅЈЗШЛЏЗШЛЃТГЃЈЛНШГЖИЛЏЛЃЃЅФЛЃЛЖЛЈЛВШГЈЗЦБЖЛЏЧФГШЛЏЊЅЃГШЃЃЅНЈЧЗШЛЃГШЃГЛЃЦЧЃНШГЖИЛЏЛЈЛВШЏИЏГЛЧЈЛЏЊЅЃГШЃЃЅНЈЧЗШМЃФГЃЛЏЊЅЈИЈУЃЃСЈЌШЌЏЅШЛШНЈЧЗШЌСШЛШЃЅФЛЃЛЖЛЃЧШРЈЛШЛЖПЛЏЈЌЈФЖЗЌЏФЏЛЛЃЛЏУЈЌЃЅЃЅШЗЃЅШЛЃЈЛСЏГЃЃЦЈТЅЖСШЌШЧШРЈЛЃЈЌЌШИЏТЅШЛШЈФЖЗЌЏФЏЛЃЦЏЛЛШУЈЌЃЅШГШГЈЧШЗЅЈЦЧШСЅШФЈФЛШСЅШМЏИЃЅШЅШЦЈСЛЈЧЅЈЈРЏЌЃЅЏЛЃЈЛЦЗНЦЈЌЃЗЏЛЈЃЅФЛЃЛЖЛВШЃЅНЈЧЗШЛЃГШЃГЛЃЦЈЛЏГЅЖСШЈЌГШЛЏЌЧШЛШВШЛЏЊЅЃТГШГЃРЏЧЅЏЛЃГШСЈЈСЈБЦЏЧЃЈЌЈЌФГЈЧЈЛЃЅШУЈЌЃЅЃГШБЈСЃЏЃЅФЛЃЛЖЛЃФЏФИЖТЖСШЦЈФЛЈБШЅЧШФЛСЈЅШЖТЅЃЛЏЃЛЏЊЅЃТГЃЛЏГШЦШМЃЛЏЛЃГШГЈЧЏВЖИЛШЛЅШЃВСЈЅЧЏЌЅЃЛЏВШИШУШКШЅШЅЃСЅЃЛЏТИЏЅЈСЃШСЈЛЧЏЅЌФЈФСЏЛФГЃЈЛЦЈЌЏЗЅШЃЅНЈЧЗШЛЃГШЛШФЦЈУЈИЏЗЃЈЛЃЅЛЏЧЏФЅШФЛЖЌЏЅЛЃЛЏВШЈСШШЈРИШФЛЃФЦЈУЈИЏЗЃЈЛЧШВСЈБЃЗЈАЅЈФЛЃЛЏЅШЌСШЛШЃЅФЛЃЛЖЛЃЌЈСЏЌЖСШШЛЌЈЛЈШСЈЦЈФИЏЌЅЃЛЏЖТЏРЅЃУЈЌЃЅЃЌШФЛШЅШЛЅШБУЈИЏЗЃЃЅФЛЃЛЖЛЃЅШНШГЖИЛЏЛЃЛЏЃЌШЈЦФИЖАЖСШШЛФГЈЧЈЦЈИЈСЃЅШЈЌФЛЖЌЏЅЛЃЛЏСЈМЏИЃЈЛЦЏЧЃЈЌЅШЧШВСЈБЦЈФЛЈБШЛУЈИЏЗРЧЈБВШЏЗЅЃЦЧЈЏГЛЃЃЃФЛЧШАЖСШКШГШГЈЅШИЃТЅШЛШГШЃЅШЃЅФЛЃЛЖМЃЈЅШИЅШЈФЅЈСШЌСШЛШЃЅФЛЃЛЖЛЃРЏШСЈЦЈФЛЈБШЅШЛШЛЧГШВШПЛЈЦЈСЃФЈГГСШИЃЛЏЛЅШФЛЖЌЃЃЛЏЅШЖТЅЈЃФЛЧШАЖСШТГШЛШЃШЦИЃГШЛЃСЅШЛШЌЏБЅЈФЛСШГСШЛШЛЧГШСФЖПЅЈФЛЧЏВЖИЛЃЧШПЏФЈЏЌЏЅГЈЅЏТЏЅЈРЏЌЃЅЖСШТГЃНШГЛЈЧФЦЈВЅШТЃЛЏИЏЅЧШВСЈБЃЦЈЌЏЗЅШЃЅНЈЧЗШЛЃГШЛШСЈЗШГЏЌЈЅЃБШЃНЈЧЗЃЧШКЏЅШЏЌЅШЃФГИЖТЃЛЏИЅЈФЃИЅШВШЏЌЅЃМШЅШЃЅНЈЧЗШЛЃТГЃЅШФЈТЏЅЃЅШФЛШСЅЃГШЌЧЃЈЌУЈЌЃЅШЛЃЏЃНЈЧЗШИЅЈВШЦЈТЅЖСШШЛЌШТЏГЈЧШЛЦЈВШЏЌЅЃТГЃЦШЛГШГЈЅШБФЃИЅШЃЅШБЅШЦЧЏЌЅШЅШЖТЅЈЃФЛЧШАЖСШТГШЃЈРЧШВЈСЅШЃЅФЛЃЛЖМЃБШСЈЗШГЏЌЈЅЃБШЈЌЈРИШФЛЃЛЏЅШЃЅНЈЧЗШЛЃГШЛШНШГЖИЛЏЛВШЃЅНЈЧЗШЛЃТГЃЅШЖГЃЃГЈЗЦБЖЛЏЧФГЈЃЅАЏЅЏЧФЛСЈНЃЅГЃЌЈЌЃЦИЈЗФГЃФЛЖЌЃФГЃЦЧЈУЧШЗЃГЈЃНЃЅГЃУЃЅЖЌЃФЏФИЏЌЅЃЛЏГЈЗЦБЖЛЏЧФГЃЅШЖГЃГЈЗЦБЖЛЏЧФГЈЃЅАЏЅЏЧФЛСЈЃЅЛЏЧЅЏЛЃЗЧЏАЅШРЏВРЏЌЅЈФЛЦЧЃЗЏЅШЅШЃЅНЈЧЗШМЃФГЃЛЏЊЅЈИЈУЃЃЃГЈЗЦБЖЛЏЧФГШЏЌЖГШМЃБШФЗЏЧЈСЃЅШЗШУЃФЛЏЧФГЃЏЌЅЈУЈЌЃПЅЃФЛЖЌЃЃФЏЃЅАЏЅЏЧФЛСЈЅШЃЅЛЏИЃУЏЅЛЅЃФЃФЛЏЗЃГЈЗЦБЖЛЏЧФГЃЅШЖГЃГЈЌЃЧШКЏЃГЧЃЦЛЈУЧШНЃБШФЈНЛСЏЧФГЈЃЅАЏЅЏЧФЛСЈГЈЗЦБЖЛЏЧФГЃЗЧЏАЃЃЏЛЏЊЅЈИЈУЃЃЃЅЛЏИЃУЏЅЛЅЃЃЅНЈЧЗШМЃЈЅЃФЃФЛЏЗЃФЈНЛСЏЧФГЈЃЅАЏЅЏЧФЛСЈФЈЌЧАЃЅФГЃРШВЃЧШЅЈЦЧЏРШЧЖСШКЏРЃЈЃЅНЈЧЗШЛЃГШЏГЈЃЅНЈЧЗШЛЃГШФЃФЛЏЗСЈТЃЦ'"
      ]
     },
     "execution_count": 309,
     "metadata": {},
     "output_type": "execute_result"
    }
   ],
   "source": [
    "# Го читаме file-от каде го имаме ciphertext-oт\n",
    "\n",
    "path = 'cipher/encrypted_text.txt'\n",
    "# Encoding треба да е utf-8 затоа што ciphertext-от е на кирилица\n",
    "cipher = open(path,'r', encoding='utf-8') \n",
    "\n",
    "ciphertext = cipher.read()\n",
    "ciphertext"
   ]
  },
  {
   "cell_type": "code",
   "execution_count": 310,
   "metadata": {
    "ExecuteTime": {
     "end_time": "2019-11-03T20:03:27.829847Z",
     "start_time": "2019-11-03T20:03:27.825849Z"
    }
   },
   "outputs": [],
   "source": [
    "def find_letter_frequencies(ciphertext):\n",
    "    \"\"\"\n",
    "        Функција која ќе ги најде фреквенциите за секоја буква од текстот\n",
    "        Return value: lista од tuples каде tuple[0] - буква, tuple[1] - фреквенција, сортирани по фреквенција\n",
    "    \"\"\"\n",
    "    letter_frequencies = dict()\n",
    "    for character in ciphertext:\n",
    "        if character not in letter_frequencies:\n",
    "            letter_frequencies[character] = 1\n",
    "        else:\n",
    "            letter_frequencies[character] += 1\n",
    "    \n",
    "    ciphertext_length = len(ciphertext)\n",
    "    \n",
    "    for character in letter_frequencies:\n",
    "        # print(letter_frequencies[character], ciphertext_length)\n",
    "        letter_frequencies[character]=round(letter_frequencies[character]/ciphertext_length*100,2)\n",
    "        \n",
    "    # SORT\n",
    "    frequencies = list(letter_frequencies.items())\n",
    "    frequencies.sort(key=lambda item:item[1], reverse=True)\n",
    "    \n",
    "    return frequencies"
   ]
  },
  {
   "cell_type": "code",
   "execution_count": 311,
   "metadata": {
    "ExecuteTime": {
     "end_time": "2019-11-03T20:03:27.837857Z",
     "start_time": "2019-11-03T20:03:27.831833Z"
    }
   },
   "outputs": [
    {
     "data": {
      "text/html": [
       "        <script type=\"text/javascript\">\n",
       "        window.PlotlyConfig = {MathJaxConfig: 'local'};\n",
       "        if (window.MathJax) {MathJax.Hub.Config({SVG: {font: \"STIX-Web\"}});}\n",
       "        if (typeof require !== 'undefined') {\n",
       "        require.undef(\"plotly\");\n",
       "        requirejs.config({\n",
       "            paths: {\n",
       "                'plotly': ['https://cdn.plot.ly/plotly-latest.min']\n",
       "            }\n",
       "        });\n",
       "        require(['plotly'], function(Plotly) {\n",
       "            window._Plotly = Plotly;\n",
       "        });\n",
       "        }\n",
       "        </script>\n",
       "        "
      ]
     },
     "metadata": {},
     "output_type": "display_data"
    }
   ],
   "source": [
    "# Ќе се искористи plotly библиотеката за да се направи визуелизација на податоците\n",
    "import chart_studio.plotly as py\n",
    "import plotly.figure_factory as ff\n",
    "import plotly.graph_objects as go\n",
    "import plotly.io as pio\n",
    "pio.renderers.default = \"notebook\"\n",
    "\n",
    "from plotly.offline import download_plotlyjs, init_notebook_mode, plot, iplot\n",
    "init_notebook_mode(connected=True)"
   ]
  },
  {
   "cell_type": "code",
   "execution_count": 312,
   "metadata": {
    "ExecuteTime": {
     "end_time": "2019-11-03T20:03:27.946551Z",
     "start_time": "2019-11-03T20:03:27.838814Z"
    }
   },
   "outputs": [
    {
     "data": {
      "application/vnd.plotly.v1+json": {
       "config": {
        "plotlyServerURL": "https://plot.ly"
       },
       "data": [
        {
         "type": "bar",
         "x": [
          "Ѓ",
          "Ш",
          "Л",
          "Ј",
          "Ѕ",
          "Џ",
          "Г",
          "Ф",
          "Ч",
          "С",
          "Ќ",
          "Ж",
          "З",
          "Ц",
          "И",
          "Н",
          "Б",
          "В",
          "Т",
          "У",
          "Р",
          "А",
          "М",
          "Њ",
          "К",
          "П"
         ],
         "y": [
          12.11,
          11.55,
          9.86,
          9.42,
          8.55,
          7.47,
          5.17,
          4.91,
          4.52,
          3.26,
          3.17,
          3.13,
          2.82,
          2.21,
          2.13,
          1.61,
          1.61,
          1.43,
          1.22,
          0.96,
          0.83,
          0.78,
          0.43,
          0.35,
          0.3,
          0.22
         ]
        }
       ],
       "layout": {
        "template": {
         "data": {
          "bar": [
           {
            "error_x": {
             "color": "#2a3f5f"
            },
            "error_y": {
             "color": "#2a3f5f"
            },
            "marker": {
             "line": {
              "color": "#E5ECF6",
              "width": 0.5
             }
            },
            "type": "bar"
           }
          ],
          "barpolar": [
           {
            "marker": {
             "line": {
              "color": "#E5ECF6",
              "width": 0.5
             }
            },
            "type": "barpolar"
           }
          ],
          "carpet": [
           {
            "aaxis": {
             "endlinecolor": "#2a3f5f",
             "gridcolor": "white",
             "linecolor": "white",
             "minorgridcolor": "white",
             "startlinecolor": "#2a3f5f"
            },
            "baxis": {
             "endlinecolor": "#2a3f5f",
             "gridcolor": "white",
             "linecolor": "white",
             "minorgridcolor": "white",
             "startlinecolor": "#2a3f5f"
            },
            "type": "carpet"
           }
          ],
          "choropleth": [
           {
            "colorbar": {
             "outlinewidth": 0,
             "ticks": ""
            },
            "type": "choropleth"
           }
          ],
          "contour": [
           {
            "colorbar": {
             "outlinewidth": 0,
             "ticks": ""
            },
            "colorscale": [
             [
              0,
              "#0d0887"
             ],
             [
              0.1111111111111111,
              "#46039f"
             ],
             [
              0.2222222222222222,
              "#7201a8"
             ],
             [
              0.3333333333333333,
              "#9c179e"
             ],
             [
              0.4444444444444444,
              "#bd3786"
             ],
             [
              0.5555555555555556,
              "#d8576b"
             ],
             [
              0.6666666666666666,
              "#ed7953"
             ],
             [
              0.7777777777777778,
              "#fb9f3a"
             ],
             [
              0.8888888888888888,
              "#fdca26"
             ],
             [
              1,
              "#f0f921"
             ]
            ],
            "type": "contour"
           }
          ],
          "contourcarpet": [
           {
            "colorbar": {
             "outlinewidth": 0,
             "ticks": ""
            },
            "type": "contourcarpet"
           }
          ],
          "heatmap": [
           {
            "colorbar": {
             "outlinewidth": 0,
             "ticks": ""
            },
            "colorscale": [
             [
              0,
              "#0d0887"
             ],
             [
              0.1111111111111111,
              "#46039f"
             ],
             [
              0.2222222222222222,
              "#7201a8"
             ],
             [
              0.3333333333333333,
              "#9c179e"
             ],
             [
              0.4444444444444444,
              "#bd3786"
             ],
             [
              0.5555555555555556,
              "#d8576b"
             ],
             [
              0.6666666666666666,
              "#ed7953"
             ],
             [
              0.7777777777777778,
              "#fb9f3a"
             ],
             [
              0.8888888888888888,
              "#fdca26"
             ],
             [
              1,
              "#f0f921"
             ]
            ],
            "type": "heatmap"
           }
          ],
          "heatmapgl": [
           {
            "colorbar": {
             "outlinewidth": 0,
             "ticks": ""
            },
            "colorscale": [
             [
              0,
              "#0d0887"
             ],
             [
              0.1111111111111111,
              "#46039f"
             ],
             [
              0.2222222222222222,
              "#7201a8"
             ],
             [
              0.3333333333333333,
              "#9c179e"
             ],
             [
              0.4444444444444444,
              "#bd3786"
             ],
             [
              0.5555555555555556,
              "#d8576b"
             ],
             [
              0.6666666666666666,
              "#ed7953"
             ],
             [
              0.7777777777777778,
              "#fb9f3a"
             ],
             [
              0.8888888888888888,
              "#fdca26"
             ],
             [
              1,
              "#f0f921"
             ]
            ],
            "type": "heatmapgl"
           }
          ],
          "histogram": [
           {
            "marker": {
             "colorbar": {
              "outlinewidth": 0,
              "ticks": ""
             }
            },
            "type": "histogram"
           }
          ],
          "histogram2d": [
           {
            "colorbar": {
             "outlinewidth": 0,
             "ticks": ""
            },
            "colorscale": [
             [
              0,
              "#0d0887"
             ],
             [
              0.1111111111111111,
              "#46039f"
             ],
             [
              0.2222222222222222,
              "#7201a8"
             ],
             [
              0.3333333333333333,
              "#9c179e"
             ],
             [
              0.4444444444444444,
              "#bd3786"
             ],
             [
              0.5555555555555556,
              "#d8576b"
             ],
             [
              0.6666666666666666,
              "#ed7953"
             ],
             [
              0.7777777777777778,
              "#fb9f3a"
             ],
             [
              0.8888888888888888,
              "#fdca26"
             ],
             [
              1,
              "#f0f921"
             ]
            ],
            "type": "histogram2d"
           }
          ],
          "histogram2dcontour": [
           {
            "colorbar": {
             "outlinewidth": 0,
             "ticks": ""
            },
            "colorscale": [
             [
              0,
              "#0d0887"
             ],
             [
              0.1111111111111111,
              "#46039f"
             ],
             [
              0.2222222222222222,
              "#7201a8"
             ],
             [
              0.3333333333333333,
              "#9c179e"
             ],
             [
              0.4444444444444444,
              "#bd3786"
             ],
             [
              0.5555555555555556,
              "#d8576b"
             ],
             [
              0.6666666666666666,
              "#ed7953"
             ],
             [
              0.7777777777777778,
              "#fb9f3a"
             ],
             [
              0.8888888888888888,
              "#fdca26"
             ],
             [
              1,
              "#f0f921"
             ]
            ],
            "type": "histogram2dcontour"
           }
          ],
          "mesh3d": [
           {
            "colorbar": {
             "outlinewidth": 0,
             "ticks": ""
            },
            "type": "mesh3d"
           }
          ],
          "parcoords": [
           {
            "line": {
             "colorbar": {
              "outlinewidth": 0,
              "ticks": ""
             }
            },
            "type": "parcoords"
           }
          ],
          "scatter": [
           {
            "marker": {
             "colorbar": {
              "outlinewidth": 0,
              "ticks": ""
             }
            },
            "type": "scatter"
           }
          ],
          "scatter3d": [
           {
            "line": {
             "colorbar": {
              "outlinewidth": 0,
              "ticks": ""
             }
            },
            "marker": {
             "colorbar": {
              "outlinewidth": 0,
              "ticks": ""
             }
            },
            "type": "scatter3d"
           }
          ],
          "scattercarpet": [
           {
            "marker": {
             "colorbar": {
              "outlinewidth": 0,
              "ticks": ""
             }
            },
            "type": "scattercarpet"
           }
          ],
          "scattergeo": [
           {
            "marker": {
             "colorbar": {
              "outlinewidth": 0,
              "ticks": ""
             }
            },
            "type": "scattergeo"
           }
          ],
          "scattergl": [
           {
            "marker": {
             "colorbar": {
              "outlinewidth": 0,
              "ticks": ""
             }
            },
            "type": "scattergl"
           }
          ],
          "scattermapbox": [
           {
            "marker": {
             "colorbar": {
              "outlinewidth": 0,
              "ticks": ""
             }
            },
            "type": "scattermapbox"
           }
          ],
          "scatterpolar": [
           {
            "marker": {
             "colorbar": {
              "outlinewidth": 0,
              "ticks": ""
             }
            },
            "type": "scatterpolar"
           }
          ],
          "scatterpolargl": [
           {
            "marker": {
             "colorbar": {
              "outlinewidth": 0,
              "ticks": ""
             }
            },
            "type": "scatterpolargl"
           }
          ],
          "scatterternary": [
           {
            "marker": {
             "colorbar": {
              "outlinewidth": 0,
              "ticks": ""
             }
            },
            "type": "scatterternary"
           }
          ],
          "surface": [
           {
            "colorbar": {
             "outlinewidth": 0,
             "ticks": ""
            },
            "colorscale": [
             [
              0,
              "#0d0887"
             ],
             [
              0.1111111111111111,
              "#46039f"
             ],
             [
              0.2222222222222222,
              "#7201a8"
             ],
             [
              0.3333333333333333,
              "#9c179e"
             ],
             [
              0.4444444444444444,
              "#bd3786"
             ],
             [
              0.5555555555555556,
              "#d8576b"
             ],
             [
              0.6666666666666666,
              "#ed7953"
             ],
             [
              0.7777777777777778,
              "#fb9f3a"
             ],
             [
              0.8888888888888888,
              "#fdca26"
             ],
             [
              1,
              "#f0f921"
             ]
            ],
            "type": "surface"
           }
          ],
          "table": [
           {
            "cells": {
             "fill": {
              "color": "#EBF0F8"
             },
             "line": {
              "color": "white"
             }
            },
            "header": {
             "fill": {
              "color": "#C8D4E3"
             },
             "line": {
              "color": "white"
             }
            },
            "type": "table"
           }
          ]
         },
         "layout": {
          "annotationdefaults": {
           "arrowcolor": "#2a3f5f",
           "arrowhead": 0,
           "arrowwidth": 1
          },
          "colorscale": {
           "diverging": [
            [
             0,
             "#8e0152"
            ],
            [
             0.1,
             "#c51b7d"
            ],
            [
             0.2,
             "#de77ae"
            ],
            [
             0.3,
             "#f1b6da"
            ],
            [
             0.4,
             "#fde0ef"
            ],
            [
             0.5,
             "#f7f7f7"
            ],
            [
             0.6,
             "#e6f5d0"
            ],
            [
             0.7,
             "#b8e186"
            ],
            [
             0.8,
             "#7fbc41"
            ],
            [
             0.9,
             "#4d9221"
            ],
            [
             1,
             "#276419"
            ]
           ],
           "sequential": [
            [
             0,
             "#0d0887"
            ],
            [
             0.1111111111111111,
             "#46039f"
            ],
            [
             0.2222222222222222,
             "#7201a8"
            ],
            [
             0.3333333333333333,
             "#9c179e"
            ],
            [
             0.4444444444444444,
             "#bd3786"
            ],
            [
             0.5555555555555556,
             "#d8576b"
            ],
            [
             0.6666666666666666,
             "#ed7953"
            ],
            [
             0.7777777777777778,
             "#fb9f3a"
            ],
            [
             0.8888888888888888,
             "#fdca26"
            ],
            [
             1,
             "#f0f921"
            ]
           ],
           "sequentialminus": [
            [
             0,
             "#0d0887"
            ],
            [
             0.1111111111111111,
             "#46039f"
            ],
            [
             0.2222222222222222,
             "#7201a8"
            ],
            [
             0.3333333333333333,
             "#9c179e"
            ],
            [
             0.4444444444444444,
             "#bd3786"
            ],
            [
             0.5555555555555556,
             "#d8576b"
            ],
            [
             0.6666666666666666,
             "#ed7953"
            ],
            [
             0.7777777777777778,
             "#fb9f3a"
            ],
            [
             0.8888888888888888,
             "#fdca26"
            ],
            [
             1,
             "#f0f921"
            ]
           ]
          },
          "colorway": [
           "#636efa",
           "#EF553B",
           "#00cc96",
           "#ab63fa",
           "#FFA15A",
           "#19d3f3",
           "#FF6692",
           "#B6E880",
           "#FF97FF",
           "#FECB52"
          ],
          "font": {
           "color": "#2a3f5f"
          },
          "geo": {
           "bgcolor": "white",
           "lakecolor": "white",
           "landcolor": "#E5ECF6",
           "showlakes": true,
           "showland": true,
           "subunitcolor": "white"
          },
          "hoverlabel": {
           "align": "left"
          },
          "hovermode": "closest",
          "mapbox": {
           "style": "light"
          },
          "paper_bgcolor": "white",
          "plot_bgcolor": "#E5ECF6",
          "polar": {
           "angularaxis": {
            "gridcolor": "white",
            "linecolor": "white",
            "ticks": ""
           },
           "bgcolor": "#E5ECF6",
           "radialaxis": {
            "gridcolor": "white",
            "linecolor": "white",
            "ticks": ""
           }
          },
          "scene": {
           "xaxis": {
            "backgroundcolor": "#E5ECF6",
            "gridcolor": "white",
            "gridwidth": 2,
            "linecolor": "white",
            "showbackground": true,
            "ticks": "",
            "zerolinecolor": "white"
           },
           "yaxis": {
            "backgroundcolor": "#E5ECF6",
            "gridcolor": "white",
            "gridwidth": 2,
            "linecolor": "white",
            "showbackground": true,
            "ticks": "",
            "zerolinecolor": "white"
           },
           "zaxis": {
            "backgroundcolor": "#E5ECF6",
            "gridcolor": "white",
            "gridwidth": 2,
            "linecolor": "white",
            "showbackground": true,
            "ticks": "",
            "zerolinecolor": "white"
           }
          },
          "shapedefaults": {
           "line": {
            "color": "#2a3f5f"
           }
          },
          "ternary": {
           "aaxis": {
            "gridcolor": "white",
            "linecolor": "white",
            "ticks": ""
           },
           "baxis": {
            "gridcolor": "white",
            "linecolor": "white",
            "ticks": ""
           },
           "bgcolor": "#E5ECF6",
           "caxis": {
            "gridcolor": "white",
            "linecolor": "white",
            "ticks": ""
           }
          },
          "title": {
           "x": 0.05
          },
          "xaxis": {
           "automargin": true,
           "gridcolor": "white",
           "linecolor": "white",
           "ticks": "",
           "zerolinecolor": "white",
           "zerolinewidth": 2
          },
          "yaxis": {
           "automargin": true,
           "gridcolor": "white",
           "linecolor": "white",
           "ticks": "",
           "zerolinecolor": "white",
           "zerolinewidth": 2
          }
         }
        }
       }
      },
      "text/html": [
       "<div>\n",
       "        \n",
       "        \n",
       "            <div id=\"f8cfe5f0-9149-43bc-ae09-a5e852a6cf3e\" class=\"plotly-graph-div\" style=\"height:525px; width:100%;\"></div>\n",
       "            <script type=\"text/javascript\">\n",
       "                require([\"plotly\"], function(Plotly) {\n",
       "                    window.PLOTLYENV=window.PLOTLYENV || {};\n",
       "                    \n",
       "                if (document.getElementById(\"f8cfe5f0-9149-43bc-ae09-a5e852a6cf3e\")) {\n",
       "                    Plotly.newPlot(\n",
       "                        'f8cfe5f0-9149-43bc-ae09-a5e852a6cf3e',\n",
       "                        [{\"type\": \"bar\", \"x\": [\"\\u0403\", \"\\u0428\", \"\\u041b\", \"\\u0408\", \"\\u0405\", \"\\u040f\", \"\\u0413\", \"\\u0424\", \"\\u0427\", \"\\u0421\", \"\\u040c\", \"\\u0416\", \"\\u0417\", \"\\u0426\", \"\\u0418\", \"\\u041d\", \"\\u0411\", \"\\u0412\", \"\\u0422\", \"\\u0423\", \"\\u0420\", \"\\u0410\", \"\\u041c\", \"\\u040a\", \"\\u041a\", \"\\u041f\"], \"y\": [12.11, 11.55, 9.86, 9.42, 8.55, 7.47, 5.17, 4.91, 4.52, 3.26, 3.17, 3.13, 2.82, 2.21, 2.13, 1.61, 1.61, 1.43, 1.22, 0.96, 0.83, 0.78, 0.43, 0.35, 0.3, 0.22]}],\n",
       "                        {\"template\": {\"data\": {\"bar\": [{\"error_x\": {\"color\": \"#2a3f5f\"}, \"error_y\": {\"color\": \"#2a3f5f\"}, \"marker\": {\"line\": {\"color\": \"#E5ECF6\", \"width\": 0.5}}, \"type\": \"bar\"}], \"barpolar\": [{\"marker\": {\"line\": {\"color\": \"#E5ECF6\", \"width\": 0.5}}, \"type\": \"barpolar\"}], \"carpet\": [{\"aaxis\": {\"endlinecolor\": \"#2a3f5f\", \"gridcolor\": \"white\", \"linecolor\": \"white\", \"minorgridcolor\": \"white\", \"startlinecolor\": \"#2a3f5f\"}, \"baxis\": {\"endlinecolor\": \"#2a3f5f\", \"gridcolor\": \"white\", \"linecolor\": \"white\", \"minorgridcolor\": \"white\", \"startlinecolor\": \"#2a3f5f\"}, \"type\": \"carpet\"}], \"choropleth\": [{\"colorbar\": {\"outlinewidth\": 0, \"ticks\": \"\"}, \"type\": \"choropleth\"}], \"contour\": [{\"colorbar\": {\"outlinewidth\": 0, \"ticks\": \"\"}, \"colorscale\": [[0.0, \"#0d0887\"], [0.1111111111111111, \"#46039f\"], [0.2222222222222222, \"#7201a8\"], [0.3333333333333333, \"#9c179e\"], [0.4444444444444444, \"#bd3786\"], [0.5555555555555556, \"#d8576b\"], [0.6666666666666666, \"#ed7953\"], [0.7777777777777778, \"#fb9f3a\"], [0.8888888888888888, \"#fdca26\"], [1.0, \"#f0f921\"]], \"type\": \"contour\"}], \"contourcarpet\": [{\"colorbar\": {\"outlinewidth\": 0, \"ticks\": \"\"}, \"type\": \"contourcarpet\"}], \"heatmap\": [{\"colorbar\": {\"outlinewidth\": 0, \"ticks\": \"\"}, \"colorscale\": [[0.0, \"#0d0887\"], [0.1111111111111111, \"#46039f\"], [0.2222222222222222, \"#7201a8\"], [0.3333333333333333, \"#9c179e\"], [0.4444444444444444, \"#bd3786\"], [0.5555555555555556, \"#d8576b\"], [0.6666666666666666, \"#ed7953\"], [0.7777777777777778, \"#fb9f3a\"], [0.8888888888888888, \"#fdca26\"], [1.0, \"#f0f921\"]], \"type\": \"heatmap\"}], \"heatmapgl\": [{\"colorbar\": {\"outlinewidth\": 0, \"ticks\": \"\"}, \"colorscale\": [[0.0, \"#0d0887\"], [0.1111111111111111, \"#46039f\"], [0.2222222222222222, \"#7201a8\"], [0.3333333333333333, \"#9c179e\"], [0.4444444444444444, \"#bd3786\"], [0.5555555555555556, \"#d8576b\"], [0.6666666666666666, \"#ed7953\"], [0.7777777777777778, \"#fb9f3a\"], [0.8888888888888888, \"#fdca26\"], [1.0, \"#f0f921\"]], \"type\": \"heatmapgl\"}], \"histogram\": [{\"marker\": {\"colorbar\": {\"outlinewidth\": 0, \"ticks\": \"\"}}, \"type\": \"histogram\"}], \"histogram2d\": [{\"colorbar\": {\"outlinewidth\": 0, \"ticks\": \"\"}, \"colorscale\": [[0.0, \"#0d0887\"], [0.1111111111111111, \"#46039f\"], [0.2222222222222222, \"#7201a8\"], [0.3333333333333333, \"#9c179e\"], [0.4444444444444444, \"#bd3786\"], [0.5555555555555556, \"#d8576b\"], [0.6666666666666666, \"#ed7953\"], [0.7777777777777778, \"#fb9f3a\"], [0.8888888888888888, \"#fdca26\"], [1.0, \"#f0f921\"]], \"type\": \"histogram2d\"}], \"histogram2dcontour\": [{\"colorbar\": {\"outlinewidth\": 0, \"ticks\": \"\"}, \"colorscale\": [[0.0, \"#0d0887\"], [0.1111111111111111, \"#46039f\"], [0.2222222222222222, \"#7201a8\"], [0.3333333333333333, \"#9c179e\"], [0.4444444444444444, \"#bd3786\"], [0.5555555555555556, \"#d8576b\"], [0.6666666666666666, \"#ed7953\"], [0.7777777777777778, \"#fb9f3a\"], [0.8888888888888888, \"#fdca26\"], [1.0, \"#f0f921\"]], \"type\": \"histogram2dcontour\"}], \"mesh3d\": [{\"colorbar\": {\"outlinewidth\": 0, \"ticks\": \"\"}, \"type\": \"mesh3d\"}], \"parcoords\": [{\"line\": {\"colorbar\": {\"outlinewidth\": 0, \"ticks\": \"\"}}, \"type\": \"parcoords\"}], \"scatter\": [{\"marker\": {\"colorbar\": {\"outlinewidth\": 0, \"ticks\": \"\"}}, \"type\": \"scatter\"}], \"scatter3d\": [{\"line\": {\"colorbar\": {\"outlinewidth\": 0, \"ticks\": \"\"}}, \"marker\": {\"colorbar\": {\"outlinewidth\": 0, \"ticks\": \"\"}}, \"type\": \"scatter3d\"}], \"scattercarpet\": [{\"marker\": {\"colorbar\": {\"outlinewidth\": 0, \"ticks\": \"\"}}, \"type\": \"scattercarpet\"}], \"scattergeo\": [{\"marker\": {\"colorbar\": {\"outlinewidth\": 0, \"ticks\": \"\"}}, \"type\": \"scattergeo\"}], \"scattergl\": [{\"marker\": {\"colorbar\": {\"outlinewidth\": 0, \"ticks\": \"\"}}, \"type\": \"scattergl\"}], \"scattermapbox\": [{\"marker\": {\"colorbar\": {\"outlinewidth\": 0, \"ticks\": \"\"}}, \"type\": \"scattermapbox\"}], \"scatterpolar\": [{\"marker\": {\"colorbar\": {\"outlinewidth\": 0, \"ticks\": \"\"}}, \"type\": \"scatterpolar\"}], \"scatterpolargl\": [{\"marker\": {\"colorbar\": {\"outlinewidth\": 0, \"ticks\": \"\"}}, \"type\": \"scatterpolargl\"}], \"scatterternary\": [{\"marker\": {\"colorbar\": {\"outlinewidth\": 0, \"ticks\": \"\"}}, \"type\": \"scatterternary\"}], \"surface\": [{\"colorbar\": {\"outlinewidth\": 0, \"ticks\": \"\"}, \"colorscale\": [[0.0, \"#0d0887\"], [0.1111111111111111, \"#46039f\"], [0.2222222222222222, \"#7201a8\"], [0.3333333333333333, \"#9c179e\"], [0.4444444444444444, \"#bd3786\"], [0.5555555555555556, \"#d8576b\"], [0.6666666666666666, \"#ed7953\"], [0.7777777777777778, \"#fb9f3a\"], [0.8888888888888888, \"#fdca26\"], [1.0, \"#f0f921\"]], \"type\": \"surface\"}], \"table\": [{\"cells\": {\"fill\": {\"color\": \"#EBF0F8\"}, \"line\": {\"color\": \"white\"}}, \"header\": {\"fill\": {\"color\": \"#C8D4E3\"}, \"line\": {\"color\": \"white\"}}, \"type\": \"table\"}]}, \"layout\": {\"annotationdefaults\": {\"arrowcolor\": \"#2a3f5f\", \"arrowhead\": 0, \"arrowwidth\": 1}, \"colorscale\": {\"diverging\": [[0, \"#8e0152\"], [0.1, \"#c51b7d\"], [0.2, \"#de77ae\"], [0.3, \"#f1b6da\"], [0.4, \"#fde0ef\"], [0.5, \"#f7f7f7\"], [0.6, \"#e6f5d0\"], [0.7, \"#b8e186\"], [0.8, \"#7fbc41\"], [0.9, \"#4d9221\"], [1, \"#276419\"]], \"sequential\": [[0.0, \"#0d0887\"], [0.1111111111111111, \"#46039f\"], [0.2222222222222222, \"#7201a8\"], [0.3333333333333333, \"#9c179e\"], [0.4444444444444444, \"#bd3786\"], [0.5555555555555556, \"#d8576b\"], [0.6666666666666666, \"#ed7953\"], [0.7777777777777778, \"#fb9f3a\"], [0.8888888888888888, \"#fdca26\"], [1.0, \"#f0f921\"]], \"sequentialminus\": [[0.0, \"#0d0887\"], [0.1111111111111111, \"#46039f\"], [0.2222222222222222, \"#7201a8\"], [0.3333333333333333, \"#9c179e\"], [0.4444444444444444, \"#bd3786\"], [0.5555555555555556, \"#d8576b\"], [0.6666666666666666, \"#ed7953\"], [0.7777777777777778, \"#fb9f3a\"], [0.8888888888888888, \"#fdca26\"], [1.0, \"#f0f921\"]]}, \"colorway\": [\"#636efa\", \"#EF553B\", \"#00cc96\", \"#ab63fa\", \"#FFA15A\", \"#19d3f3\", \"#FF6692\", \"#B6E880\", \"#FF97FF\", \"#FECB52\"], \"font\": {\"color\": \"#2a3f5f\"}, \"geo\": {\"bgcolor\": \"white\", \"lakecolor\": \"white\", \"landcolor\": \"#E5ECF6\", \"showlakes\": true, \"showland\": true, \"subunitcolor\": \"white\"}, \"hoverlabel\": {\"align\": \"left\"}, \"hovermode\": \"closest\", \"mapbox\": {\"style\": \"light\"}, \"paper_bgcolor\": \"white\", \"plot_bgcolor\": \"#E5ECF6\", \"polar\": {\"angularaxis\": {\"gridcolor\": \"white\", \"linecolor\": \"white\", \"ticks\": \"\"}, \"bgcolor\": \"#E5ECF6\", \"radialaxis\": {\"gridcolor\": \"white\", \"linecolor\": \"white\", \"ticks\": \"\"}}, \"scene\": {\"xaxis\": {\"backgroundcolor\": \"#E5ECF6\", \"gridcolor\": \"white\", \"gridwidth\": 2, \"linecolor\": \"white\", \"showbackground\": true, \"ticks\": \"\", \"zerolinecolor\": \"white\"}, \"yaxis\": {\"backgroundcolor\": \"#E5ECF6\", \"gridcolor\": \"white\", \"gridwidth\": 2, \"linecolor\": \"white\", \"showbackground\": true, \"ticks\": \"\", \"zerolinecolor\": \"white\"}, \"zaxis\": {\"backgroundcolor\": \"#E5ECF6\", \"gridcolor\": \"white\", \"gridwidth\": 2, \"linecolor\": \"white\", \"showbackground\": true, \"ticks\": \"\", \"zerolinecolor\": \"white\"}}, \"shapedefaults\": {\"line\": {\"color\": \"#2a3f5f\"}}, \"ternary\": {\"aaxis\": {\"gridcolor\": \"white\", \"linecolor\": \"white\", \"ticks\": \"\"}, \"baxis\": {\"gridcolor\": \"white\", \"linecolor\": \"white\", \"ticks\": \"\"}, \"bgcolor\": \"#E5ECF6\", \"caxis\": {\"gridcolor\": \"white\", \"linecolor\": \"white\", \"ticks\": \"\"}}, \"title\": {\"x\": 0.05}, \"xaxis\": {\"automargin\": true, \"gridcolor\": \"white\", \"linecolor\": \"white\", \"ticks\": \"\", \"zerolinecolor\": \"white\", \"zerolinewidth\": 2}, \"yaxis\": {\"automargin\": true, \"gridcolor\": \"white\", \"linecolor\": \"white\", \"ticks\": \"\", \"zerolinecolor\": \"white\", \"zerolinewidth\": 2}}}},\n",
       "                        {\"responsive\": true}\n",
       "                    ).then(function(){\n",
       "                            \n",
       "var gd = document.getElementById('f8cfe5f0-9149-43bc-ae09-a5e852a6cf3e');\n",
       "var x = new MutationObserver(function (mutations, observer) {{\n",
       "        var display = window.getComputedStyle(gd).display;\n",
       "        if (!display || display === 'none') {{\n",
       "            console.log([gd, 'removed!']);\n",
       "            Plotly.purge(gd);\n",
       "            observer.disconnect();\n",
       "        }}\n",
       "}});\n",
       "\n",
       "// Listen for the removal of the full notebook cells\n",
       "var notebookContainer = gd.closest('#notebook-container');\n",
       "if (notebookContainer) {{\n",
       "    x.observe(notebookContainer, {childList: true});\n",
       "}}\n",
       "\n",
       "// Listen for the clearing of the current output cell\n",
       "var outputEl = gd.closest('.output');\n",
       "if (outputEl) {{\n",
       "    x.observe(outputEl, {childList: true});\n",
       "}}\n",
       "\n",
       "                        })\n",
       "                };\n",
       "                });\n",
       "            </script>\n",
       "        </div>"
      ]
     },
     "metadata": {},
     "output_type": "display_data"
    }
   ],
   "source": [
    "letter_frequencies = find_letter_frequencies(ciphertext)\n",
    "x = [item[0] for item in letter_frequencies]\n",
    "y = [item[1] for item in letter_frequencies]\n",
    "data = go.Bar(x = x, y = y)\n",
    "fig = go.Figure(data)\n",
    "fig.show()"
   ]
  },
  {
   "cell_type": "code",
   "execution_count": 313,
   "metadata": {
    "ExecuteTime": {
     "end_time": "2019-11-03T20:03:28.267686Z",
     "start_time": "2019-11-03T20:03:27.947523Z"
    }
   },
   "outputs": [
    {
     "data": {
      "application/vnd.plotly.v1+json": {
       "config": {
        "linkText": "Export to plot.ly",
        "plotlyServerURL": "https://plot.ly",
        "showLink": false
       },
       "data": [
        {
         "marker": {
          "color": "red",
          "size": 5
         },
         "mode": "markers",
         "name": "Ciphertext Letter Frequencies",
         "type": "scatter",
         "x": [
          "Ѓ",
          "Ш",
          "Л",
          "Ј",
          "Ѕ",
          "Џ",
          "Г",
          "Ф",
          "Ч",
          "С",
          "Ќ",
          "Ж",
          "З",
          "Ц",
          "И",
          "Н",
          "Б",
          "В",
          "Т",
          "У",
          "Р",
          "А",
          "М",
          "Њ",
          "К",
          "П"
         ],
         "y": [
          12.11,
          11.55,
          9.86,
          9.42,
          8.55,
          7.47,
          5.17,
          4.91,
          4.52,
          3.26,
          3.17,
          3.13,
          2.82,
          2.21,
          2.13,
          1.61,
          1.61,
          1.43,
          1.22,
          0.96,
          0.83,
          0.78,
          0.43,
          0.35,
          0.3,
          0.22
         ]
        },
        {
         "marker": {
          "color": "blue",
          "size": 5
         },
         "mode": "markers",
         "name": "Research Letter Frequencies",
         "type": "scatter",
         "x": [
          "А",
          "О",
          "И",
          "Е",
          "Т",
          "Н",
          "Р",
          "С",
          "В",
          "Д",
          "К",
          "Л",
          "П",
          "М",
          "У",
          "З",
          "Ј",
          "Г",
          "Б",
          "Ч",
          "Ш",
          "Ц",
          "Ж",
          "Њ",
          "Ф",
          "Ќ",
          "Х",
          "Џ",
          "Љ",
          "Ѕ"
         ],
         "y": [
          13.293,
          10.679,
          9.16,
          8.945,
          7.462,
          7.077,
          5.09,
          4.751,
          4.343,
          3.911,
          3.672,
          2.959,
          2.926,
          2.309,
          2.262,
          1.979,
          1.511,
          0.106,
          1.434,
          0.925,
          0.916,
          0.857,
          0.568,
          0.555,
          0.347,
          0.264,
          0.146,
          0.025,
          0.015,
          0.009
         ]
        }
       ],
       "layout": {
        "template": {
         "data": {
          "bar": [
           {
            "error_x": {
             "color": "#2a3f5f"
            },
            "error_y": {
             "color": "#2a3f5f"
            },
            "marker": {
             "line": {
              "color": "#E5ECF6",
              "width": 0.5
             }
            },
            "type": "bar"
           }
          ],
          "barpolar": [
           {
            "marker": {
             "line": {
              "color": "#E5ECF6",
              "width": 0.5
             }
            },
            "type": "barpolar"
           }
          ],
          "carpet": [
           {
            "aaxis": {
             "endlinecolor": "#2a3f5f",
             "gridcolor": "white",
             "linecolor": "white",
             "minorgridcolor": "white",
             "startlinecolor": "#2a3f5f"
            },
            "baxis": {
             "endlinecolor": "#2a3f5f",
             "gridcolor": "white",
             "linecolor": "white",
             "minorgridcolor": "white",
             "startlinecolor": "#2a3f5f"
            },
            "type": "carpet"
           }
          ],
          "choropleth": [
           {
            "colorbar": {
             "outlinewidth": 0,
             "ticks": ""
            },
            "type": "choropleth"
           }
          ],
          "contour": [
           {
            "colorbar": {
             "outlinewidth": 0,
             "ticks": ""
            },
            "colorscale": [
             [
              0,
              "#0d0887"
             ],
             [
              0.1111111111111111,
              "#46039f"
             ],
             [
              0.2222222222222222,
              "#7201a8"
             ],
             [
              0.3333333333333333,
              "#9c179e"
             ],
             [
              0.4444444444444444,
              "#bd3786"
             ],
             [
              0.5555555555555556,
              "#d8576b"
             ],
             [
              0.6666666666666666,
              "#ed7953"
             ],
             [
              0.7777777777777778,
              "#fb9f3a"
             ],
             [
              0.8888888888888888,
              "#fdca26"
             ],
             [
              1,
              "#f0f921"
             ]
            ],
            "type": "contour"
           }
          ],
          "contourcarpet": [
           {
            "colorbar": {
             "outlinewidth": 0,
             "ticks": ""
            },
            "type": "contourcarpet"
           }
          ],
          "heatmap": [
           {
            "colorbar": {
             "outlinewidth": 0,
             "ticks": ""
            },
            "colorscale": [
             [
              0,
              "#0d0887"
             ],
             [
              0.1111111111111111,
              "#46039f"
             ],
             [
              0.2222222222222222,
              "#7201a8"
             ],
             [
              0.3333333333333333,
              "#9c179e"
             ],
             [
              0.4444444444444444,
              "#bd3786"
             ],
             [
              0.5555555555555556,
              "#d8576b"
             ],
             [
              0.6666666666666666,
              "#ed7953"
             ],
             [
              0.7777777777777778,
              "#fb9f3a"
             ],
             [
              0.8888888888888888,
              "#fdca26"
             ],
             [
              1,
              "#f0f921"
             ]
            ],
            "type": "heatmap"
           }
          ],
          "heatmapgl": [
           {
            "colorbar": {
             "outlinewidth": 0,
             "ticks": ""
            },
            "colorscale": [
             [
              0,
              "#0d0887"
             ],
             [
              0.1111111111111111,
              "#46039f"
             ],
             [
              0.2222222222222222,
              "#7201a8"
             ],
             [
              0.3333333333333333,
              "#9c179e"
             ],
             [
              0.4444444444444444,
              "#bd3786"
             ],
             [
              0.5555555555555556,
              "#d8576b"
             ],
             [
              0.6666666666666666,
              "#ed7953"
             ],
             [
              0.7777777777777778,
              "#fb9f3a"
             ],
             [
              0.8888888888888888,
              "#fdca26"
             ],
             [
              1,
              "#f0f921"
             ]
            ],
            "type": "heatmapgl"
           }
          ],
          "histogram": [
           {
            "marker": {
             "colorbar": {
              "outlinewidth": 0,
              "ticks": ""
             }
            },
            "type": "histogram"
           }
          ],
          "histogram2d": [
           {
            "colorbar": {
             "outlinewidth": 0,
             "ticks": ""
            },
            "colorscale": [
             [
              0,
              "#0d0887"
             ],
             [
              0.1111111111111111,
              "#46039f"
             ],
             [
              0.2222222222222222,
              "#7201a8"
             ],
             [
              0.3333333333333333,
              "#9c179e"
             ],
             [
              0.4444444444444444,
              "#bd3786"
             ],
             [
              0.5555555555555556,
              "#d8576b"
             ],
             [
              0.6666666666666666,
              "#ed7953"
             ],
             [
              0.7777777777777778,
              "#fb9f3a"
             ],
             [
              0.8888888888888888,
              "#fdca26"
             ],
             [
              1,
              "#f0f921"
             ]
            ],
            "type": "histogram2d"
           }
          ],
          "histogram2dcontour": [
           {
            "colorbar": {
             "outlinewidth": 0,
             "ticks": ""
            },
            "colorscale": [
             [
              0,
              "#0d0887"
             ],
             [
              0.1111111111111111,
              "#46039f"
             ],
             [
              0.2222222222222222,
              "#7201a8"
             ],
             [
              0.3333333333333333,
              "#9c179e"
             ],
             [
              0.4444444444444444,
              "#bd3786"
             ],
             [
              0.5555555555555556,
              "#d8576b"
             ],
             [
              0.6666666666666666,
              "#ed7953"
             ],
             [
              0.7777777777777778,
              "#fb9f3a"
             ],
             [
              0.8888888888888888,
              "#fdca26"
             ],
             [
              1,
              "#f0f921"
             ]
            ],
            "type": "histogram2dcontour"
           }
          ],
          "mesh3d": [
           {
            "colorbar": {
             "outlinewidth": 0,
             "ticks": ""
            },
            "type": "mesh3d"
           }
          ],
          "parcoords": [
           {
            "line": {
             "colorbar": {
              "outlinewidth": 0,
              "ticks": ""
             }
            },
            "type": "parcoords"
           }
          ],
          "scatter": [
           {
            "marker": {
             "colorbar": {
              "outlinewidth": 0,
              "ticks": ""
             }
            },
            "type": "scatter"
           }
          ],
          "scatter3d": [
           {
            "line": {
             "colorbar": {
              "outlinewidth": 0,
              "ticks": ""
             }
            },
            "marker": {
             "colorbar": {
              "outlinewidth": 0,
              "ticks": ""
             }
            },
            "type": "scatter3d"
           }
          ],
          "scattercarpet": [
           {
            "marker": {
             "colorbar": {
              "outlinewidth": 0,
              "ticks": ""
             }
            },
            "type": "scattercarpet"
           }
          ],
          "scattergeo": [
           {
            "marker": {
             "colorbar": {
              "outlinewidth": 0,
              "ticks": ""
             }
            },
            "type": "scattergeo"
           }
          ],
          "scattergl": [
           {
            "marker": {
             "colorbar": {
              "outlinewidth": 0,
              "ticks": ""
             }
            },
            "type": "scattergl"
           }
          ],
          "scattermapbox": [
           {
            "marker": {
             "colorbar": {
              "outlinewidth": 0,
              "ticks": ""
             }
            },
            "type": "scattermapbox"
           }
          ],
          "scatterpolar": [
           {
            "marker": {
             "colorbar": {
              "outlinewidth": 0,
              "ticks": ""
             }
            },
            "type": "scatterpolar"
           }
          ],
          "scatterpolargl": [
           {
            "marker": {
             "colorbar": {
              "outlinewidth": 0,
              "ticks": ""
             }
            },
            "type": "scatterpolargl"
           }
          ],
          "scatterternary": [
           {
            "marker": {
             "colorbar": {
              "outlinewidth": 0,
              "ticks": ""
             }
            },
            "type": "scatterternary"
           }
          ],
          "surface": [
           {
            "colorbar": {
             "outlinewidth": 0,
             "ticks": ""
            },
            "colorscale": [
             [
              0,
              "#0d0887"
             ],
             [
              0.1111111111111111,
              "#46039f"
             ],
             [
              0.2222222222222222,
              "#7201a8"
             ],
             [
              0.3333333333333333,
              "#9c179e"
             ],
             [
              0.4444444444444444,
              "#bd3786"
             ],
             [
              0.5555555555555556,
              "#d8576b"
             ],
             [
              0.6666666666666666,
              "#ed7953"
             ],
             [
              0.7777777777777778,
              "#fb9f3a"
             ],
             [
              0.8888888888888888,
              "#fdca26"
             ],
             [
              1,
              "#f0f921"
             ]
            ],
            "type": "surface"
           }
          ],
          "table": [
           {
            "cells": {
             "fill": {
              "color": "#EBF0F8"
             },
             "line": {
              "color": "white"
             }
            },
            "header": {
             "fill": {
              "color": "#C8D4E3"
             },
             "line": {
              "color": "white"
             }
            },
            "type": "table"
           }
          ]
         },
         "layout": {
          "annotationdefaults": {
           "arrowcolor": "#2a3f5f",
           "arrowhead": 0,
           "arrowwidth": 1
          },
          "colorscale": {
           "diverging": [
            [
             0,
             "#8e0152"
            ],
            [
             0.1,
             "#c51b7d"
            ],
            [
             0.2,
             "#de77ae"
            ],
            [
             0.3,
             "#f1b6da"
            ],
            [
             0.4,
             "#fde0ef"
            ],
            [
             0.5,
             "#f7f7f7"
            ],
            [
             0.6,
             "#e6f5d0"
            ],
            [
             0.7,
             "#b8e186"
            ],
            [
             0.8,
             "#7fbc41"
            ],
            [
             0.9,
             "#4d9221"
            ],
            [
             1,
             "#276419"
            ]
           ],
           "sequential": [
            [
             0,
             "#0d0887"
            ],
            [
             0.1111111111111111,
             "#46039f"
            ],
            [
             0.2222222222222222,
             "#7201a8"
            ],
            [
             0.3333333333333333,
             "#9c179e"
            ],
            [
             0.4444444444444444,
             "#bd3786"
            ],
            [
             0.5555555555555556,
             "#d8576b"
            ],
            [
             0.6666666666666666,
             "#ed7953"
            ],
            [
             0.7777777777777778,
             "#fb9f3a"
            ],
            [
             0.8888888888888888,
             "#fdca26"
            ],
            [
             1,
             "#f0f921"
            ]
           ],
           "sequentialminus": [
            [
             0,
             "#0d0887"
            ],
            [
             0.1111111111111111,
             "#46039f"
            ],
            [
             0.2222222222222222,
             "#7201a8"
            ],
            [
             0.3333333333333333,
             "#9c179e"
            ],
            [
             0.4444444444444444,
             "#bd3786"
            ],
            [
             0.5555555555555556,
             "#d8576b"
            ],
            [
             0.6666666666666666,
             "#ed7953"
            ],
            [
             0.7777777777777778,
             "#fb9f3a"
            ],
            [
             0.8888888888888888,
             "#fdca26"
            ],
            [
             1,
             "#f0f921"
            ]
           ]
          },
          "colorway": [
           "#636efa",
           "#EF553B",
           "#00cc96",
           "#ab63fa",
           "#FFA15A",
           "#19d3f3",
           "#FF6692",
           "#B6E880",
           "#FF97FF",
           "#FECB52"
          ],
          "font": {
           "color": "#2a3f5f"
          },
          "geo": {
           "bgcolor": "white",
           "lakecolor": "white",
           "landcolor": "#E5ECF6",
           "showlakes": true,
           "showland": true,
           "subunitcolor": "white"
          },
          "hoverlabel": {
           "align": "left"
          },
          "hovermode": "closest",
          "mapbox": {
           "style": "light"
          },
          "paper_bgcolor": "white",
          "plot_bgcolor": "#E5ECF6",
          "polar": {
           "angularaxis": {
            "gridcolor": "white",
            "linecolor": "white",
            "ticks": ""
           },
           "bgcolor": "#E5ECF6",
           "radialaxis": {
            "gridcolor": "white",
            "linecolor": "white",
            "ticks": ""
           }
          },
          "scene": {
           "xaxis": {
            "backgroundcolor": "#E5ECF6",
            "gridcolor": "white",
            "gridwidth": 2,
            "linecolor": "white",
            "showbackground": true,
            "ticks": "",
            "zerolinecolor": "white"
           },
           "yaxis": {
            "backgroundcolor": "#E5ECF6",
            "gridcolor": "white",
            "gridwidth": 2,
            "linecolor": "white",
            "showbackground": true,
            "ticks": "",
            "zerolinecolor": "white"
           },
           "zaxis": {
            "backgroundcolor": "#E5ECF6",
            "gridcolor": "white",
            "gridwidth": 2,
            "linecolor": "white",
            "showbackground": true,
            "ticks": "",
            "zerolinecolor": "white"
           }
          },
          "shapedefaults": {
           "line": {
            "color": "#2a3f5f"
           }
          },
          "ternary": {
           "aaxis": {
            "gridcolor": "white",
            "linecolor": "white",
            "ticks": ""
           },
           "baxis": {
            "gridcolor": "white",
            "linecolor": "white",
            "ticks": ""
           },
           "bgcolor": "#E5ECF6",
           "caxis": {
            "gridcolor": "white",
            "linecolor": "white",
            "ticks": ""
           }
          },
          "title": {
           "x": 0.05
          },
          "xaxis": {
           "automargin": true,
           "gridcolor": "white",
           "linecolor": "white",
           "ticks": "",
           "zerolinecolor": "white",
           "zerolinewidth": 2
          },
          "yaxis": {
           "automargin": true,
           "gridcolor": "white",
           "linecolor": "white",
           "ticks": "",
           "zerolinecolor": "white",
           "zerolinewidth": 2
          }
         }
        }
       }
      },
      "text/html": [
       "<div>\n",
       "        \n",
       "        \n",
       "            <div id=\"5953f8cb-2b84-46b4-9bdd-d0c9d192088f\" class=\"plotly-graph-div\" style=\"height:525px; width:100%;\"></div>\n",
       "            <script type=\"text/javascript\">\n",
       "                require([\"plotly\"], function(Plotly) {\n",
       "                    window.PLOTLYENV=window.PLOTLYENV || {};\n",
       "                    \n",
       "                if (document.getElementById(\"5953f8cb-2b84-46b4-9bdd-d0c9d192088f\")) {\n",
       "                    Plotly.newPlot(\n",
       "                        '5953f8cb-2b84-46b4-9bdd-d0c9d192088f',\n",
       "                        [{\"marker\": {\"color\": \"red\", \"size\": 5}, \"mode\": \"markers\", \"name\": \"Ciphertext Letter Frequencies\", \"type\": \"scatter\", \"x\": [\"\\u0403\", \"\\u0428\", \"\\u041b\", \"\\u0408\", \"\\u0405\", \"\\u040f\", \"\\u0413\", \"\\u0424\", \"\\u0427\", \"\\u0421\", \"\\u040c\", \"\\u0416\", \"\\u0417\", \"\\u0426\", \"\\u0418\", \"\\u041d\", \"\\u0411\", \"\\u0412\", \"\\u0422\", \"\\u0423\", \"\\u0420\", \"\\u0410\", \"\\u041c\", \"\\u040a\", \"\\u041a\", \"\\u041f\"], \"y\": [12.11, 11.55, 9.86, 9.42, 8.55, 7.47, 5.17, 4.91, 4.52, 3.26, 3.17, 3.13, 2.82, 2.21, 2.13, 1.61, 1.61, 1.43, 1.22, 0.96, 0.83, 0.78, 0.43, 0.35, 0.3, 0.22]}, {\"marker\": {\"color\": \"blue\", \"size\": 5}, \"mode\": \"markers\", \"name\": \"Research Letter Frequencies\", \"type\": \"scatter\", \"x\": [\"\\u0410\", \"\\u041e\", \"\\u0418\", \"\\u0415\", \"\\u0422\", \"\\u041d\", \"\\u0420\", \"\\u0421\", \"\\u0412\", \"\\u0414\", \"\\u041a\", \"\\u041b\", \"\\u041f\", \"\\u041c\", \"\\u0423\", \"\\u0417\", \"\\u0408\", \"\\u0413\", \"\\u0411\", \"\\u0427\", \"\\u0428\", \"\\u0426\", \"\\u0416\", \"\\u040a\", \"\\u0424\", \"\\u040c\", \"\\u0425\", \"\\u040f\", \"\\u0409\", \"\\u0405\"], \"y\": [13.293, 10.679, 9.16, 8.945, 7.462, 7.077, 5.09, 4.751, 4.343, 3.911, 3.672, 2.959, 2.926, 2.309, 2.262, 1.979, 1.511, 0.106, 1.434, 0.925, 0.916, 0.857, 0.568, 0.555, 0.347, 0.264, 0.146, 0.025, 0.015, 0.009]}],\n",
       "                        {\"template\": {\"data\": {\"bar\": [{\"error_x\": {\"color\": \"#2a3f5f\"}, \"error_y\": {\"color\": \"#2a3f5f\"}, \"marker\": {\"line\": {\"color\": \"#E5ECF6\", \"width\": 0.5}}, \"type\": \"bar\"}], \"barpolar\": [{\"marker\": {\"line\": {\"color\": \"#E5ECF6\", \"width\": 0.5}}, \"type\": \"barpolar\"}], \"carpet\": [{\"aaxis\": {\"endlinecolor\": \"#2a3f5f\", \"gridcolor\": \"white\", \"linecolor\": \"white\", \"minorgridcolor\": \"white\", \"startlinecolor\": \"#2a3f5f\"}, \"baxis\": {\"endlinecolor\": \"#2a3f5f\", \"gridcolor\": \"white\", \"linecolor\": \"white\", \"minorgridcolor\": \"white\", \"startlinecolor\": \"#2a3f5f\"}, \"type\": \"carpet\"}], \"choropleth\": [{\"colorbar\": {\"outlinewidth\": 0, \"ticks\": \"\"}, \"type\": \"choropleth\"}], \"contour\": [{\"colorbar\": {\"outlinewidth\": 0, \"ticks\": \"\"}, \"colorscale\": [[0.0, \"#0d0887\"], [0.1111111111111111, \"#46039f\"], [0.2222222222222222, \"#7201a8\"], [0.3333333333333333, \"#9c179e\"], [0.4444444444444444, \"#bd3786\"], [0.5555555555555556, \"#d8576b\"], [0.6666666666666666, \"#ed7953\"], [0.7777777777777778, \"#fb9f3a\"], [0.8888888888888888, \"#fdca26\"], [1.0, \"#f0f921\"]], \"type\": \"contour\"}], \"contourcarpet\": [{\"colorbar\": {\"outlinewidth\": 0, \"ticks\": \"\"}, \"type\": \"contourcarpet\"}], \"heatmap\": [{\"colorbar\": {\"outlinewidth\": 0, \"ticks\": \"\"}, \"colorscale\": [[0.0, \"#0d0887\"], [0.1111111111111111, \"#46039f\"], [0.2222222222222222, \"#7201a8\"], [0.3333333333333333, \"#9c179e\"], [0.4444444444444444, \"#bd3786\"], [0.5555555555555556, \"#d8576b\"], [0.6666666666666666, \"#ed7953\"], [0.7777777777777778, \"#fb9f3a\"], [0.8888888888888888, \"#fdca26\"], [1.0, \"#f0f921\"]], \"type\": \"heatmap\"}], \"heatmapgl\": [{\"colorbar\": {\"outlinewidth\": 0, \"ticks\": \"\"}, \"colorscale\": [[0.0, \"#0d0887\"], [0.1111111111111111, \"#46039f\"], [0.2222222222222222, \"#7201a8\"], [0.3333333333333333, \"#9c179e\"], [0.4444444444444444, \"#bd3786\"], [0.5555555555555556, \"#d8576b\"], [0.6666666666666666, \"#ed7953\"], [0.7777777777777778, \"#fb9f3a\"], [0.8888888888888888, \"#fdca26\"], [1.0, \"#f0f921\"]], \"type\": \"heatmapgl\"}], \"histogram\": [{\"marker\": {\"colorbar\": {\"outlinewidth\": 0, \"ticks\": \"\"}}, \"type\": \"histogram\"}], \"histogram2d\": [{\"colorbar\": {\"outlinewidth\": 0, \"ticks\": \"\"}, \"colorscale\": [[0.0, \"#0d0887\"], [0.1111111111111111, \"#46039f\"], [0.2222222222222222, \"#7201a8\"], [0.3333333333333333, \"#9c179e\"], [0.4444444444444444, \"#bd3786\"], [0.5555555555555556, \"#d8576b\"], [0.6666666666666666, \"#ed7953\"], [0.7777777777777778, \"#fb9f3a\"], [0.8888888888888888, \"#fdca26\"], [1.0, \"#f0f921\"]], \"type\": \"histogram2d\"}], \"histogram2dcontour\": [{\"colorbar\": {\"outlinewidth\": 0, \"ticks\": \"\"}, \"colorscale\": [[0.0, \"#0d0887\"], [0.1111111111111111, \"#46039f\"], [0.2222222222222222, \"#7201a8\"], [0.3333333333333333, \"#9c179e\"], [0.4444444444444444, \"#bd3786\"], [0.5555555555555556, \"#d8576b\"], [0.6666666666666666, \"#ed7953\"], [0.7777777777777778, \"#fb9f3a\"], [0.8888888888888888, \"#fdca26\"], [1.0, \"#f0f921\"]], \"type\": \"histogram2dcontour\"}], \"mesh3d\": [{\"colorbar\": {\"outlinewidth\": 0, \"ticks\": \"\"}, \"type\": \"mesh3d\"}], \"parcoords\": [{\"line\": {\"colorbar\": {\"outlinewidth\": 0, \"ticks\": \"\"}}, \"type\": \"parcoords\"}], \"scatter\": [{\"marker\": {\"colorbar\": {\"outlinewidth\": 0, \"ticks\": \"\"}}, \"type\": \"scatter\"}], \"scatter3d\": [{\"line\": {\"colorbar\": {\"outlinewidth\": 0, \"ticks\": \"\"}}, \"marker\": {\"colorbar\": {\"outlinewidth\": 0, \"ticks\": \"\"}}, \"type\": \"scatter3d\"}], \"scattercarpet\": [{\"marker\": {\"colorbar\": {\"outlinewidth\": 0, \"ticks\": \"\"}}, \"type\": \"scattercarpet\"}], \"scattergeo\": [{\"marker\": {\"colorbar\": {\"outlinewidth\": 0, \"ticks\": \"\"}}, \"type\": \"scattergeo\"}], \"scattergl\": [{\"marker\": {\"colorbar\": {\"outlinewidth\": 0, \"ticks\": \"\"}}, \"type\": \"scattergl\"}], \"scattermapbox\": [{\"marker\": {\"colorbar\": {\"outlinewidth\": 0, \"ticks\": \"\"}}, \"type\": \"scattermapbox\"}], \"scatterpolar\": [{\"marker\": {\"colorbar\": {\"outlinewidth\": 0, \"ticks\": \"\"}}, \"type\": \"scatterpolar\"}], \"scatterpolargl\": [{\"marker\": {\"colorbar\": {\"outlinewidth\": 0, \"ticks\": \"\"}}, \"type\": \"scatterpolargl\"}], \"scatterternary\": [{\"marker\": {\"colorbar\": {\"outlinewidth\": 0, \"ticks\": \"\"}}, \"type\": \"scatterternary\"}], \"surface\": [{\"colorbar\": {\"outlinewidth\": 0, \"ticks\": \"\"}, \"colorscale\": [[0.0, \"#0d0887\"], [0.1111111111111111, \"#46039f\"], [0.2222222222222222, \"#7201a8\"], [0.3333333333333333, \"#9c179e\"], [0.4444444444444444, \"#bd3786\"], [0.5555555555555556, \"#d8576b\"], [0.6666666666666666, \"#ed7953\"], [0.7777777777777778, \"#fb9f3a\"], [0.8888888888888888, \"#fdca26\"], [1.0, \"#f0f921\"]], \"type\": \"surface\"}], \"table\": [{\"cells\": {\"fill\": {\"color\": \"#EBF0F8\"}, \"line\": {\"color\": \"white\"}}, \"header\": {\"fill\": {\"color\": \"#C8D4E3\"}, \"line\": {\"color\": \"white\"}}, \"type\": \"table\"}]}, \"layout\": {\"annotationdefaults\": {\"arrowcolor\": \"#2a3f5f\", \"arrowhead\": 0, \"arrowwidth\": 1}, \"colorscale\": {\"diverging\": [[0, \"#8e0152\"], [0.1, \"#c51b7d\"], [0.2, \"#de77ae\"], [0.3, \"#f1b6da\"], [0.4, \"#fde0ef\"], [0.5, \"#f7f7f7\"], [0.6, \"#e6f5d0\"], [0.7, \"#b8e186\"], [0.8, \"#7fbc41\"], [0.9, \"#4d9221\"], [1, \"#276419\"]], \"sequential\": [[0.0, \"#0d0887\"], [0.1111111111111111, \"#46039f\"], [0.2222222222222222, \"#7201a8\"], [0.3333333333333333, \"#9c179e\"], [0.4444444444444444, \"#bd3786\"], [0.5555555555555556, \"#d8576b\"], [0.6666666666666666, \"#ed7953\"], [0.7777777777777778, \"#fb9f3a\"], [0.8888888888888888, \"#fdca26\"], [1.0, \"#f0f921\"]], \"sequentialminus\": [[0.0, \"#0d0887\"], [0.1111111111111111, \"#46039f\"], [0.2222222222222222, \"#7201a8\"], [0.3333333333333333, \"#9c179e\"], [0.4444444444444444, \"#bd3786\"], [0.5555555555555556, \"#d8576b\"], [0.6666666666666666, \"#ed7953\"], [0.7777777777777778, \"#fb9f3a\"], [0.8888888888888888, \"#fdca26\"], [1.0, \"#f0f921\"]]}, \"colorway\": [\"#636efa\", \"#EF553B\", \"#00cc96\", \"#ab63fa\", \"#FFA15A\", \"#19d3f3\", \"#FF6692\", \"#B6E880\", \"#FF97FF\", \"#FECB52\"], \"font\": {\"color\": \"#2a3f5f\"}, \"geo\": {\"bgcolor\": \"white\", \"lakecolor\": \"white\", \"landcolor\": \"#E5ECF6\", \"showlakes\": true, \"showland\": true, \"subunitcolor\": \"white\"}, \"hoverlabel\": {\"align\": \"left\"}, \"hovermode\": \"closest\", \"mapbox\": {\"style\": \"light\"}, \"paper_bgcolor\": \"white\", \"plot_bgcolor\": \"#E5ECF6\", \"polar\": {\"angularaxis\": {\"gridcolor\": \"white\", \"linecolor\": \"white\", \"ticks\": \"\"}, \"bgcolor\": \"#E5ECF6\", \"radialaxis\": {\"gridcolor\": \"white\", \"linecolor\": \"white\", \"ticks\": \"\"}}, \"scene\": {\"xaxis\": {\"backgroundcolor\": \"#E5ECF6\", \"gridcolor\": \"white\", \"gridwidth\": 2, \"linecolor\": \"white\", \"showbackground\": true, \"ticks\": \"\", \"zerolinecolor\": \"white\"}, \"yaxis\": {\"backgroundcolor\": \"#E5ECF6\", \"gridcolor\": \"white\", \"gridwidth\": 2, \"linecolor\": \"white\", \"showbackground\": true, \"ticks\": \"\", \"zerolinecolor\": \"white\"}, \"zaxis\": {\"backgroundcolor\": \"#E5ECF6\", \"gridcolor\": \"white\", \"gridwidth\": 2, \"linecolor\": \"white\", \"showbackground\": true, \"ticks\": \"\", \"zerolinecolor\": \"white\"}}, \"shapedefaults\": {\"line\": {\"color\": \"#2a3f5f\"}}, \"ternary\": {\"aaxis\": {\"gridcolor\": \"white\", \"linecolor\": \"white\", \"ticks\": \"\"}, \"baxis\": {\"gridcolor\": \"white\", \"linecolor\": \"white\", \"ticks\": \"\"}, \"bgcolor\": \"#E5ECF6\", \"caxis\": {\"gridcolor\": \"white\", \"linecolor\": \"white\", \"ticks\": \"\"}}, \"title\": {\"x\": 0.05}, \"xaxis\": {\"automargin\": true, \"gridcolor\": \"white\", \"linecolor\": \"white\", \"ticks\": \"\", \"zerolinecolor\": \"white\", \"zerolinewidth\": 2}, \"yaxis\": {\"automargin\": true, \"gridcolor\": \"white\", \"linecolor\": \"white\", \"ticks\": \"\", \"zerolinecolor\": \"white\", \"zerolinewidth\": 2}}}},\n",
       "                        {\"responsive\": true}\n",
       "                    ).then(function(){\n",
       "                            \n",
       "var gd = document.getElementById('5953f8cb-2b84-46b4-9bdd-d0c9d192088f');\n",
       "var x = new MutationObserver(function (mutations, observer) {{\n",
       "        var display = window.getComputedStyle(gd).display;\n",
       "        if (!display || display === 'none') {{\n",
       "            console.log([gd, 'removed!']);\n",
       "            Plotly.purge(gd);\n",
       "            observer.disconnect();\n",
       "        }}\n",
       "}});\n",
       "\n",
       "// Listen for the removal of the full notebook cells\n",
       "var notebookContainer = gd.closest('#notebook-container');\n",
       "if (notebookContainer) {{\n",
       "    x.observe(notebookContainer, {childList: true});\n",
       "}}\n",
       "\n",
       "// Listen for the clearing of the current output cell\n",
       "var outputEl = gd.closest('.output');\n",
       "if (outputEl) {{\n",
       "    x.observe(outputEl, {childList: true});\n",
       "}}\n",
       "\n",
       "                        })\n",
       "                };\n",
       "                });\n",
       "            </script>\n",
       "        </div>"
      ]
     },
     "metadata": {},
     "output_type": "display_data"
    }
   ],
   "source": [
    "# Ќе дадеме графички приказ на фреквенциите на буквите од дадениот ciphertext и од податоците од истражувањето\n",
    "# за да видиме некаква потенцијална корелација\n",
    "\n",
    "ciphertext_letter_frequencies = {\n",
    "    \"x\": x,\n",
    "    \"y\": y,\n",
    "    \"mode\": \"markers\",\n",
    "    \"marker\": {\"color\": \"red\", \"size\": 5},\n",
    "    \"name\": \"Ciphertext Letter Frequencies\"\n",
    "}\n",
    "research_letter_frequencies = {\n",
    "    \"x\": list(unigrams.keys()),\n",
    "    \"y\": list(unigrams.values()),\n",
    "    \"mode\": \"markers\",\n",
    "    \"marker\": {\"color\": \"blue\", \"size\": 5},\n",
    "    \"name\": \"Research Letter Frequencies\"\n",
    "}\n",
    "data = [ciphertext_letter_frequencies,research_letter_frequencies]\n",
    "\n",
    "iplot(data)"
   ]
  },
  {
   "cell_type": "code",
   "execution_count": 314,
   "metadata": {
    "ExecuteTime": {
     "end_time": "2019-11-03T20:03:28.275663Z",
     "start_time": "2019-11-03T20:03:28.268681Z"
    }
   },
   "outputs": [],
   "source": [
    "def find_bigrams_frequencies(ciphertext):\n",
    "    bigram_frequencies = dict()\n",
    "    for i in range(len(ciphertext)-1):\n",
    "        bigram = ciphertext[i] + ciphertext[i+1]\n",
    "        if bigram not in bigram_frequencies:\n",
    "            bigram_frequencies[bigram] = 1\n",
    "        else:\n",
    "            bigram_frequencies[bigram] += 1\n",
    "    \n",
    "    total_bigrams = len(ciphertext)-1\n",
    "    \n",
    "    for bigram in bigram_frequencies:\n",
    "        # print(letter_frequencies[character], ciphertext_length)\n",
    "        bigram_frequencies[bigram]=round(bigram_frequencies[bigram]/total_bigrams*100,2)\n",
    "        \n",
    "    # SORT\n",
    "    frequencies = list(bigram_frequencies.items())\n",
    "    frequencies.sort(key=lambda item:item[1], reverse=True)\n",
    "    \n",
    "    return frequencies"
   ]
  },
  {
   "cell_type": "code",
   "execution_count": 315,
   "metadata": {
    "ExecuteTime": {
     "end_time": "2019-11-03T20:03:28.401327Z",
     "start_time": "2019-11-03T20:03:28.277657Z"
    }
   },
   "outputs": [
    {
     "data": {
      "application/vnd.plotly.v1+json": {
       "config": {
        "plotlyServerURL": "https://plot.ly"
       },
       "data": [
        {
         "type": "bar",
         "x": [
          "ЃЅ",
          "ЅШ",
          "ЛЏ",
          "ЛЃ",
          "ШЛ",
          "ФЛ",
          "ГЈ",
          "ШЃ",
          "ГЃ",
          "ЃЛ",
          "ГШ",
          "ЃГ",
          "ЏЧ",
          "ЅЃ",
          "ЈЧ",
          "ЛШ",
          "ЏЅ",
          "СЈ",
          "ЈЌ",
          "ЗШ",
          "ФГ",
          "ШГ",
          "ЃЃ",
          "ЧФ",
          "ЅЈ",
          "СШ",
          "ЏЛ",
          "ЈЛ",
          "ЧЗ",
          "НЈ",
          "ЈФ",
          "ЧШ",
          "ЃФ",
          "ЖЛ",
          "ЏЌ",
          "ВШ",
          "ЌЃ",
          "ЛЈ",
          "ЅН",
          "ЛЖ",
          "ЦЈ",
          "ЈЗ",
          "ШЅ",
          "ШФ",
          "ЃЈ",
          "ЈЃ",
          "ЈС",
          "ЈЅ",
          "ЦБ",
          "ЛС"
         ],
         "y": [
          3.17,
          3.04,
          2.43,
          2.39,
          2.26,
          2.04,
          1.43,
          1.39,
          1.39,
          1.39,
          1.39,
          1.35,
          1.3,
          1.26,
          1.22,
          1.22,
          1.17,
          1.17,
          1.13,
          1.09,
          1.09,
          1,
          1,
          1,
          1,
          1,
          0.96,
          0.96,
          0.96,
          0.91,
          0.91,
          0.91,
          0.91,
          0.87,
          0.87,
          0.83,
          0.83,
          0.74,
          0.74,
          0.74,
          0.74,
          0.7,
          0.7,
          0.7,
          0.7,
          0.61,
          0.61,
          0.61,
          0.56,
          0.56
         ]
        }
       ],
       "layout": {
        "template": {
         "data": {
          "bar": [
           {
            "error_x": {
             "color": "#2a3f5f"
            },
            "error_y": {
             "color": "#2a3f5f"
            },
            "marker": {
             "line": {
              "color": "#E5ECF6",
              "width": 0.5
             }
            },
            "type": "bar"
           }
          ],
          "barpolar": [
           {
            "marker": {
             "line": {
              "color": "#E5ECF6",
              "width": 0.5
             }
            },
            "type": "barpolar"
           }
          ],
          "carpet": [
           {
            "aaxis": {
             "endlinecolor": "#2a3f5f",
             "gridcolor": "white",
             "linecolor": "white",
             "minorgridcolor": "white",
             "startlinecolor": "#2a3f5f"
            },
            "baxis": {
             "endlinecolor": "#2a3f5f",
             "gridcolor": "white",
             "linecolor": "white",
             "minorgridcolor": "white",
             "startlinecolor": "#2a3f5f"
            },
            "type": "carpet"
           }
          ],
          "choropleth": [
           {
            "colorbar": {
             "outlinewidth": 0,
             "ticks": ""
            },
            "type": "choropleth"
           }
          ],
          "contour": [
           {
            "colorbar": {
             "outlinewidth": 0,
             "ticks": ""
            },
            "colorscale": [
             [
              0,
              "#0d0887"
             ],
             [
              0.1111111111111111,
              "#46039f"
             ],
             [
              0.2222222222222222,
              "#7201a8"
             ],
             [
              0.3333333333333333,
              "#9c179e"
             ],
             [
              0.4444444444444444,
              "#bd3786"
             ],
             [
              0.5555555555555556,
              "#d8576b"
             ],
             [
              0.6666666666666666,
              "#ed7953"
             ],
             [
              0.7777777777777778,
              "#fb9f3a"
             ],
             [
              0.8888888888888888,
              "#fdca26"
             ],
             [
              1,
              "#f0f921"
             ]
            ],
            "type": "contour"
           }
          ],
          "contourcarpet": [
           {
            "colorbar": {
             "outlinewidth": 0,
             "ticks": ""
            },
            "type": "contourcarpet"
           }
          ],
          "heatmap": [
           {
            "colorbar": {
             "outlinewidth": 0,
             "ticks": ""
            },
            "colorscale": [
             [
              0,
              "#0d0887"
             ],
             [
              0.1111111111111111,
              "#46039f"
             ],
             [
              0.2222222222222222,
              "#7201a8"
             ],
             [
              0.3333333333333333,
              "#9c179e"
             ],
             [
              0.4444444444444444,
              "#bd3786"
             ],
             [
              0.5555555555555556,
              "#d8576b"
             ],
             [
              0.6666666666666666,
              "#ed7953"
             ],
             [
              0.7777777777777778,
              "#fb9f3a"
             ],
             [
              0.8888888888888888,
              "#fdca26"
             ],
             [
              1,
              "#f0f921"
             ]
            ],
            "type": "heatmap"
           }
          ],
          "heatmapgl": [
           {
            "colorbar": {
             "outlinewidth": 0,
             "ticks": ""
            },
            "colorscale": [
             [
              0,
              "#0d0887"
             ],
             [
              0.1111111111111111,
              "#46039f"
             ],
             [
              0.2222222222222222,
              "#7201a8"
             ],
             [
              0.3333333333333333,
              "#9c179e"
             ],
             [
              0.4444444444444444,
              "#bd3786"
             ],
             [
              0.5555555555555556,
              "#d8576b"
             ],
             [
              0.6666666666666666,
              "#ed7953"
             ],
             [
              0.7777777777777778,
              "#fb9f3a"
             ],
             [
              0.8888888888888888,
              "#fdca26"
             ],
             [
              1,
              "#f0f921"
             ]
            ],
            "type": "heatmapgl"
           }
          ],
          "histogram": [
           {
            "marker": {
             "colorbar": {
              "outlinewidth": 0,
              "ticks": ""
             }
            },
            "type": "histogram"
           }
          ],
          "histogram2d": [
           {
            "colorbar": {
             "outlinewidth": 0,
             "ticks": ""
            },
            "colorscale": [
             [
              0,
              "#0d0887"
             ],
             [
              0.1111111111111111,
              "#46039f"
             ],
             [
              0.2222222222222222,
              "#7201a8"
             ],
             [
              0.3333333333333333,
              "#9c179e"
             ],
             [
              0.4444444444444444,
              "#bd3786"
             ],
             [
              0.5555555555555556,
              "#d8576b"
             ],
             [
              0.6666666666666666,
              "#ed7953"
             ],
             [
              0.7777777777777778,
              "#fb9f3a"
             ],
             [
              0.8888888888888888,
              "#fdca26"
             ],
             [
              1,
              "#f0f921"
             ]
            ],
            "type": "histogram2d"
           }
          ],
          "histogram2dcontour": [
           {
            "colorbar": {
             "outlinewidth": 0,
             "ticks": ""
            },
            "colorscale": [
             [
              0,
              "#0d0887"
             ],
             [
              0.1111111111111111,
              "#46039f"
             ],
             [
              0.2222222222222222,
              "#7201a8"
             ],
             [
              0.3333333333333333,
              "#9c179e"
             ],
             [
              0.4444444444444444,
              "#bd3786"
             ],
             [
              0.5555555555555556,
              "#d8576b"
             ],
             [
              0.6666666666666666,
              "#ed7953"
             ],
             [
              0.7777777777777778,
              "#fb9f3a"
             ],
             [
              0.8888888888888888,
              "#fdca26"
             ],
             [
              1,
              "#f0f921"
             ]
            ],
            "type": "histogram2dcontour"
           }
          ],
          "mesh3d": [
           {
            "colorbar": {
             "outlinewidth": 0,
             "ticks": ""
            },
            "type": "mesh3d"
           }
          ],
          "parcoords": [
           {
            "line": {
             "colorbar": {
              "outlinewidth": 0,
              "ticks": ""
             }
            },
            "type": "parcoords"
           }
          ],
          "scatter": [
           {
            "marker": {
             "colorbar": {
              "outlinewidth": 0,
              "ticks": ""
             }
            },
            "type": "scatter"
           }
          ],
          "scatter3d": [
           {
            "line": {
             "colorbar": {
              "outlinewidth": 0,
              "ticks": ""
             }
            },
            "marker": {
             "colorbar": {
              "outlinewidth": 0,
              "ticks": ""
             }
            },
            "type": "scatter3d"
           }
          ],
          "scattercarpet": [
           {
            "marker": {
             "colorbar": {
              "outlinewidth": 0,
              "ticks": ""
             }
            },
            "type": "scattercarpet"
           }
          ],
          "scattergeo": [
           {
            "marker": {
             "colorbar": {
              "outlinewidth": 0,
              "ticks": ""
             }
            },
            "type": "scattergeo"
           }
          ],
          "scattergl": [
           {
            "marker": {
             "colorbar": {
              "outlinewidth": 0,
              "ticks": ""
             }
            },
            "type": "scattergl"
           }
          ],
          "scattermapbox": [
           {
            "marker": {
             "colorbar": {
              "outlinewidth": 0,
              "ticks": ""
             }
            },
            "type": "scattermapbox"
           }
          ],
          "scatterpolar": [
           {
            "marker": {
             "colorbar": {
              "outlinewidth": 0,
              "ticks": ""
             }
            },
            "type": "scatterpolar"
           }
          ],
          "scatterpolargl": [
           {
            "marker": {
             "colorbar": {
              "outlinewidth": 0,
              "ticks": ""
             }
            },
            "type": "scatterpolargl"
           }
          ],
          "scatterternary": [
           {
            "marker": {
             "colorbar": {
              "outlinewidth": 0,
              "ticks": ""
             }
            },
            "type": "scatterternary"
           }
          ],
          "surface": [
           {
            "colorbar": {
             "outlinewidth": 0,
             "ticks": ""
            },
            "colorscale": [
             [
              0,
              "#0d0887"
             ],
             [
              0.1111111111111111,
              "#46039f"
             ],
             [
              0.2222222222222222,
              "#7201a8"
             ],
             [
              0.3333333333333333,
              "#9c179e"
             ],
             [
              0.4444444444444444,
              "#bd3786"
             ],
             [
              0.5555555555555556,
              "#d8576b"
             ],
             [
              0.6666666666666666,
              "#ed7953"
             ],
             [
              0.7777777777777778,
              "#fb9f3a"
             ],
             [
              0.8888888888888888,
              "#fdca26"
             ],
             [
              1,
              "#f0f921"
             ]
            ],
            "type": "surface"
           }
          ],
          "table": [
           {
            "cells": {
             "fill": {
              "color": "#EBF0F8"
             },
             "line": {
              "color": "white"
             }
            },
            "header": {
             "fill": {
              "color": "#C8D4E3"
             },
             "line": {
              "color": "white"
             }
            },
            "type": "table"
           }
          ]
         },
         "layout": {
          "annotationdefaults": {
           "arrowcolor": "#2a3f5f",
           "arrowhead": 0,
           "arrowwidth": 1
          },
          "colorscale": {
           "diverging": [
            [
             0,
             "#8e0152"
            ],
            [
             0.1,
             "#c51b7d"
            ],
            [
             0.2,
             "#de77ae"
            ],
            [
             0.3,
             "#f1b6da"
            ],
            [
             0.4,
             "#fde0ef"
            ],
            [
             0.5,
             "#f7f7f7"
            ],
            [
             0.6,
             "#e6f5d0"
            ],
            [
             0.7,
             "#b8e186"
            ],
            [
             0.8,
             "#7fbc41"
            ],
            [
             0.9,
             "#4d9221"
            ],
            [
             1,
             "#276419"
            ]
           ],
           "sequential": [
            [
             0,
             "#0d0887"
            ],
            [
             0.1111111111111111,
             "#46039f"
            ],
            [
             0.2222222222222222,
             "#7201a8"
            ],
            [
             0.3333333333333333,
             "#9c179e"
            ],
            [
             0.4444444444444444,
             "#bd3786"
            ],
            [
             0.5555555555555556,
             "#d8576b"
            ],
            [
             0.6666666666666666,
             "#ed7953"
            ],
            [
             0.7777777777777778,
             "#fb9f3a"
            ],
            [
             0.8888888888888888,
             "#fdca26"
            ],
            [
             1,
             "#f0f921"
            ]
           ],
           "sequentialminus": [
            [
             0,
             "#0d0887"
            ],
            [
             0.1111111111111111,
             "#46039f"
            ],
            [
             0.2222222222222222,
             "#7201a8"
            ],
            [
             0.3333333333333333,
             "#9c179e"
            ],
            [
             0.4444444444444444,
             "#bd3786"
            ],
            [
             0.5555555555555556,
             "#d8576b"
            ],
            [
             0.6666666666666666,
             "#ed7953"
            ],
            [
             0.7777777777777778,
             "#fb9f3a"
            ],
            [
             0.8888888888888888,
             "#fdca26"
            ],
            [
             1,
             "#f0f921"
            ]
           ]
          },
          "colorway": [
           "#636efa",
           "#EF553B",
           "#00cc96",
           "#ab63fa",
           "#FFA15A",
           "#19d3f3",
           "#FF6692",
           "#B6E880",
           "#FF97FF",
           "#FECB52"
          ],
          "font": {
           "color": "#2a3f5f"
          },
          "geo": {
           "bgcolor": "white",
           "lakecolor": "white",
           "landcolor": "#E5ECF6",
           "showlakes": true,
           "showland": true,
           "subunitcolor": "white"
          },
          "hoverlabel": {
           "align": "left"
          },
          "hovermode": "closest",
          "mapbox": {
           "style": "light"
          },
          "paper_bgcolor": "white",
          "plot_bgcolor": "#E5ECF6",
          "polar": {
           "angularaxis": {
            "gridcolor": "white",
            "linecolor": "white",
            "ticks": ""
           },
           "bgcolor": "#E5ECF6",
           "radialaxis": {
            "gridcolor": "white",
            "linecolor": "white",
            "ticks": ""
           }
          },
          "scene": {
           "xaxis": {
            "backgroundcolor": "#E5ECF6",
            "gridcolor": "white",
            "gridwidth": 2,
            "linecolor": "white",
            "showbackground": true,
            "ticks": "",
            "zerolinecolor": "white"
           },
           "yaxis": {
            "backgroundcolor": "#E5ECF6",
            "gridcolor": "white",
            "gridwidth": 2,
            "linecolor": "white",
            "showbackground": true,
            "ticks": "",
            "zerolinecolor": "white"
           },
           "zaxis": {
            "backgroundcolor": "#E5ECF6",
            "gridcolor": "white",
            "gridwidth": 2,
            "linecolor": "white",
            "showbackground": true,
            "ticks": "",
            "zerolinecolor": "white"
           }
          },
          "shapedefaults": {
           "line": {
            "color": "#2a3f5f"
           }
          },
          "ternary": {
           "aaxis": {
            "gridcolor": "white",
            "linecolor": "white",
            "ticks": ""
           },
           "baxis": {
            "gridcolor": "white",
            "linecolor": "white",
            "ticks": ""
           },
           "bgcolor": "#E5ECF6",
           "caxis": {
            "gridcolor": "white",
            "linecolor": "white",
            "ticks": ""
           }
          },
          "title": {
           "x": 0.05
          },
          "xaxis": {
           "automargin": true,
           "gridcolor": "white",
           "linecolor": "white",
           "ticks": "",
           "zerolinecolor": "white",
           "zerolinewidth": 2
          },
          "yaxis": {
           "automargin": true,
           "gridcolor": "white",
           "linecolor": "white",
           "ticks": "",
           "zerolinecolor": "white",
           "zerolinewidth": 2
          }
         }
        }
       }
      },
      "text/html": [
       "<div>\n",
       "        \n",
       "        \n",
       "            <div id=\"48bf1ee7-fe9b-46ba-b231-5dad37854aa0\" class=\"plotly-graph-div\" style=\"height:525px; width:100%;\"></div>\n",
       "            <script type=\"text/javascript\">\n",
       "                require([\"plotly\"], function(Plotly) {\n",
       "                    window.PLOTLYENV=window.PLOTLYENV || {};\n",
       "                    \n",
       "                if (document.getElementById(\"48bf1ee7-fe9b-46ba-b231-5dad37854aa0\")) {\n",
       "                    Plotly.newPlot(\n",
       "                        '48bf1ee7-fe9b-46ba-b231-5dad37854aa0',\n",
       "                        [{\"type\": \"bar\", \"x\": [\"\\u0403\\u0405\", \"\\u0405\\u0428\", \"\\u041b\\u040f\", \"\\u041b\\u0403\", \"\\u0428\\u041b\", \"\\u0424\\u041b\", \"\\u0413\\u0408\", \"\\u0428\\u0403\", \"\\u0413\\u0403\", \"\\u0403\\u041b\", \"\\u0413\\u0428\", \"\\u0403\\u0413\", \"\\u040f\\u0427\", \"\\u0405\\u0403\", \"\\u0408\\u0427\", \"\\u041b\\u0428\", \"\\u040f\\u0405\", \"\\u0421\\u0408\", \"\\u0408\\u040c\", \"\\u0417\\u0428\", \"\\u0424\\u0413\", \"\\u0428\\u0413\", \"\\u0403\\u0403\", \"\\u0427\\u0424\", \"\\u0405\\u0408\", \"\\u0421\\u0428\", \"\\u040f\\u041b\", \"\\u0408\\u041b\", \"\\u0427\\u0417\", \"\\u041d\\u0408\", \"\\u0408\\u0424\", \"\\u0427\\u0428\", \"\\u0403\\u0424\", \"\\u0416\\u041b\", \"\\u040f\\u040c\", \"\\u0412\\u0428\", \"\\u040c\\u0403\", \"\\u041b\\u0408\", \"\\u0405\\u041d\", \"\\u041b\\u0416\", \"\\u0426\\u0408\", \"\\u0408\\u0417\", \"\\u0428\\u0405\", \"\\u0428\\u0424\", \"\\u0403\\u0408\", \"\\u0408\\u0403\", \"\\u0408\\u0421\", \"\\u0408\\u0405\", \"\\u0426\\u0411\", \"\\u041b\\u0421\"], \"y\": [3.17, 3.04, 2.43, 2.39, 2.26, 2.04, 1.43, 1.39, 1.39, 1.39, 1.39, 1.35, 1.3, 1.26, 1.22, 1.22, 1.17, 1.17, 1.13, 1.09, 1.09, 1.0, 1.0, 1.0, 1.0, 1.0, 0.96, 0.96, 0.96, 0.91, 0.91, 0.91, 0.91, 0.87, 0.87, 0.83, 0.83, 0.74, 0.74, 0.74, 0.74, 0.7, 0.7, 0.7, 0.7, 0.61, 0.61, 0.61, 0.56, 0.56]}],\n",
       "                        {\"template\": {\"data\": {\"bar\": [{\"error_x\": {\"color\": \"#2a3f5f\"}, \"error_y\": {\"color\": \"#2a3f5f\"}, \"marker\": {\"line\": {\"color\": \"#E5ECF6\", \"width\": 0.5}}, \"type\": \"bar\"}], \"barpolar\": [{\"marker\": {\"line\": {\"color\": \"#E5ECF6\", \"width\": 0.5}}, \"type\": \"barpolar\"}], \"carpet\": [{\"aaxis\": {\"endlinecolor\": \"#2a3f5f\", \"gridcolor\": \"white\", \"linecolor\": \"white\", \"minorgridcolor\": \"white\", \"startlinecolor\": \"#2a3f5f\"}, \"baxis\": {\"endlinecolor\": \"#2a3f5f\", \"gridcolor\": \"white\", \"linecolor\": \"white\", \"minorgridcolor\": \"white\", \"startlinecolor\": \"#2a3f5f\"}, \"type\": \"carpet\"}], \"choropleth\": [{\"colorbar\": {\"outlinewidth\": 0, \"ticks\": \"\"}, \"type\": \"choropleth\"}], \"contour\": [{\"colorbar\": {\"outlinewidth\": 0, \"ticks\": \"\"}, \"colorscale\": [[0.0, \"#0d0887\"], [0.1111111111111111, \"#46039f\"], [0.2222222222222222, \"#7201a8\"], [0.3333333333333333, \"#9c179e\"], [0.4444444444444444, \"#bd3786\"], [0.5555555555555556, \"#d8576b\"], [0.6666666666666666, \"#ed7953\"], [0.7777777777777778, \"#fb9f3a\"], [0.8888888888888888, \"#fdca26\"], [1.0, \"#f0f921\"]], \"type\": \"contour\"}], \"contourcarpet\": [{\"colorbar\": {\"outlinewidth\": 0, \"ticks\": \"\"}, \"type\": \"contourcarpet\"}], \"heatmap\": [{\"colorbar\": {\"outlinewidth\": 0, \"ticks\": \"\"}, \"colorscale\": [[0.0, \"#0d0887\"], [0.1111111111111111, \"#46039f\"], [0.2222222222222222, \"#7201a8\"], [0.3333333333333333, \"#9c179e\"], [0.4444444444444444, \"#bd3786\"], [0.5555555555555556, \"#d8576b\"], [0.6666666666666666, \"#ed7953\"], [0.7777777777777778, \"#fb9f3a\"], [0.8888888888888888, \"#fdca26\"], [1.0, \"#f0f921\"]], \"type\": \"heatmap\"}], \"heatmapgl\": [{\"colorbar\": {\"outlinewidth\": 0, \"ticks\": \"\"}, \"colorscale\": [[0.0, \"#0d0887\"], [0.1111111111111111, \"#46039f\"], [0.2222222222222222, \"#7201a8\"], [0.3333333333333333, \"#9c179e\"], [0.4444444444444444, \"#bd3786\"], [0.5555555555555556, \"#d8576b\"], [0.6666666666666666, \"#ed7953\"], [0.7777777777777778, \"#fb9f3a\"], [0.8888888888888888, \"#fdca26\"], [1.0, \"#f0f921\"]], \"type\": \"heatmapgl\"}], \"histogram\": [{\"marker\": {\"colorbar\": {\"outlinewidth\": 0, \"ticks\": \"\"}}, \"type\": \"histogram\"}], \"histogram2d\": [{\"colorbar\": {\"outlinewidth\": 0, \"ticks\": \"\"}, \"colorscale\": [[0.0, \"#0d0887\"], [0.1111111111111111, \"#46039f\"], [0.2222222222222222, \"#7201a8\"], [0.3333333333333333, \"#9c179e\"], [0.4444444444444444, \"#bd3786\"], [0.5555555555555556, \"#d8576b\"], [0.6666666666666666, \"#ed7953\"], [0.7777777777777778, \"#fb9f3a\"], [0.8888888888888888, \"#fdca26\"], [1.0, \"#f0f921\"]], \"type\": \"histogram2d\"}], \"histogram2dcontour\": [{\"colorbar\": {\"outlinewidth\": 0, \"ticks\": \"\"}, \"colorscale\": [[0.0, \"#0d0887\"], [0.1111111111111111, \"#46039f\"], [0.2222222222222222, \"#7201a8\"], [0.3333333333333333, \"#9c179e\"], [0.4444444444444444, \"#bd3786\"], [0.5555555555555556, \"#d8576b\"], [0.6666666666666666, \"#ed7953\"], [0.7777777777777778, \"#fb9f3a\"], [0.8888888888888888, \"#fdca26\"], [1.0, \"#f0f921\"]], \"type\": \"histogram2dcontour\"}], \"mesh3d\": [{\"colorbar\": {\"outlinewidth\": 0, \"ticks\": \"\"}, \"type\": \"mesh3d\"}], \"parcoords\": [{\"line\": {\"colorbar\": {\"outlinewidth\": 0, \"ticks\": \"\"}}, \"type\": \"parcoords\"}], \"scatter\": [{\"marker\": {\"colorbar\": {\"outlinewidth\": 0, \"ticks\": \"\"}}, \"type\": \"scatter\"}], \"scatter3d\": [{\"line\": {\"colorbar\": {\"outlinewidth\": 0, \"ticks\": \"\"}}, \"marker\": {\"colorbar\": {\"outlinewidth\": 0, \"ticks\": \"\"}}, \"type\": \"scatter3d\"}], \"scattercarpet\": [{\"marker\": {\"colorbar\": {\"outlinewidth\": 0, \"ticks\": \"\"}}, \"type\": \"scattercarpet\"}], \"scattergeo\": [{\"marker\": {\"colorbar\": {\"outlinewidth\": 0, \"ticks\": \"\"}}, \"type\": \"scattergeo\"}], \"scattergl\": [{\"marker\": {\"colorbar\": {\"outlinewidth\": 0, \"ticks\": \"\"}}, \"type\": \"scattergl\"}], \"scattermapbox\": [{\"marker\": {\"colorbar\": {\"outlinewidth\": 0, \"ticks\": \"\"}}, \"type\": \"scattermapbox\"}], \"scatterpolar\": [{\"marker\": {\"colorbar\": {\"outlinewidth\": 0, \"ticks\": \"\"}}, \"type\": \"scatterpolar\"}], \"scatterpolargl\": [{\"marker\": {\"colorbar\": {\"outlinewidth\": 0, \"ticks\": \"\"}}, \"type\": \"scatterpolargl\"}], \"scatterternary\": [{\"marker\": {\"colorbar\": {\"outlinewidth\": 0, \"ticks\": \"\"}}, \"type\": \"scatterternary\"}], \"surface\": [{\"colorbar\": {\"outlinewidth\": 0, \"ticks\": \"\"}, \"colorscale\": [[0.0, \"#0d0887\"], [0.1111111111111111, \"#46039f\"], [0.2222222222222222, \"#7201a8\"], [0.3333333333333333, \"#9c179e\"], [0.4444444444444444, \"#bd3786\"], [0.5555555555555556, \"#d8576b\"], [0.6666666666666666, \"#ed7953\"], [0.7777777777777778, \"#fb9f3a\"], [0.8888888888888888, \"#fdca26\"], [1.0, \"#f0f921\"]], \"type\": \"surface\"}], \"table\": [{\"cells\": {\"fill\": {\"color\": \"#EBF0F8\"}, \"line\": {\"color\": \"white\"}}, \"header\": {\"fill\": {\"color\": \"#C8D4E3\"}, \"line\": {\"color\": \"white\"}}, \"type\": \"table\"}]}, \"layout\": {\"annotationdefaults\": {\"arrowcolor\": \"#2a3f5f\", \"arrowhead\": 0, \"arrowwidth\": 1}, \"colorscale\": {\"diverging\": [[0, \"#8e0152\"], [0.1, \"#c51b7d\"], [0.2, \"#de77ae\"], [0.3, \"#f1b6da\"], [0.4, \"#fde0ef\"], [0.5, \"#f7f7f7\"], [0.6, \"#e6f5d0\"], [0.7, \"#b8e186\"], [0.8, \"#7fbc41\"], [0.9, \"#4d9221\"], [1, \"#276419\"]], \"sequential\": [[0.0, \"#0d0887\"], [0.1111111111111111, \"#46039f\"], [0.2222222222222222, \"#7201a8\"], [0.3333333333333333, \"#9c179e\"], [0.4444444444444444, \"#bd3786\"], [0.5555555555555556, \"#d8576b\"], [0.6666666666666666, \"#ed7953\"], [0.7777777777777778, \"#fb9f3a\"], [0.8888888888888888, \"#fdca26\"], [1.0, \"#f0f921\"]], \"sequentialminus\": [[0.0, \"#0d0887\"], [0.1111111111111111, \"#46039f\"], [0.2222222222222222, \"#7201a8\"], [0.3333333333333333, \"#9c179e\"], [0.4444444444444444, \"#bd3786\"], [0.5555555555555556, \"#d8576b\"], [0.6666666666666666, \"#ed7953\"], [0.7777777777777778, \"#fb9f3a\"], [0.8888888888888888, \"#fdca26\"], [1.0, \"#f0f921\"]]}, \"colorway\": [\"#636efa\", \"#EF553B\", \"#00cc96\", \"#ab63fa\", \"#FFA15A\", \"#19d3f3\", \"#FF6692\", \"#B6E880\", \"#FF97FF\", \"#FECB52\"], \"font\": {\"color\": \"#2a3f5f\"}, \"geo\": {\"bgcolor\": \"white\", \"lakecolor\": \"white\", \"landcolor\": \"#E5ECF6\", \"showlakes\": true, \"showland\": true, \"subunitcolor\": \"white\"}, \"hoverlabel\": {\"align\": \"left\"}, \"hovermode\": \"closest\", \"mapbox\": {\"style\": \"light\"}, \"paper_bgcolor\": \"white\", \"plot_bgcolor\": \"#E5ECF6\", \"polar\": {\"angularaxis\": {\"gridcolor\": \"white\", \"linecolor\": \"white\", \"ticks\": \"\"}, \"bgcolor\": \"#E5ECF6\", \"radialaxis\": {\"gridcolor\": \"white\", \"linecolor\": \"white\", \"ticks\": \"\"}}, \"scene\": {\"xaxis\": {\"backgroundcolor\": \"#E5ECF6\", \"gridcolor\": \"white\", \"gridwidth\": 2, \"linecolor\": \"white\", \"showbackground\": true, \"ticks\": \"\", \"zerolinecolor\": \"white\"}, \"yaxis\": {\"backgroundcolor\": \"#E5ECF6\", \"gridcolor\": \"white\", \"gridwidth\": 2, \"linecolor\": \"white\", \"showbackground\": true, \"ticks\": \"\", \"zerolinecolor\": \"white\"}, \"zaxis\": {\"backgroundcolor\": \"#E5ECF6\", \"gridcolor\": \"white\", \"gridwidth\": 2, \"linecolor\": \"white\", \"showbackground\": true, \"ticks\": \"\", \"zerolinecolor\": \"white\"}}, \"shapedefaults\": {\"line\": {\"color\": \"#2a3f5f\"}}, \"ternary\": {\"aaxis\": {\"gridcolor\": \"white\", \"linecolor\": \"white\", \"ticks\": \"\"}, \"baxis\": {\"gridcolor\": \"white\", \"linecolor\": \"white\", \"ticks\": \"\"}, \"bgcolor\": \"#E5ECF6\", \"caxis\": {\"gridcolor\": \"white\", \"linecolor\": \"white\", \"ticks\": \"\"}}, \"title\": {\"x\": 0.05}, \"xaxis\": {\"automargin\": true, \"gridcolor\": \"white\", \"linecolor\": \"white\", \"ticks\": \"\", \"zerolinecolor\": \"white\", \"zerolinewidth\": 2}, \"yaxis\": {\"automargin\": true, \"gridcolor\": \"white\", \"linecolor\": \"white\", \"ticks\": \"\", \"zerolinecolor\": \"white\", \"zerolinewidth\": 2}}}},\n",
       "                        {\"responsive\": true}\n",
       "                    ).then(function(){\n",
       "                            \n",
       "var gd = document.getElementById('48bf1ee7-fe9b-46ba-b231-5dad37854aa0');\n",
       "var x = new MutationObserver(function (mutations, observer) {{\n",
       "        var display = window.getComputedStyle(gd).display;\n",
       "        if (!display || display === 'none') {{\n",
       "            console.log([gd, 'removed!']);\n",
       "            Plotly.purge(gd);\n",
       "            observer.disconnect();\n",
       "        }}\n",
       "}});\n",
       "\n",
       "// Listen for the removal of the full notebook cells\n",
       "var notebookContainer = gd.closest('#notebook-container');\n",
       "if (notebookContainer) {{\n",
       "    x.observe(notebookContainer, {childList: true});\n",
       "}}\n",
       "\n",
       "// Listen for the clearing of the current output cell\n",
       "var outputEl = gd.closest('.output');\n",
       "if (outputEl) {{\n",
       "    x.observe(outputEl, {childList: true});\n",
       "}}\n",
       "\n",
       "                        })\n",
       "                };\n",
       "                });\n",
       "            </script>\n",
       "        </div>"
      ]
     },
     "metadata": {},
     "output_type": "display_data"
    }
   ],
   "source": [
    "ciphertext_bigrams = find_bigrams_frequencies(ciphertext)\n",
    "# ciphertext_bigrams\n",
    "x = [item[0] for item in ciphertext_bigrams[0:50]]\n",
    "y = [item[1] for item in ciphertext_bigrams[0:50]]\n",
    "data = go.Bar(x = x, y = y)\n",
    "fig = go.Figure(data)\n",
    "fig.show()"
   ]
  },
  {
   "cell_type": "code",
   "execution_count": 316,
   "metadata": {
    "ExecuteTime": {
     "end_time": "2019-11-03T20:03:28.411351Z",
     "start_time": "2019-11-03T20:03:28.404319Z"
    }
   },
   "outputs": [],
   "source": [
    "def find_trigrams_frequencies(ciphertext):\n",
    "    trigram_frequencies = dict()\n",
    "    for i in range(len(ciphertext)-2):\n",
    "        trigram = ciphertext[i] + ciphertext[i+1] + ciphertext[i+2]\n",
    "        if trigram not in trigram_frequencies:\n",
    "            trigram_frequencies[trigram] = 1\n",
    "        else:\n",
    "            trigram_frequencies[trigram] += 1\n",
    "    \n",
    "    total_trigrams = len(ciphertext)-2\n",
    "    \n",
    "    for trigram in trigram_frequencies:\n",
    "        # print(letter_frequencies[character], ciphertext_length)\n",
    "        trigram_frequencies[trigram]=round(trigram_frequencies[trigram]/total_trigrams*100,2)\n",
    "        \n",
    "    # SORT\n",
    "    frequencies = list(trigram_frequencies.items())\n",
    "    frequencies.sort(key=lambda item:item[1], reverse=True)\n",
    "    \n",
    "    return frequencies"
   ]
  },
  {
   "cell_type": "code",
   "execution_count": 317,
   "metadata": {
    "ExecuteTime": {
     "end_time": "2019-11-03T20:03:28.534016Z",
     "start_time": "2019-11-03T20:03:28.413294Z"
    }
   },
   "outputs": [
    {
     "data": {
      "application/vnd.plotly.v1+json": {
       "config": {
        "plotlyServerURL": "https://plot.ly"
       },
       "data": [
        {
         "type": "bar",
         "x": [
          "ЃЅШ",
          "ЏЧФ",
          "ШЃЅ",
          "НЈЧ",
          "ЈЧЗ",
          "ЃЛЏ",
          "ЧЗШ",
          "ШЛЃ",
          "ЃЅН",
          "ЅНЈ",
          "ШЛШ",
          "ЛЃЛ",
          "ЃГШ",
          "ЗШЛ",
          "ЛЏЧ",
          "ЧФГ",
          "ФЛЃ",
          "ЖСШ",
          "ЃЅФ",
          "ЅШЃ",
          "ГЈЗ",
          "ЈЗЦ",
          "ЗЦБ",
          "ЦБЖ",
          "БЖЛ",
          "ЖЛЏ",
          "ФГЈ",
          "ЈЃЅ",
          "ШЅШ",
          "ЈЌЃ",
          "ЅФЛ",
          "ЃЛЖ",
          "ЛЃГ",
          "ЖИЛ",
          "ЛЏЛ",
          "ЅШЖ",
          "ЃГЈ",
          "ФЛС",
          "ФГЃ",
          "ЛВШ",
          "ЃТГ",
          "ТГЃ",
          "ГЈЃ",
          "ЛСЈ",
          "ЈФЛ",
          "ЌЃЅ",
          "ЛЖЛ",
          "ГШЛ",
          "ЏЌЅ",
          "ЃФЛ"
         ],
         "y": [
          0.96,
          0.96,
          0.91,
          0.91,
          0.91,
          0.91,
          0.83,
          0.78,
          0.74,
          0.74,
          0.74,
          0.74,
          0.74,
          0.7,
          0.61,
          0.61,
          0.61,
          0.52,
          0.52,
          0.52,
          0.48,
          0.48,
          0.48,
          0.48,
          0.48,
          0.48,
          0.48,
          0.48,
          0.48,
          0.48,
          0.48,
          0.48,
          0.48,
          0.43,
          0.43,
          0.43,
          0.43,
          0.43,
          0.43,
          0.39,
          0.39,
          0.39,
          0.39,
          0.39,
          0.39,
          0.39,
          0.39,
          0.39,
          0.39,
          0.39
         ]
        }
       ],
       "layout": {
        "template": {
         "data": {
          "bar": [
           {
            "error_x": {
             "color": "#2a3f5f"
            },
            "error_y": {
             "color": "#2a3f5f"
            },
            "marker": {
             "line": {
              "color": "#E5ECF6",
              "width": 0.5
             }
            },
            "type": "bar"
           }
          ],
          "barpolar": [
           {
            "marker": {
             "line": {
              "color": "#E5ECF6",
              "width": 0.5
             }
            },
            "type": "barpolar"
           }
          ],
          "carpet": [
           {
            "aaxis": {
             "endlinecolor": "#2a3f5f",
             "gridcolor": "white",
             "linecolor": "white",
             "minorgridcolor": "white",
             "startlinecolor": "#2a3f5f"
            },
            "baxis": {
             "endlinecolor": "#2a3f5f",
             "gridcolor": "white",
             "linecolor": "white",
             "minorgridcolor": "white",
             "startlinecolor": "#2a3f5f"
            },
            "type": "carpet"
           }
          ],
          "choropleth": [
           {
            "colorbar": {
             "outlinewidth": 0,
             "ticks": ""
            },
            "type": "choropleth"
           }
          ],
          "contour": [
           {
            "colorbar": {
             "outlinewidth": 0,
             "ticks": ""
            },
            "colorscale": [
             [
              0,
              "#0d0887"
             ],
             [
              0.1111111111111111,
              "#46039f"
             ],
             [
              0.2222222222222222,
              "#7201a8"
             ],
             [
              0.3333333333333333,
              "#9c179e"
             ],
             [
              0.4444444444444444,
              "#bd3786"
             ],
             [
              0.5555555555555556,
              "#d8576b"
             ],
             [
              0.6666666666666666,
              "#ed7953"
             ],
             [
              0.7777777777777778,
              "#fb9f3a"
             ],
             [
              0.8888888888888888,
              "#fdca26"
             ],
             [
              1,
              "#f0f921"
             ]
            ],
            "type": "contour"
           }
          ],
          "contourcarpet": [
           {
            "colorbar": {
             "outlinewidth": 0,
             "ticks": ""
            },
            "type": "contourcarpet"
           }
          ],
          "heatmap": [
           {
            "colorbar": {
             "outlinewidth": 0,
             "ticks": ""
            },
            "colorscale": [
             [
              0,
              "#0d0887"
             ],
             [
              0.1111111111111111,
              "#46039f"
             ],
             [
              0.2222222222222222,
              "#7201a8"
             ],
             [
              0.3333333333333333,
              "#9c179e"
             ],
             [
              0.4444444444444444,
              "#bd3786"
             ],
             [
              0.5555555555555556,
              "#d8576b"
             ],
             [
              0.6666666666666666,
              "#ed7953"
             ],
             [
              0.7777777777777778,
              "#fb9f3a"
             ],
             [
              0.8888888888888888,
              "#fdca26"
             ],
             [
              1,
              "#f0f921"
             ]
            ],
            "type": "heatmap"
           }
          ],
          "heatmapgl": [
           {
            "colorbar": {
             "outlinewidth": 0,
             "ticks": ""
            },
            "colorscale": [
             [
              0,
              "#0d0887"
             ],
             [
              0.1111111111111111,
              "#46039f"
             ],
             [
              0.2222222222222222,
              "#7201a8"
             ],
             [
              0.3333333333333333,
              "#9c179e"
             ],
             [
              0.4444444444444444,
              "#bd3786"
             ],
             [
              0.5555555555555556,
              "#d8576b"
             ],
             [
              0.6666666666666666,
              "#ed7953"
             ],
             [
              0.7777777777777778,
              "#fb9f3a"
             ],
             [
              0.8888888888888888,
              "#fdca26"
             ],
             [
              1,
              "#f0f921"
             ]
            ],
            "type": "heatmapgl"
           }
          ],
          "histogram": [
           {
            "marker": {
             "colorbar": {
              "outlinewidth": 0,
              "ticks": ""
             }
            },
            "type": "histogram"
           }
          ],
          "histogram2d": [
           {
            "colorbar": {
             "outlinewidth": 0,
             "ticks": ""
            },
            "colorscale": [
             [
              0,
              "#0d0887"
             ],
             [
              0.1111111111111111,
              "#46039f"
             ],
             [
              0.2222222222222222,
              "#7201a8"
             ],
             [
              0.3333333333333333,
              "#9c179e"
             ],
             [
              0.4444444444444444,
              "#bd3786"
             ],
             [
              0.5555555555555556,
              "#d8576b"
             ],
             [
              0.6666666666666666,
              "#ed7953"
             ],
             [
              0.7777777777777778,
              "#fb9f3a"
             ],
             [
              0.8888888888888888,
              "#fdca26"
             ],
             [
              1,
              "#f0f921"
             ]
            ],
            "type": "histogram2d"
           }
          ],
          "histogram2dcontour": [
           {
            "colorbar": {
             "outlinewidth": 0,
             "ticks": ""
            },
            "colorscale": [
             [
              0,
              "#0d0887"
             ],
             [
              0.1111111111111111,
              "#46039f"
             ],
             [
              0.2222222222222222,
              "#7201a8"
             ],
             [
              0.3333333333333333,
              "#9c179e"
             ],
             [
              0.4444444444444444,
              "#bd3786"
             ],
             [
              0.5555555555555556,
              "#d8576b"
             ],
             [
              0.6666666666666666,
              "#ed7953"
             ],
             [
              0.7777777777777778,
              "#fb9f3a"
             ],
             [
              0.8888888888888888,
              "#fdca26"
             ],
             [
              1,
              "#f0f921"
             ]
            ],
            "type": "histogram2dcontour"
           }
          ],
          "mesh3d": [
           {
            "colorbar": {
             "outlinewidth": 0,
             "ticks": ""
            },
            "type": "mesh3d"
           }
          ],
          "parcoords": [
           {
            "line": {
             "colorbar": {
              "outlinewidth": 0,
              "ticks": ""
             }
            },
            "type": "parcoords"
           }
          ],
          "scatter": [
           {
            "marker": {
             "colorbar": {
              "outlinewidth": 0,
              "ticks": ""
             }
            },
            "type": "scatter"
           }
          ],
          "scatter3d": [
           {
            "line": {
             "colorbar": {
              "outlinewidth": 0,
              "ticks": ""
             }
            },
            "marker": {
             "colorbar": {
              "outlinewidth": 0,
              "ticks": ""
             }
            },
            "type": "scatter3d"
           }
          ],
          "scattercarpet": [
           {
            "marker": {
             "colorbar": {
              "outlinewidth": 0,
              "ticks": ""
             }
            },
            "type": "scattercarpet"
           }
          ],
          "scattergeo": [
           {
            "marker": {
             "colorbar": {
              "outlinewidth": 0,
              "ticks": ""
             }
            },
            "type": "scattergeo"
           }
          ],
          "scattergl": [
           {
            "marker": {
             "colorbar": {
              "outlinewidth": 0,
              "ticks": ""
             }
            },
            "type": "scattergl"
           }
          ],
          "scattermapbox": [
           {
            "marker": {
             "colorbar": {
              "outlinewidth": 0,
              "ticks": ""
             }
            },
            "type": "scattermapbox"
           }
          ],
          "scatterpolar": [
           {
            "marker": {
             "colorbar": {
              "outlinewidth": 0,
              "ticks": ""
             }
            },
            "type": "scatterpolar"
           }
          ],
          "scatterpolargl": [
           {
            "marker": {
             "colorbar": {
              "outlinewidth": 0,
              "ticks": ""
             }
            },
            "type": "scatterpolargl"
           }
          ],
          "scatterternary": [
           {
            "marker": {
             "colorbar": {
              "outlinewidth": 0,
              "ticks": ""
             }
            },
            "type": "scatterternary"
           }
          ],
          "surface": [
           {
            "colorbar": {
             "outlinewidth": 0,
             "ticks": ""
            },
            "colorscale": [
             [
              0,
              "#0d0887"
             ],
             [
              0.1111111111111111,
              "#46039f"
             ],
             [
              0.2222222222222222,
              "#7201a8"
             ],
             [
              0.3333333333333333,
              "#9c179e"
             ],
             [
              0.4444444444444444,
              "#bd3786"
             ],
             [
              0.5555555555555556,
              "#d8576b"
             ],
             [
              0.6666666666666666,
              "#ed7953"
             ],
             [
              0.7777777777777778,
              "#fb9f3a"
             ],
             [
              0.8888888888888888,
              "#fdca26"
             ],
             [
              1,
              "#f0f921"
             ]
            ],
            "type": "surface"
           }
          ],
          "table": [
           {
            "cells": {
             "fill": {
              "color": "#EBF0F8"
             },
             "line": {
              "color": "white"
             }
            },
            "header": {
             "fill": {
              "color": "#C8D4E3"
             },
             "line": {
              "color": "white"
             }
            },
            "type": "table"
           }
          ]
         },
         "layout": {
          "annotationdefaults": {
           "arrowcolor": "#2a3f5f",
           "arrowhead": 0,
           "arrowwidth": 1
          },
          "colorscale": {
           "diverging": [
            [
             0,
             "#8e0152"
            ],
            [
             0.1,
             "#c51b7d"
            ],
            [
             0.2,
             "#de77ae"
            ],
            [
             0.3,
             "#f1b6da"
            ],
            [
             0.4,
             "#fde0ef"
            ],
            [
             0.5,
             "#f7f7f7"
            ],
            [
             0.6,
             "#e6f5d0"
            ],
            [
             0.7,
             "#b8e186"
            ],
            [
             0.8,
             "#7fbc41"
            ],
            [
             0.9,
             "#4d9221"
            ],
            [
             1,
             "#276419"
            ]
           ],
           "sequential": [
            [
             0,
             "#0d0887"
            ],
            [
             0.1111111111111111,
             "#46039f"
            ],
            [
             0.2222222222222222,
             "#7201a8"
            ],
            [
             0.3333333333333333,
             "#9c179e"
            ],
            [
             0.4444444444444444,
             "#bd3786"
            ],
            [
             0.5555555555555556,
             "#d8576b"
            ],
            [
             0.6666666666666666,
             "#ed7953"
            ],
            [
             0.7777777777777778,
             "#fb9f3a"
            ],
            [
             0.8888888888888888,
             "#fdca26"
            ],
            [
             1,
             "#f0f921"
            ]
           ],
           "sequentialminus": [
            [
             0,
             "#0d0887"
            ],
            [
             0.1111111111111111,
             "#46039f"
            ],
            [
             0.2222222222222222,
             "#7201a8"
            ],
            [
             0.3333333333333333,
             "#9c179e"
            ],
            [
             0.4444444444444444,
             "#bd3786"
            ],
            [
             0.5555555555555556,
             "#d8576b"
            ],
            [
             0.6666666666666666,
             "#ed7953"
            ],
            [
             0.7777777777777778,
             "#fb9f3a"
            ],
            [
             0.8888888888888888,
             "#fdca26"
            ],
            [
             1,
             "#f0f921"
            ]
           ]
          },
          "colorway": [
           "#636efa",
           "#EF553B",
           "#00cc96",
           "#ab63fa",
           "#FFA15A",
           "#19d3f3",
           "#FF6692",
           "#B6E880",
           "#FF97FF",
           "#FECB52"
          ],
          "font": {
           "color": "#2a3f5f"
          },
          "geo": {
           "bgcolor": "white",
           "lakecolor": "white",
           "landcolor": "#E5ECF6",
           "showlakes": true,
           "showland": true,
           "subunitcolor": "white"
          },
          "hoverlabel": {
           "align": "left"
          },
          "hovermode": "closest",
          "mapbox": {
           "style": "light"
          },
          "paper_bgcolor": "white",
          "plot_bgcolor": "#E5ECF6",
          "polar": {
           "angularaxis": {
            "gridcolor": "white",
            "linecolor": "white",
            "ticks": ""
           },
           "bgcolor": "#E5ECF6",
           "radialaxis": {
            "gridcolor": "white",
            "linecolor": "white",
            "ticks": ""
           }
          },
          "scene": {
           "xaxis": {
            "backgroundcolor": "#E5ECF6",
            "gridcolor": "white",
            "gridwidth": 2,
            "linecolor": "white",
            "showbackground": true,
            "ticks": "",
            "zerolinecolor": "white"
           },
           "yaxis": {
            "backgroundcolor": "#E5ECF6",
            "gridcolor": "white",
            "gridwidth": 2,
            "linecolor": "white",
            "showbackground": true,
            "ticks": "",
            "zerolinecolor": "white"
           },
           "zaxis": {
            "backgroundcolor": "#E5ECF6",
            "gridcolor": "white",
            "gridwidth": 2,
            "linecolor": "white",
            "showbackground": true,
            "ticks": "",
            "zerolinecolor": "white"
           }
          },
          "shapedefaults": {
           "line": {
            "color": "#2a3f5f"
           }
          },
          "ternary": {
           "aaxis": {
            "gridcolor": "white",
            "linecolor": "white",
            "ticks": ""
           },
           "baxis": {
            "gridcolor": "white",
            "linecolor": "white",
            "ticks": ""
           },
           "bgcolor": "#E5ECF6",
           "caxis": {
            "gridcolor": "white",
            "linecolor": "white",
            "ticks": ""
           }
          },
          "title": {
           "x": 0.05
          },
          "xaxis": {
           "automargin": true,
           "gridcolor": "white",
           "linecolor": "white",
           "ticks": "",
           "zerolinecolor": "white",
           "zerolinewidth": 2
          },
          "yaxis": {
           "automargin": true,
           "gridcolor": "white",
           "linecolor": "white",
           "ticks": "",
           "zerolinecolor": "white",
           "zerolinewidth": 2
          }
         }
        }
       }
      },
      "text/html": [
       "<div>\n",
       "        \n",
       "        \n",
       "            <div id=\"b2cab849-de2b-48ad-ac1f-5c050b597bf0\" class=\"plotly-graph-div\" style=\"height:525px; width:100%;\"></div>\n",
       "            <script type=\"text/javascript\">\n",
       "                require([\"plotly\"], function(Plotly) {\n",
       "                    window.PLOTLYENV=window.PLOTLYENV || {};\n",
       "                    \n",
       "                if (document.getElementById(\"b2cab849-de2b-48ad-ac1f-5c050b597bf0\")) {\n",
       "                    Plotly.newPlot(\n",
       "                        'b2cab849-de2b-48ad-ac1f-5c050b597bf0',\n",
       "                        [{\"type\": \"bar\", \"x\": [\"\\u0403\\u0405\\u0428\", \"\\u040f\\u0427\\u0424\", \"\\u0428\\u0403\\u0405\", \"\\u041d\\u0408\\u0427\", \"\\u0408\\u0427\\u0417\", \"\\u0403\\u041b\\u040f\", \"\\u0427\\u0417\\u0428\", \"\\u0428\\u041b\\u0403\", \"\\u0403\\u0405\\u041d\", \"\\u0405\\u041d\\u0408\", \"\\u0428\\u041b\\u0428\", \"\\u041b\\u0403\\u041b\", \"\\u0403\\u0413\\u0428\", \"\\u0417\\u0428\\u041b\", \"\\u041b\\u040f\\u0427\", \"\\u0427\\u0424\\u0413\", \"\\u0424\\u041b\\u0403\", \"\\u0416\\u0421\\u0428\", \"\\u0403\\u0405\\u0424\", \"\\u0405\\u0428\\u0403\", \"\\u0413\\u0408\\u0417\", \"\\u0408\\u0417\\u0426\", \"\\u0417\\u0426\\u0411\", \"\\u0426\\u0411\\u0416\", \"\\u0411\\u0416\\u041b\", \"\\u0416\\u041b\\u040f\", \"\\u0424\\u0413\\u0408\", \"\\u0408\\u0403\\u0405\", \"\\u0428\\u0405\\u0428\", \"\\u0408\\u040c\\u0403\", \"\\u0405\\u0424\\u041b\", \"\\u0403\\u041b\\u0416\", \"\\u041b\\u0403\\u0413\", \"\\u0416\\u0418\\u041b\", \"\\u041b\\u040f\\u041b\", \"\\u0405\\u0428\\u0416\", \"\\u0403\\u0413\\u0408\", \"\\u0424\\u041b\\u0421\", \"\\u0424\\u0413\\u0403\", \"\\u041b\\u0412\\u0428\", \"\\u0403\\u0422\\u0413\", \"\\u0422\\u0413\\u0403\", \"\\u0413\\u0408\\u0403\", \"\\u041b\\u0421\\u0408\", \"\\u0408\\u0424\\u041b\", \"\\u040c\\u0403\\u0405\", \"\\u041b\\u0416\\u041b\", \"\\u0413\\u0428\\u041b\", \"\\u040f\\u040c\\u0405\", \"\\u0403\\u0424\\u041b\"], \"y\": [0.96, 0.96, 0.91, 0.91, 0.91, 0.91, 0.83, 0.78, 0.74, 0.74, 0.74, 0.74, 0.74, 0.7, 0.61, 0.61, 0.61, 0.52, 0.52, 0.52, 0.48, 0.48, 0.48, 0.48, 0.48, 0.48, 0.48, 0.48, 0.48, 0.48, 0.48, 0.48, 0.48, 0.43, 0.43, 0.43, 0.43, 0.43, 0.43, 0.39, 0.39, 0.39, 0.39, 0.39, 0.39, 0.39, 0.39, 0.39, 0.39, 0.39]}],\n",
       "                        {\"template\": {\"data\": {\"bar\": [{\"error_x\": {\"color\": \"#2a3f5f\"}, \"error_y\": {\"color\": \"#2a3f5f\"}, \"marker\": {\"line\": {\"color\": \"#E5ECF6\", \"width\": 0.5}}, \"type\": \"bar\"}], \"barpolar\": [{\"marker\": {\"line\": {\"color\": \"#E5ECF6\", \"width\": 0.5}}, \"type\": \"barpolar\"}], \"carpet\": [{\"aaxis\": {\"endlinecolor\": \"#2a3f5f\", \"gridcolor\": \"white\", \"linecolor\": \"white\", \"minorgridcolor\": \"white\", \"startlinecolor\": \"#2a3f5f\"}, \"baxis\": {\"endlinecolor\": \"#2a3f5f\", \"gridcolor\": \"white\", \"linecolor\": \"white\", \"minorgridcolor\": \"white\", \"startlinecolor\": \"#2a3f5f\"}, \"type\": \"carpet\"}], \"choropleth\": [{\"colorbar\": {\"outlinewidth\": 0, \"ticks\": \"\"}, \"type\": \"choropleth\"}], \"contour\": [{\"colorbar\": {\"outlinewidth\": 0, \"ticks\": \"\"}, \"colorscale\": [[0.0, \"#0d0887\"], [0.1111111111111111, \"#46039f\"], [0.2222222222222222, \"#7201a8\"], [0.3333333333333333, \"#9c179e\"], [0.4444444444444444, \"#bd3786\"], [0.5555555555555556, \"#d8576b\"], [0.6666666666666666, \"#ed7953\"], [0.7777777777777778, \"#fb9f3a\"], [0.8888888888888888, \"#fdca26\"], [1.0, \"#f0f921\"]], \"type\": \"contour\"}], \"contourcarpet\": [{\"colorbar\": {\"outlinewidth\": 0, \"ticks\": \"\"}, \"type\": \"contourcarpet\"}], \"heatmap\": [{\"colorbar\": {\"outlinewidth\": 0, \"ticks\": \"\"}, \"colorscale\": [[0.0, \"#0d0887\"], [0.1111111111111111, \"#46039f\"], [0.2222222222222222, \"#7201a8\"], [0.3333333333333333, \"#9c179e\"], [0.4444444444444444, \"#bd3786\"], [0.5555555555555556, \"#d8576b\"], [0.6666666666666666, \"#ed7953\"], [0.7777777777777778, \"#fb9f3a\"], [0.8888888888888888, \"#fdca26\"], [1.0, \"#f0f921\"]], \"type\": \"heatmap\"}], \"heatmapgl\": [{\"colorbar\": {\"outlinewidth\": 0, \"ticks\": \"\"}, \"colorscale\": [[0.0, \"#0d0887\"], [0.1111111111111111, \"#46039f\"], [0.2222222222222222, \"#7201a8\"], [0.3333333333333333, \"#9c179e\"], [0.4444444444444444, \"#bd3786\"], [0.5555555555555556, \"#d8576b\"], [0.6666666666666666, \"#ed7953\"], [0.7777777777777778, \"#fb9f3a\"], [0.8888888888888888, \"#fdca26\"], [1.0, \"#f0f921\"]], \"type\": \"heatmapgl\"}], \"histogram\": [{\"marker\": {\"colorbar\": {\"outlinewidth\": 0, \"ticks\": \"\"}}, \"type\": \"histogram\"}], \"histogram2d\": [{\"colorbar\": {\"outlinewidth\": 0, \"ticks\": \"\"}, \"colorscale\": [[0.0, \"#0d0887\"], [0.1111111111111111, \"#46039f\"], [0.2222222222222222, \"#7201a8\"], [0.3333333333333333, \"#9c179e\"], [0.4444444444444444, \"#bd3786\"], [0.5555555555555556, \"#d8576b\"], [0.6666666666666666, \"#ed7953\"], [0.7777777777777778, \"#fb9f3a\"], [0.8888888888888888, \"#fdca26\"], [1.0, \"#f0f921\"]], \"type\": \"histogram2d\"}], \"histogram2dcontour\": [{\"colorbar\": {\"outlinewidth\": 0, \"ticks\": \"\"}, \"colorscale\": [[0.0, \"#0d0887\"], [0.1111111111111111, \"#46039f\"], [0.2222222222222222, \"#7201a8\"], [0.3333333333333333, \"#9c179e\"], [0.4444444444444444, \"#bd3786\"], [0.5555555555555556, \"#d8576b\"], [0.6666666666666666, \"#ed7953\"], [0.7777777777777778, \"#fb9f3a\"], [0.8888888888888888, \"#fdca26\"], [1.0, \"#f0f921\"]], \"type\": \"histogram2dcontour\"}], \"mesh3d\": [{\"colorbar\": {\"outlinewidth\": 0, \"ticks\": \"\"}, \"type\": \"mesh3d\"}], \"parcoords\": [{\"line\": {\"colorbar\": {\"outlinewidth\": 0, \"ticks\": \"\"}}, \"type\": \"parcoords\"}], \"scatter\": [{\"marker\": {\"colorbar\": {\"outlinewidth\": 0, \"ticks\": \"\"}}, \"type\": \"scatter\"}], \"scatter3d\": [{\"line\": {\"colorbar\": {\"outlinewidth\": 0, \"ticks\": \"\"}}, \"marker\": {\"colorbar\": {\"outlinewidth\": 0, \"ticks\": \"\"}}, \"type\": \"scatter3d\"}], \"scattercarpet\": [{\"marker\": {\"colorbar\": {\"outlinewidth\": 0, \"ticks\": \"\"}}, \"type\": \"scattercarpet\"}], \"scattergeo\": [{\"marker\": {\"colorbar\": {\"outlinewidth\": 0, \"ticks\": \"\"}}, \"type\": \"scattergeo\"}], \"scattergl\": [{\"marker\": {\"colorbar\": {\"outlinewidth\": 0, \"ticks\": \"\"}}, \"type\": \"scattergl\"}], \"scattermapbox\": [{\"marker\": {\"colorbar\": {\"outlinewidth\": 0, \"ticks\": \"\"}}, \"type\": \"scattermapbox\"}], \"scatterpolar\": [{\"marker\": {\"colorbar\": {\"outlinewidth\": 0, \"ticks\": \"\"}}, \"type\": \"scatterpolar\"}], \"scatterpolargl\": [{\"marker\": {\"colorbar\": {\"outlinewidth\": 0, \"ticks\": \"\"}}, \"type\": \"scatterpolargl\"}], \"scatterternary\": [{\"marker\": {\"colorbar\": {\"outlinewidth\": 0, \"ticks\": \"\"}}, \"type\": \"scatterternary\"}], \"surface\": [{\"colorbar\": {\"outlinewidth\": 0, \"ticks\": \"\"}, \"colorscale\": [[0.0, \"#0d0887\"], [0.1111111111111111, \"#46039f\"], [0.2222222222222222, \"#7201a8\"], [0.3333333333333333, \"#9c179e\"], [0.4444444444444444, \"#bd3786\"], [0.5555555555555556, \"#d8576b\"], [0.6666666666666666, \"#ed7953\"], [0.7777777777777778, \"#fb9f3a\"], [0.8888888888888888, \"#fdca26\"], [1.0, \"#f0f921\"]], \"type\": \"surface\"}], \"table\": [{\"cells\": {\"fill\": {\"color\": \"#EBF0F8\"}, \"line\": {\"color\": \"white\"}}, \"header\": {\"fill\": {\"color\": \"#C8D4E3\"}, \"line\": {\"color\": \"white\"}}, \"type\": \"table\"}]}, \"layout\": {\"annotationdefaults\": {\"arrowcolor\": \"#2a3f5f\", \"arrowhead\": 0, \"arrowwidth\": 1}, \"colorscale\": {\"diverging\": [[0, \"#8e0152\"], [0.1, \"#c51b7d\"], [0.2, \"#de77ae\"], [0.3, \"#f1b6da\"], [0.4, \"#fde0ef\"], [0.5, \"#f7f7f7\"], [0.6, \"#e6f5d0\"], [0.7, \"#b8e186\"], [0.8, \"#7fbc41\"], [0.9, \"#4d9221\"], [1, \"#276419\"]], \"sequential\": [[0.0, \"#0d0887\"], [0.1111111111111111, \"#46039f\"], [0.2222222222222222, \"#7201a8\"], [0.3333333333333333, \"#9c179e\"], [0.4444444444444444, \"#bd3786\"], [0.5555555555555556, \"#d8576b\"], [0.6666666666666666, \"#ed7953\"], [0.7777777777777778, \"#fb9f3a\"], [0.8888888888888888, \"#fdca26\"], [1.0, \"#f0f921\"]], \"sequentialminus\": [[0.0, \"#0d0887\"], [0.1111111111111111, \"#46039f\"], [0.2222222222222222, \"#7201a8\"], [0.3333333333333333, \"#9c179e\"], [0.4444444444444444, \"#bd3786\"], [0.5555555555555556, \"#d8576b\"], [0.6666666666666666, \"#ed7953\"], [0.7777777777777778, \"#fb9f3a\"], [0.8888888888888888, \"#fdca26\"], [1.0, \"#f0f921\"]]}, \"colorway\": [\"#636efa\", \"#EF553B\", \"#00cc96\", \"#ab63fa\", \"#FFA15A\", \"#19d3f3\", \"#FF6692\", \"#B6E880\", \"#FF97FF\", \"#FECB52\"], \"font\": {\"color\": \"#2a3f5f\"}, \"geo\": {\"bgcolor\": \"white\", \"lakecolor\": \"white\", \"landcolor\": \"#E5ECF6\", \"showlakes\": true, \"showland\": true, \"subunitcolor\": \"white\"}, \"hoverlabel\": {\"align\": \"left\"}, \"hovermode\": \"closest\", \"mapbox\": {\"style\": \"light\"}, \"paper_bgcolor\": \"white\", \"plot_bgcolor\": \"#E5ECF6\", \"polar\": {\"angularaxis\": {\"gridcolor\": \"white\", \"linecolor\": \"white\", \"ticks\": \"\"}, \"bgcolor\": \"#E5ECF6\", \"radialaxis\": {\"gridcolor\": \"white\", \"linecolor\": \"white\", \"ticks\": \"\"}}, \"scene\": {\"xaxis\": {\"backgroundcolor\": \"#E5ECF6\", \"gridcolor\": \"white\", \"gridwidth\": 2, \"linecolor\": \"white\", \"showbackground\": true, \"ticks\": \"\", \"zerolinecolor\": \"white\"}, \"yaxis\": {\"backgroundcolor\": \"#E5ECF6\", \"gridcolor\": \"white\", \"gridwidth\": 2, \"linecolor\": \"white\", \"showbackground\": true, \"ticks\": \"\", \"zerolinecolor\": \"white\"}, \"zaxis\": {\"backgroundcolor\": \"#E5ECF6\", \"gridcolor\": \"white\", \"gridwidth\": 2, \"linecolor\": \"white\", \"showbackground\": true, \"ticks\": \"\", \"zerolinecolor\": \"white\"}}, \"shapedefaults\": {\"line\": {\"color\": \"#2a3f5f\"}}, \"ternary\": {\"aaxis\": {\"gridcolor\": \"white\", \"linecolor\": \"white\", \"ticks\": \"\"}, \"baxis\": {\"gridcolor\": \"white\", \"linecolor\": \"white\", \"ticks\": \"\"}, \"bgcolor\": \"#E5ECF6\", \"caxis\": {\"gridcolor\": \"white\", \"linecolor\": \"white\", \"ticks\": \"\"}}, \"title\": {\"x\": 0.05}, \"xaxis\": {\"automargin\": true, \"gridcolor\": \"white\", \"linecolor\": \"white\", \"ticks\": \"\", \"zerolinecolor\": \"white\", \"zerolinewidth\": 2}, \"yaxis\": {\"automargin\": true, \"gridcolor\": \"white\", \"linecolor\": \"white\", \"ticks\": \"\", \"zerolinecolor\": \"white\", \"zerolinewidth\": 2}}}},\n",
       "                        {\"responsive\": true}\n",
       "                    ).then(function(){\n",
       "                            \n",
       "var gd = document.getElementById('b2cab849-de2b-48ad-ac1f-5c050b597bf0');\n",
       "var x = new MutationObserver(function (mutations, observer) {{\n",
       "        var display = window.getComputedStyle(gd).display;\n",
       "        if (!display || display === 'none') {{\n",
       "            console.log([gd, 'removed!']);\n",
       "            Plotly.purge(gd);\n",
       "            observer.disconnect();\n",
       "        }}\n",
       "}});\n",
       "\n",
       "// Listen for the removal of the full notebook cells\n",
       "var notebookContainer = gd.closest('#notebook-container');\n",
       "if (notebookContainer) {{\n",
       "    x.observe(notebookContainer, {childList: true});\n",
       "}}\n",
       "\n",
       "// Listen for the clearing of the current output cell\n",
       "var outputEl = gd.closest('.output');\n",
       "if (outputEl) {{\n",
       "    x.observe(outputEl, {childList: true});\n",
       "}}\n",
       "\n",
       "                        })\n",
       "                };\n",
       "                });\n",
       "            </script>\n",
       "        </div>"
      ]
     },
     "metadata": {},
     "output_type": "display_data"
    }
   ],
   "source": [
    "ciphertext_trigrams = find_trigrams_frequencies(ciphertext)\n",
    "# ciphertext_trigrams\n",
    "x = [item[0] for item in ciphertext_trigrams[0:50]]\n",
    "y = [item[1] for item in ciphertext_trigrams[0:50]]\n",
    "data = go.Bar(x = x, y = y)\n",
    "fig = go.Figure(data)\n",
    "fig.show()"
   ]
  },
  {
   "cell_type": "markdown",
   "metadata": {},
   "source": [
    "# Објаснување\n",
    "\n",
    "Имам искористено секаква метода, употребајќи ги фреквенциите на буквите, биграмите, триграмите за да ме однесат до целта да го декриптирам ciphertext-ot но секоја техника на крај стануваше многу конфузна и не ми даваше никаква значителна помош.\n",
    "\n",
    "Сум пробал секакви математики за да го намалам доменот, обидејќи се да претпоставувам замени за некои букви на пр. Ѓ (најфреквентната буква) = {А, И, О, Е}, Буква X - согласка, Буква Y - самогласка итн., употребувајќи биграмите, триграмите од ciphertext-от и фреквенциите од истражувањето, но секоја техника доведеше до некоја контрадикција и никаква помош!"
   ]
  },
  {
   "cell_type": "markdown",
   "metadata": {},
   "source": [
    "## Методи употребени при неуспешните обиди за декриптирање"
   ]
  },
  {
   "cell_type": "code",
   "execution_count": 318,
   "metadata": {
    "ExecuteTime": {
     "end_time": "2019-11-03T20:03:28.541960Z",
     "start_time": "2019-11-03T20:03:28.535967Z"
    }
   },
   "outputs": [],
   "source": [
    "# Го направив ciphertext-ot со мали букви за кога ќе правам некакви замени, замените да ми бидат со големи букви\n",
    "# и така ќе ми стане повидливо тоа што е заменето\n",
    "ciphertext = ciphertext.lower()\n",
    "\n",
    "ciphertext.replace('ѓ', 'А')  # функција за замена на еден стринг/карактер со друг стринг/карактер\n",
    "\n",
    "# функција за наоѓање на биграмите кои содржат исти букви\n",
    "for tuple in ciphertext_bigrams:\n",
    "    #print(tuple[0])\n",
    "    if tuple[0][0]==tuple[0][1]:\n",
    "        # print(tuple[0])\n",
    "        pass\n",
    "\n",
    "# Функција за наоѓање на триграмите кои содржат исти букви\n",
    "for tuple in ciphertext_trigrams:\n",
    "    #print(tuple[0])\n",
    "    if tuple[0][0]==tuple[0][1] and tuple[0][1]==tuple[0][2]:\n",
    "        # print(tuple[0])\n",
    "        pass\n",
    "\n",
    "# Функција за наоѓање на триграмите каде првите две букви се исти\n",
    "for trigram in ciphertext_trigrams:\n",
    "    #print(trigram[0])\n",
    "    if trigram[0][0]==trigram[0][1]:\n",
    "        # print(trigram)\n",
    "        pass\n",
    "    \n",
    "# ... и некои други\n",
    "# ... и неколку A4 листови за анализа"
   ]
  },
  {
   "cell_type": "markdown",
   "metadata": {},
   "source": [
    "Потоа, одлучив да го искористам HINT-от дека во овој текст се зборува нешто за ФИНКИ.\n",
    "Па на некаков начин како key-words ми беа:\n",
    "- ФАКУЛТЕТ(ОТ)\n",
    "- ИНФОРМАТИЧКИ\n",
    "- НАУКИ\n",
    "- КОМПЈУТЕРСКО\n",
    "- ИНЖЕНЕРСТВО\n",
    "\n",
    "Се обидев од ciphertextot да најдам најдолги pattern-i (секвенци) кои се повторуваат."
   ]
  },
  {
   "cell_type": "code",
   "execution_count": 319,
   "metadata": {
    "ExecuteTime": {
     "end_time": "2019-11-03T20:03:28.554916Z",
     "start_time": "2019-11-03T20:03:28.542947Z"
    }
   },
   "outputs": [],
   "source": [
    "def find_ngram_frequencies(ciphertext, n):\n",
    "    \"\"\"\n",
    "        Функција која најде n-grami во текстот\n",
    "        Се чува само бројот на повторувања а не фреквенциите бидејќи кога n се зголемува\n",
    "        фреквенциите станат се помали и можат да не ни даваат значителна информација\n",
    "    \"\"\"\n",
    "    ngram_frequencies = dict()\n",
    "    for i in range(len(ciphertext)-n-1):\n",
    "        ngram = ''\n",
    "        for j in range(n):\n",
    "            ngram += ciphertext[i+j]\n",
    "        if ngram not in ngram_frequencies:\n",
    "            ngram_frequencies[ngram] = 1\n",
    "        else:\n",
    "            ngram_frequencies[ngram] += 1\n",
    "    # SORT\n",
    "    frequencies = list(ngram_frequencies.items())\n",
    "    frequencies.sort(key=lambda item:item[1], reverse=True)\n",
    "    \n",
    "    return frequencies"
   ]
  },
  {
   "cell_type": "code",
   "execution_count": 320,
   "metadata": {
    "ExecuteTime": {
     "end_time": "2019-11-03T20:03:28.566885Z",
     "start_time": "2019-11-03T20:03:28.555914Z"
    }
   },
   "outputs": [],
   "source": [
    "# Повик на функција, пр.\n",
    "fifteen_grams = find_ngram_frequencies(ciphertext, 15)"
   ]
  },
  {
   "attachments": {
    "Frequent_Sequence1.png": {
     "image/png": "[encoded data removed]"
    },
    "Frequent_Sequence2.png": {
     "image/png": "[encoded data removed]"
    },
    "Frequent_Sequence3.png": {
     "image/png": "[encoded data removed]"
    },
    "Frequent_Sequence4.png": {
     "image/png": "[encoded data removed]"
    }
   },
   "cell_type": "markdown",
   "metadata": {},
   "source": [
    "## Повикувајќи функцијaта со n={5,6,7,8,9,..} успеав да ги најдам овие секвенци:\n",
    "\n",
    "#### Секвенца 1. ЃГЈЗЦБЖЛЏИФГЈЃЅАЏЅЏИФЛСЈ\n",
    "![Frequent_Sequence1.png](attachment:Frequent_Sequence1.png)\n",
    "\n",
    "#### Секвенца 2. ЛВШЃЅНЈЧЗШЛЃТГЃЅШЖГЃЃГЈЗЦБЖЛЏЧФГЈЃЅА\n",
    "![Frequent_Sequence2.png](attachment:Frequent_Sequence2.png)\n",
    "\n",
    "#### Секвенца 3. ЏЧФГЈЃЅАЏЅЏЧФЛСЈНЃЅГЃ\n",
    "![Frequent_Sequence3.png](attachment:Frequent_Sequence3.png)\n",
    "\n",
    "#### Секвенца 4. НШГЖИЛЏЛЈЛВШГЅНЈЧЗШЛЃТГЃЅ\n",
    "![Frequent_Sequence4.png](attachment:Frequent_Sequence4.png)\n",
    "\n",
    "#### ... Уште некои други секвенци:\n",
    "##### 5. ШНШГЖИЛЏЛВШЃЅНЈЧЗШЛЃТГЃЅ (2 пати повторена)\n",
    "##### 6. ЅШБУЈИЏЗЃЃЅФЛЃЛЖЛЃ (2 пати повторена)\n",
    "##### 7. ЃЅНЈЧЗШМЃФГЃЛЏЊЅЈИЈУЃЃ (2 пати повторена)\n"
   ]
  },
  {
   "cell_type": "markdown",
   "metadata": {},
   "source": [
    "Потоа следеше анализа на key-words наведени погоре и видов дека покарактеристичен збор е:\n",
    "### ФАКУЛТЕТ(ОТ)\n",
    "бидејќи има еден дел од зборот во форма: Т\\*Т(\\*Т), значи има 2 или 3 букви исти и по една буква измеѓу тие истите букви.\n",
    "\n",
    "Потоа се обидев да најдам таков помал pattern внатре во подолгите секвенци, особено во четвртата секвенца која освен што се повторува, се појавува исто така на почеток, така да има голема веројатност да e key-word-от таму.\n",
    "\n",
    "Кај првата, втората и третата секвенца немаше таков pattern. Кај четвртата ДА. Од таму можеме да ги извлечиме замените:\n",
    "\n",
    "### 1. Н ~ Ф\n",
    "### 2. Ш ~ А\n",
    "### 3. Г ~ К\n",
    "### 4. Ж ~ У\n",
    "### 5. И ~ Л\n",
    "### 6. Л ~ Т\n",
    "### 7. Џ ~ Е\n",
    "### 8. Ј ~ О\n",
    "\n",
    "Потоа со мали проверки лесно се продолжува со замените:\n",
    "### 9.   В ~ З\n",
    "### 10. Ѓ ~ И\n",
    "### 11. Ѕ ~ Н\n",
    "### 12. Ч ~ Р\n",
    "### 13. З ~ М\n",
    "### 14. Т ~ Ч"
   ]
  },
  {
   "cell_type": "code",
   "execution_count": 321,
   "metadata": {
    "ExecuteTime": {
     "end_time": "2019-11-03T20:03:28.577855Z",
     "start_time": "2019-11-03T20:03:28.568880Z"
    }
   },
   "outputs": [
    {
     "data": {
      "text/plain": [
       "'ФАКУЛТЕТОТЗАИНФОРМАТИЧКИНАУКИИКОМцбУТЕРфКОИНаЕНЕРфТсОФИНКИсОфКОцбЕЕФОРМИРАНсРЗОфНОсАНАЗАКОНОТЗАОфНОсАкЕНАФАКУЛТЕТЗАИНФОРМАТИЧКИНАУКИИКОМцбУТЕРфКОИНаЕНЕРфТсОсОфОфТАсНАУНИсЕРЗИТЕТОТфсКИРИЛИМЕТОќИбфКОцбЕОрбАсЕНсОфЛУарЕНсЕфНИКНАРМЗАКОНОТфТАцИНАфИЛАНАфЕќМИбАНУАРИќсЕИЛбАќИИЕќИНАЕфЕТТАуОќИНАФАКУЛТЕТОТЗАИНФОРМАТИЧКИНАУКИИКОМцбУТЕРфКОИНаЕНЕРфТсОФИНКИЕРЕЗУЛТАТНАЗќРУаУсАкЕТОНАќсАТАНАбуОЛЕМИИНфТИТУТИОќОрЛАфТАНАИНФОРМАТИКАТАИКОМцбУТЕРфКАТАТЕњНИКАсОМАКЕќОНИбАИНфТИТУТОТЗАИНФОРМАТИКАИИцРИцРИРОќНОМАТЕМАТИЧКИОТФАКУЛТЕТИИНфТИТУТОТЗАКОМцбУТЕРфКАТЕњНИКАИИНФОРМАТИКАИКТИцРИФАКУЛТЕТОТЗАЕЛЕКТРОТЕњНИКАИИНФОРМАмИфКИТЕњНОЛОуИИсОќАќЕНАТАФОРМАќсАТАИНфТИТУТИРАрОТАТУпТЕОќОфУМќЕфЕТТИТЕуОќИНИНАМИНАТИОТсЕКИИцОЧНУсАќАРАрОТИОќќАЛЕЧНАТАОфУМќЕфЕТИцЕТТАуОќИНАКАКОРАМНОцРАсНАфОфТАсНАмЕЛИНАНАцОсТОРНООрЕќИНЕТИОТцМФцОќИМЕТОИНфТИТУТЗАИНФОРМАТИКАИКТИцОТЕКНУсАОќКАТЕќРАТАЗАТЕњНИЧКАКИрЕРНЕТИКАсООсОбцЕРИОќОќфКОРОТИНАуОќИНИКАбОсИЕИНфТИТУТИфЕфЛУЧУсАцОфТОбАНРАфТсОНАУЧНИТЕИТЕњНИЧКИТЕКАцАмИТЕТИКАКОРЕЗУЛТАТНАИЗсОНРЕќНИТЕЗАЛАуАкАНАНИсНИТЕЧЛЕНОсИАсОТРЕНќфОфсЕТфКИОТцОќЕМНАИНФОРМАТИКАТАфцОуОЛЕМИОТИНТЕРЕфНАфТУќЕНТИТЕЗАОсААОрЛАфТИфцОуОЛЕМИОТРАЗсОбИМОаНОфТИТЕНАќсАТАИНфТИТУТИќОсЕќУсААТќОТОАсОцОфЛЕќНИТЕУЧЕрНИуОќИНИќАфТАНАТНАбуОЛЕМИИНфТИТУТИНАФАКУЛТЕТИТЕИќАОцфЛУаУсААТфКОРОцОЛОсИНАОќфТУќЕНТИТЕсОмЕЛИОТцЕРИОќНАРАЗсОбцОфТОбАТуОЛЕМрРОбЗАЕМНИцРОЕКТИИИфТРАаУсАкАКАКОНАЛИЧНАТАКАИНАИНфТИТУмИОНАЛНАОфНОсАќсАТАИНфТИТУТИрЕАсОцОфТОбАНАТАТРКАЗАпТОцОсИфОККсАЛИТЕТНАфТУќИИТЕНАУЧНОИфТРАаУсАЧКАТАИАцЛИКАТИсНАТАќЕбНОфТсАКсАТАТРКАсфУпНОфТРЕЗУЛТИРАпЕфОЕќЕНКОНЕЧЕНОрЕќИНУсАЧКИФАКТОРфцОЗНАЧИТЕЛЕНРАЗсОбИцОќЕМНАИНФОРМАТИКАТАсОМАКЕќОНИбАИФОРМИРАкЕНАЕќНАИфКЛУЧИТЕЛНОфИЛНАЗАЕќНИмАНАИНФОРМАТИЧКИНАфОЧЕНИНАфТАсНИКАќРИОќуОќИНАТИЕИФОРМАЛНОЗАцОЧНУсААТќАЧЕКОРАТцОЗАЕќНИЧКИцАТКАКОНАбфИЛНАИНАбНАцРЕќНАНАУЧНОИфТРАаУсАЧКАИОрРАЗОсНАИНфТИТУмИбАсОМАКЕќОНИбАОќОрЛАфТИТЕНАИНФОРМАТИКАТАФАКУЛТЕТЗАИНФОРМАТИЧКИНАУКИИКОМцбУТЕРфКОИНаЕНЕРфТсОФИНКИќОќИцЛОМфКИфТУќИфКИцРОуРАМИКОИФИНКИуИНУќИфЕфЛЕќНИТЕКОМцбУТЕРфКИНАУКИКОМцбУТЕРфКОИНаЕНЕРфТсОИНТЕРНЕТИМРЕаНАрЕЗрЕќНОфТцРИМЕНАНАИНФОРМАмИфКИТЕњНОЛОуИИИКОМцбУТЕРфКАЕќУКАмИбАфМЕРОсИНАМАуИфТЕРфКИЕќНОуОќИпНИфТУќИИфЕИНаЕНЕРфТсОНАИНТЕЛИуЕНТНИфИфТЕМИКОМцбУТЕРфКИНАУКИКОќИРАкЕИКРИцТОуРАФИбАфОФТсЕРфКОИНаЕНЕРфТсОКОМцбУТЕРфКИМРЕаИИЕТЕњНОЛОуИИИНТЕЛИуЕНТНИИНФОРМАмИОНИфИфТЕМИфОФТсЕРфКОИНаЕНЕРфТсОфОќРаИНфКИрАЗИРАНОцРЕрАРУсАкЕрИОИНФОРМАТИКАЕКОИНФОРМАТИКАфИфТЕМсОЧИц'"
      ]
     },
     "execution_count": 321,
     "metadata": {},
     "output_type": "execute_result"
    }
   ],
   "source": [
    "# Да ги имплементираме тие промени со код\n",
    "ciphertext = ciphertext.replace('н', 'Ф') # 1\n",
    "ciphertext = ciphertext.replace('ш', 'А') # 2\n",
    "ciphertext = ciphertext.replace('г', 'К') # 3\n",
    "ciphertext = ciphertext.replace('ж', 'У') # 4\n",
    "ciphertext = ciphertext.replace('и', 'Л') # 5\n",
    "ciphertext = ciphertext.replace('л', 'Т') # 6\n",
    "ciphertext = ciphertext.replace('џ', 'Е') # 7\n",
    "ciphertext = ciphertext.replace('ј', 'О') # 8\n",
    "ciphertext = ciphertext.replace('в', 'З') # 9\n",
    "ciphertext = ciphertext.replace('ѓ', 'И') # 10\n",
    "ciphertext = ciphertext.replace('ѕ', 'Н') # 11\n",
    "ciphertext = ciphertext.replace('ч', 'Р') # 12\n",
    "ciphertext = ciphertext.replace('з', 'М') # 13\n",
    "ciphertext = ciphertext.replace('т', 'Ч') # 14\n",
    "ciphertext"
   ]
  },
  {
   "cell_type": "markdown",
   "metadata": {},
   "source": [
    "Сега од текстот може лесно да се подразбираат замените:\n",
    "\n",
    "### 15. Ц ~ П\n",
    "### 16. Б ~ Ј\n",
    "### 17. Ф ~ С\n",
    "### 18. А ~ Ж\n",
    "### 19. С ~ В"
   ]
  },
  {
   "cell_type": "code",
   "execution_count": 322,
   "metadata": {
    "ExecuteTime": {
     "end_time": "2019-11-03T20:03:28.584841Z",
     "start_time": "2019-11-03T20:03:28.578852Z"
    }
   },
   "outputs": [
    {
     "data": {
      "text/plain": [
       "'ФАКУЛТЕТОТЗАИНФОРМАТИЧКИНАУКИИКОМПЈУТЕРСКОИНЖЕНЕРСТВОФИНКИВОСКОПЈЕЕФОРМИРАНВРЗОСНОВАНАЗАКОНОТЗАОСНОВАкЕНАФАКУЛТЕТЗАИНФОРМАТИЧКИНАУКИИКОМПЈУТЕРСКОИНЖЕНЕРСТВОВОСОСТАВНАУНИВЕРЗИТЕТОТСВКИРИЛИМЕТОќИЈСКОПЈЕОрЈАВЕНВОСЛУЖрЕНВЕСНИКНАРМЗАКОНОТСТАПИНАСИЛАНАСЕќМИЈАНУАРИќВЕИЛЈАќИИЕќИНАЕСЕТТАуОќИНАФАКУЛТЕТОТЗАИНФОРМАТИЧКИНАУКИИКОМПЈУТЕРСКОИНЖЕНЕРСТВОФИНКИЕРЕЗУЛТАТНАЗќРУЖУВАкЕТОНАќВАТАНАЈуОЛЕМИИНСТИТУТИОќОрЛАСТАНАИНФОРМАТИКАТАИКОМПЈУТЕРСКАТАТЕњНИКАВОМАКЕќОНИЈАИНСТИТУТОТЗАИНФОРМАТИКАИИПРИПРИРОќНОМАТЕМАТИЧКИОТФАКУЛТЕТИИНСТИТУТОТЗАКОМПЈУТЕРСКАТЕњНИКАИИНФОРМАТИКАИКТИПРИФАКУЛТЕТОТЗАЕЛЕКТРОТЕњНИКАИИНФОРМАмИСКИТЕњНОЛОуИИВОќАќЕНАТАФОРМАќВАТАИНСТИТУТИРАрОТАТУпТЕОќОСУМќЕСЕТТИТЕуОќИНИНАМИНАТИОТВЕКИИПОЧНУВАќАРАрОТИОќќАЛЕЧНАТАОСУМќЕСЕТИПЕТТАуОќИНАКАКОРАМНОПРАВНАСОСТАВНАмЕЛИНАНАПОВТОРНООрЕќИНЕТИОТПМФПОќИМЕТОИНСТИТУТЗАИНФОРМАТИКАИКТИПОТЕКНУВАОќКАТЕќРАТАЗАТЕњНИЧКАКИрЕРНЕТИКАВООВОЈПЕРИОќОќСКОРОТИНАуОќИНИКАЈОВИЕИНСТИТУТИСЕСЛУЧУВАПОСТОЈАНРАСТВОНАУЧНИТЕИТЕњНИЧКИТЕКАПАмИТЕТИКАКОРЕЗУЛТАТНАИЗВОНРЕќНИТЕЗАЛАуАкАНАНИВНИТЕЧЛЕНОВИАВОТРЕНќСОСВЕТСКИОТПОќЕМНАИНФОРМАТИКАТАСПОуОЛЕМИОТИНТЕРЕСНАСТУќЕНТИТЕЗАОВААОрЛАСТИСПОуОЛЕМИОТРАЗВОЈИМОЖНОСТИТЕНАќВАТАИНСТИТУТИќОВЕќУВААТќОТОАВОПОСЛЕќНИТЕУЧЕрНИуОќИНИќАСТАНАТНАЈуОЛЕМИИНСТИТУТИНАФАКУЛТЕТИТЕИќАОПСЛУЖУВААТСКОРОПОЛОВИНАОќСТУќЕНТИТЕВОмЕЛИОТПЕРИОќНАРАЗВОЈПОСТОЈАТуОЛЕМрРОЈЗАЕМНИПРОЕКТИИИСТРАЖУВАкАКАКОНАЛИЧНАТАКАИНАИНСТИТУмИОНАЛНАОСНОВАќВАТАИНСТИТУТИрЕАВОПОСТОЈАНАТАТРКАЗАпТОПОВИСОККВАЛИТЕТНАСТУќИИТЕНАУЧНОИСТРАЖУВАЧКАТАИАПЛИКАТИВНАТАќЕЈНОСТВАКВАТАТРКАВСУпНОСТРЕЗУЛТИРАпЕСОЕќЕНКОНЕЧЕНОрЕќИНУВАЧКИФАКТОРСПОЗНАЧИТЕЛЕНРАЗВОЈИПОќЕМНАИНФОРМАТИКАТАВОМАКЕќОНИЈАИФОРМИРАкЕНАЕќНАИСКЛУЧИТЕЛНОСИЛНАЗАЕќНИмАНАИНФОРМАТИЧКИНАСОЧЕНИНАСТАВНИКАќРИОќуОќИНАТИЕИФОРМАЛНОЗАПОЧНУВААТќАЧЕКОРАТПОЗАЕќНИЧКИПАТКАКОНАЈСИЛНАИНАЈНАПРЕќНАНАУЧНОИСТРАЖУВАЧКАИОрРАЗОВНАИНСТИТУмИЈАВОМАКЕќОНИЈАОќОрЛАСТИТЕНАИНФОРМАТИКАТАФАКУЛТЕТЗАИНФОРМАТИЧКИНАУКИИКОМПЈУТЕРСКОИНЖЕНЕРСТВОФИНКИќОќИПЛОМСКИСТУќИСКИПРОуРАМИКОИФИНКИуИНУќИСЕСЛЕќНИТЕКОМПЈУТЕРСКИНАУКИКОМПЈУТЕРСКОИНЖЕНЕРСТВОИНТЕРНЕТИМРЕЖНАрЕЗрЕќНОСТПРИМЕНАНАИНФОРМАмИСКИТЕњНОЛОуИИИКОМПЈУТЕРСКАЕќУКАмИЈАСМЕРОВИНАМАуИСТЕРСКИЕќНОуОќИпНИСТУќИИСЕИНЖЕНЕРСТВОНАИНТЕЛИуЕНТНИСИСТЕМИКОМПЈУТЕРСКИНАУКИКОќИРАкЕИКРИПТОуРАФИЈАСОФТВЕРСКОИНЖЕНЕРСТВОКОМПЈУТЕРСКИМРЕЖИИЕТЕњНОЛОуИИИНТЕЛИуЕНТНИИНФОРМАмИОНИСИСТЕМИСОФТВЕРСКОИНЖЕНЕРСТВОСОќРЖИНСКИрАЗИРАНОПРЕрАРУВАкЕрИОИНФОРМАТИКАЕКОИНФОРМАТИКАСИСТЕМВОЧИП'"
      ]
     },
     "execution_count": 322,
     "metadata": {},
     "output_type": "execute_result"
    }
   ],
   "source": [
    "# Нека ги имплементираме овие следни промени\n",
    "ciphertext = ciphertext.replace('ц', 'П') # 15\n",
    "ciphertext = ciphertext.replace('б', 'Ј') # 16\n",
    "ciphertext = ciphertext.replace('ф', 'С') # 17\n",
    "ciphertext = ciphertext.replace('а', 'Ж') # 18\n",
    "ciphertext = ciphertext.replace('с', 'В') # 19\n",
    "ciphertext"
   ]
  },
  {
   "cell_type": "markdown",
   "metadata": {},
   "source": [
    "Продолжуваме со замени:\n",
    "\n",
    "### 20. К ~ Њ\n",
    "### 21. Ќ ~ Д\n",
    "### 22. Р ~ Б\n",
    "### 23. У ~ Г\n",
    "### 24. Њ ~ Х\n",
    "### 25. М ~ Ц\n",
    "### 26. П ~ Ш"
   ]
  },
  {
   "cell_type": "code",
   "execution_count": 323,
   "metadata": {
    "ExecuteTime": {
     "end_time": "2019-11-03T20:03:28.592853Z",
     "start_time": "2019-11-03T20:03:28.586830Z"
    }
   },
   "outputs": [
    {
     "data": {
      "text/plain": [
       "'ФАКУЛТЕТОТЗАИНФОРМАТИЧКИНАУКИИКОМПЈУТЕРСКОИНЖЕНЕРСТВОФИНКИВОСКОПЈЕЕФОРМИРАНВРЗОСНОВАНАЗАКОНОТЗАОСНОВАЊЕНАФАКУЛТЕТЗАИНФОРМАТИЧКИНАУКИИКОМПЈУТЕРСКОИНЖЕНЕРСТВОВОСОСТАВНАУНИВЕРЗИТЕТОТСВКИРИЛИМЕТОДИЈСКОПЈЕОБЈАВЕНВОСЛУЖБЕНВЕСНИКНАРМЗАКОНОТСТАПИНАСИЛАНАСЕДМИЈАНУАРИДВЕИЛЈАДИИЕДИНАЕСЕТТАГОДИНАФАКУЛТЕТОТЗАИНФОРМАТИЧКИНАУКИИКОМПЈУТЕРСКОИНЖЕНЕРСТВОФИНКИЕРЕЗУЛТАТНАЗДРУЖУВАЊЕТОНАДВАТАНАЈГОЛЕМИИНСТИТУТИОДОБЛАСТАНАИНФОРМАТИКАТАИКОМПЈУТЕРСКАТАТЕХНИКАВОМАКЕДОНИЈАИНСТИТУТОТЗАИНФОРМАТИКАИИПРИПРИРОДНОМАТЕМАТИЧКИОТФАКУЛТЕТИИНСТИТУТОТЗАКОМПЈУТЕРСКАТЕХНИКАИИНФОРМАТИКАИКТИПРИФАКУЛТЕТОТЗАЕЛЕКТРОТЕХНИКАИИНФОРМАЦИСКИТЕХНОЛОГИИВОДАДЕНАТАФОРМАДВАТАИНСТИТУТИРАБОТАТУШТЕОДОСУМДЕСЕТТИТЕГОДИНИНАМИНАТИОТВЕКИИПОЧНУВАДАРАБОТИОДДАЛЕЧНАТАОСУМДЕСЕТИПЕТТАГОДИНАКАКОРАМНОПРАВНАСОСТАВНАЦЕЛИНАНАПОВТОРНООБЕДИНЕТИОТПМФПОДИМЕТОИНСТИТУТЗАИНФОРМАТИКАИКТИПОТЕКНУВАОДКАТЕДРАТАЗАТЕХНИЧКАКИБЕРНЕТИКАВООВОЈПЕРИОДОДСКОРОТИНАГОДИНИКАЈОВИЕИНСТИТУТИСЕСЛУЧУВАПОСТОЈАНРАСТВОНАУЧНИТЕИТЕХНИЧКИТЕКАПАЦИТЕТИКАКОРЕЗУЛТАТНАИЗВОНРЕДНИТЕЗАЛАГАЊАНАНИВНИТЕЧЛЕНОВИАВОТРЕНДСОСВЕТСКИОТПОДЕМНАИНФОРМАТИКАТАСПОГОЛЕМИОТИНТЕРЕСНАСТУДЕНТИТЕЗАОВААОБЛАСТИСПОГОЛЕМИОТРАЗВОЈИМОЖНОСТИТЕНАДВАТАИНСТИТУТИДОВЕДУВААТДОТОАВОПОСЛЕДНИТЕУЧЕБНИГОДИНИДАСТАНАТНАЈГОЛЕМИИНСТИТУТИНАФАКУЛТЕТИТЕИДАОПСЛУЖУВААТСКОРОПОЛОВИНАОДСТУДЕНТИТЕВОЦЕЛИОТПЕРИОДНАРАЗВОЈПОСТОЈАТГОЛЕМБРОЈЗАЕМНИПРОЕКТИИИСТРАЖУВАЊАКАКОНАЛИЧНАТАКАИНАИНСТИТУЦИОНАЛНАОСНОВАДВАТАИНСТИТУТИБЕАВОПОСТОЈАНАТАТРКАЗАШТОПОВИСОККВАЛИТЕТНАСТУДИИТЕНАУЧНОИСТРАЖУВАЧКАТАИАПЛИКАТИВНАТАДЕЈНОСТВАКВАТАТРКАВСУШНОСТРЕЗУЛТИРАШЕСОЕДЕНКОНЕЧЕНОБЕДИНУВАЧКИФАКТОРСПОЗНАЧИТЕЛЕНРАЗВОЈИПОДЕМНАИНФОРМАТИКАТАВОМАКЕДОНИЈАИФОРМИРАЊЕНАЕДНАИСКЛУЧИТЕЛНОСИЛНАЗАЕДНИЦАНАИНФОРМАТИЧКИНАСОЧЕНИНАСТАВНИКАДРИОДГОДИНАТИЕИФОРМАЛНОЗАПОЧНУВААТДАЧЕКОРАТПОЗАЕДНИЧКИПАТКАКОНАЈСИЛНАИНАЈНАПРЕДНАНАУЧНОИСТРАЖУВАЧКАИОБРАЗОВНАИНСТИТУЦИЈАВОМАКЕДОНИЈАОДОБЛАСТИТЕНАИНФОРМАТИКАТАФАКУЛТЕТЗАИНФОРМАТИЧКИНАУКИИКОМПЈУТЕРСКОИНЖЕНЕРСТВОФИНКИДОДИПЛОМСКИСТУДИСКИПРОГРАМИКОИФИНКИГИНУДИСЕСЛЕДНИТЕКОМПЈУТЕРСКИНАУКИКОМПЈУТЕРСКОИНЖЕНЕРСТВОИНТЕРНЕТИМРЕЖНАБЕЗБЕДНОСТПРИМЕНАНАИНФОРМАЦИСКИТЕХНОЛОГИИИКОМПЈУТЕРСКАЕДУКАЦИЈАСМЕРОВИНАМАГИСТЕРСКИЕДНОГОДИШНИСТУДИИСЕИНЖЕНЕРСТВОНАИНТЕЛИГЕНТНИСИСТЕМИКОМПЈУТЕРСКИНАУКИКОДИРАЊЕИКРИПТОГРАФИЈАСОФТВЕРСКОИНЖЕНЕРСТВОКОМПЈУТЕРСКИМРЕЖИИЕТЕХНОЛОГИИИНТЕЛИГЕНТНИИНФОРМАЦИОНИСИСТЕМИСОФТВЕРСКОИНЖЕНЕРСТВОСОДРЖИНСКИБАЗИРАНОПРЕБАРУВАЊЕБИОИНФОРМАТИКАЕКОИНФОРМАТИКАСИСТЕМВОЧИП'"
      ]
     },
     "execution_count": 323,
     "metadata": {},
     "output_type": "execute_result"
    }
   ],
   "source": [
    "# Продолжуваме со имплементирање на замените\n",
    "ciphertext = ciphertext.replace('к', 'Њ') # 20\n",
    "ciphertext = ciphertext.replace('ќ', 'Д') # 21\n",
    "ciphertext = ciphertext.replace('р', 'Б') # 22\n",
    "ciphertext = ciphertext.replace('у', 'Г') # 23\n",
    "ciphertext = ciphertext.replace('њ', 'Х') # 24\n",
    "ciphertext = ciphertext.replace('м', 'Ц') # 25\n",
    "ciphertext = ciphertext.replace('п', 'Ш') # 26\n",
    "ciphertext"
   ]
  },
  {
   "cell_type": "markdown",
   "metadata": {},
   "source": [
    "### Декриптираниот текст ќе го прикажеме подолу (за да стане почитлив ќе ги ставиме рачно празните места):\n",
    "\n",
    "ФАКУЛТЕТОТ ЗА ИНФОРМАТИЧКИ НАУКИ И КОМПЈУТЕРСКО ИНЖЕНЕРСТВО ФИНКИ ВО СКОПЈЕ Е ФОРМИРАН ВРЗ ОСНОВА НА ЗАКОНОТ ЗА ОСНОВАЊЕ НА ФАКУЛТЕТ ЗА ИНФОРМАТИЧКИ НАУКИ И КОМПЈУТЕРСКО ИНЖЕНЕРСТВО ВО СОСТАВ НА УНИВЕРЗИТЕТОТ СВ КИРИЛ И МЕТОДИЈ СКОПЈЕ ОБЈАВЕН ВО СЛУЖБЕН ВЕСНИК НА РМ ЗАКОНОТ СТАПИ НА СИЛА НА СЕДМИ ЈАНУАРИ ДВЕ ИЛЈАДИ И ЕДИНАЕСЕТТА ГОДИНА ФАКУЛТЕТОТ ЗА ИНФОРМАТИЧКИ НАУКИ И КОМПЈУТЕРСКО ИНЖЕНЕРСТВО ФИНКИ Е РЕЗУЛТАТ НА ЗДРУЖУВАЊЕТО НА ДВАТА НАЈГОЛЕМИ ИНСТИТУТИ ОД ОБЛАСТА НА ИНФОРМАТИКАТА И КОМПЈУТЕРСКАТА ТЕХНИКА ВО МАКЕДОНИЈА ИНСТИТУТОТ ЗА ИНФОРМАТИКА И И ПРИПРИРОДНО МАТЕМАТИЧКИОТ ФАКУЛТЕТ И ИНСТИТУТОТ ЗА КОМПЈУТЕРСКА ТЕХНИКА И ИНФОРМАТИКА ИКТИ ПРИ ФАКУЛТЕТОТ ЗА ЕЛЕКТРОТЕХНИКА И ИНФОРМАЦИСКИ ТЕХНОЛОГИИ ВО ДАДЕНАТА ФОРМА ДВАТА ИНСТИТУТИ РАБОТАТ УШТЕ ОД ОСУМДЕСЕТТИТЕ ГОДИНИ НА МИНАТИОТ ВЕК ИИ ПОЧНУВА ДА РАБОТИ ОДДАЛЕЧНАТА ОСУМДЕСЕТИ ПЕТТА ГОДИНА КАКО РАМНОПРАВНА СОСТАВ НА ЦЕЛИНА НА ПОВТОРНО ОБЕДИНЕТИОТ ПМФ ПОД ИМЕТО ИНСТИТУТ ЗА ИНФОРМАТИКА ИКТИ ПОТЕКНУВА ОД КАТЕДРАТА ЗА ТЕХНИЧКА КИБЕРНЕТИКА ВО ОВОЈ ПЕРИОД ОД СКОРО ТИНА ГОДИНИ КАЈ ОВИЕ ИНСТИТУТИ СЕ СЛУЧУВА ПОСТОЈАН РАСТ ВОНАУЧНИТЕ И ТЕХНИЧКИТЕ КАПАЦИТЕТИ КАКО РЕЗУЛТАТ НА ИЗВОНРЕДНИТЕ ЗАЛАГАЊА НА НИВНИТЕ ЧЛЕНОВИ А ВО ТРЕНД СО СВЕТСКИОТ ПОДЕМ НА ИНФОРМАТИКАТА С ПОГОЛЕМИОТ ИНТЕРЕС НА СТУДЕНТИТЕ ЗА ОВАА ОБЛАСТ И С ПОГОЛЕМИОТ РАЗВОЈ И МОЖНОСТИТЕ НА ДВАТА ИНСТИТУТИ ДОВЕДУВААТ ДО ТОА ВОПОСЛЕДНИТЕ УЧЕБНИ ГОДИНИ ДА СТАНАТ НАЈГОЛЕМИ ИНСТИТУТИ НА ФАКУЛТЕТИТЕ И ДА ОПСЛУЖУВААТ СКОРО ПОЛОВИНА ОД СТУДЕНТИТЕ ВО ЦЕЛИОТ ПЕРИОД НА РАЗВОЈ ПОСТОЈАТ ГОЛЕМ БРОЈ ЗАЕМНИ ПРОЕКТИ И ИСТРАЖУВАЊА КАКО НА ЛИЧНА ТАКА И НА ИНСТИТУЦИОНАЛНА ОСНОВА ДВАТА ИНСТИТУТИ БЕА ВО ПОСТОЈАНАТА ТРКА ЗА ШТО ПОВИСОК КВАЛИТЕТ НА СТУДИИТЕ НАУЧНО ИСТРАЖУВАЧКАТА И АПЛИКАТИВНАТА ДЕЈНОСТ ВАКВАТА ТРКА ВСУШНОСТ РЕЗУЛТИРАШЕ СО ЕДЕН КОНЕЧЕН ОБЕДИНУВАЧКИ ФАКТОР С ПОЗНАЧИТЕЛЕН РАЗВОЈ И ПОДЕМ НА ИНФОРМАТИКАТА ВО МАКЕДОНИЈА И ФОРМИРАЊЕ НА ЕДНА ИСКЛУЧИТЕЛНО СИЛНА ЗАЕДНИЦА НА ИНФОРМАТИЧКИ НАСОЧЕНИ НАСТАВНИ КАДРИ ОД ГОДИНА ТИЕ И ФОРМАЛНО ЗАПОЧНУВААТ ДА ЧЕКОРАТ ПОЗАЕДНИЧКИ ПАТ КАКО НАЈСИЛНА И НАЈНАПРЕДНА НАУЧНО ИСТРАЖУВАЧКА И ОБРАЗОВНА ИНСТИТУЦИЈА ВО МАКЕДОНИЈА ОД ОБЛАСТИТЕ НА ИНФОРМАТИКАТА ФАКУЛТЕТ ЗА ИНФОРМАТИЧКИ НАУКИ ИКОМПЈУТЕРСКО ИНЖЕНЕРСТВО ФИНКИ ДОДИПЛОМСКИ СТУДИСКИ ПРОГРАМИ КОИ ФИНКИ ГИ НУДИ СЕ СЛЕДНИТЕ КОМПЈУТЕРСКИ НАУК И КОМПЈУТЕРСКО ИНЖЕНЕРСТВО ИНТЕРНЕТ И МРЕЖНА БЕЗБЕДНОСТ ПРИМЕНА НА ИНФОРМАЦИСКИ ТЕХНОЛОГИИ И КОМПЈУТЕРСКА ЕДУКАЦИЈА СМЕРОВИ НА МАГИСТЕРСКИ ЕДНО ГОДИШНИ СТУДИИ СЕ ИНЖЕНЕРСТВО НА ИНТЕЛИГЕНТНИ СИСТЕМИ КОМПЈУТЕРСКИ НАУКИ КОДИРАЊЕ И КРИПТОГРАФИЈА СОФТВЕРСКО ИНЖЕНЕРСТВО КОМПЈУТЕРСКИ МРЕЖИ И ЕТЕХНОЛОГИИ ИНТЕЛИГЕНТНИ ИНФОРМАЦИОНИ СИСТЕМИ СОФТВЕРСКО ИНЖЕНЕРСТВО СОДРЖИНСКИ БАЗИРАН ОПРЕБАРУВАЊЕ БИОИНФОРМАТИКА ЕКО ИНФОРМАТИКА СИСТЕМ ВО ЧИП"
   ]
  },
  {
   "cell_type": "markdown",
   "metadata": {},
   "source": [
    "### ЗАКЛУЧОК:\n",
    "\n",
    "Клучот на оваа енкрипција е субституцијата:\n",
    "\n",
    "1. Н ~ Ф\n",
    "2. Ш ~ А\n",
    "3. Г ~ К\n",
    "4. Ж ~ У\n",
    "5. И ~ Л\n",
    "6. Л ~ Т\n",
    "7. Џ ~ Е\n",
    "8. Ј ~ О\n",
    "9.   В ~ З\n",
    "10. Ѓ ~ И\n",
    "11. Ѕ ~ Н\n",
    "12. Ч ~ Р\n",
    "13. З ~ М\n",
    "14. Т ~ Ч\n",
    "15. Ц ~ П\n",
    "16. Б ~ Ј\n",
    "17. Ф ~ С\n",
    "18. А ~ Ж\n",
    "19. С ~ В\n",
    "20. К ~ Њ\n",
    "21. Ќ ~ Д\n",
    "22. Р ~ Б\n",
    "23. У ~ Г\n",
    "24. Њ ~ Х\n",
    "25. М ~ Ц\n",
    "26. П ~ Ш"
   ]
  }
 ],
 "metadata": {
  "kernelspec": {
   "display_name": "Python 3",
   "language": "python",
   "name": "python3"
  },
  "language_info": {
   "codemirror_mode": {
    "name": "ipython",
    "version": 3
   },
   "file_extension": ".py",
   "mimetype": "text/x-python",
   "name": "python",
   "nbconvert_exporter": "python",
   "pygments_lexer": "ipython3",
   "version": "3.7.3"
  }
 },
 "nbformat": 4,
 "nbformat_minor": 2
}
