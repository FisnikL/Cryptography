{
 "cells": [
  {
   "cell_type": "markdown",
   "metadata": {},
   "source": [
    "# LAB3 - КРИПТОГРАФИЈА\n",
    "\n",
    "## 151027 Fisnik Limani"
   ]
  },
  {
   "cell_type": "markdown",
   "metadata": {},
   "source": [
    "# 1. DES (DATA ENCRYPTION STANDARD) IMPLEMENTATION"
   ]
  },
  {
   "cell_type": "code",
   "execution_count": 461,
   "metadata": {
    "ExecuteTime": {
     "end_time": "2019-12-11T15:04:50.875370Z",
     "start_time": "2019-12-11T15:04:50.867421Z"
    }
   },
   "outputs": [],
   "source": [
    "# Convert ASCII text to binary\n",
    "def _ascii_to_bin(text):\n",
    "\n",
    "    out = \"\"\n",
    "    for letter in text:\n",
    "        out += bin(ord(letter))[2:].zfill(8)\n",
    "    # ord(letter) - Given a string of length one, return an integer representing the Unicode code point of the character \n",
    "    #               when the argument is a unicode object, or the value of the byte when the argument is an 8-bit string. \n",
    "\n",
    "    # Pad block with 0s if necessary\n",
    "    for i in range(64-(len(out))):\n",
    "        out += \"0\"\n",
    "\n",
    "    return out"
   ]
  },
  {
   "cell_type": "code",
   "execution_count": 463,
   "metadata": {
    "ExecuteTime": {
     "end_time": "2019-12-11T15:04:50.899373Z",
     "start_time": "2019-12-11T15:04:50.891373Z"
    }
   },
   "outputs": [],
   "source": [
    "# Convert binary to ASCII text\n",
    "def _bin_to_ascii(bit64):\n",
    "\n",
    "    out = \"\"\n",
    "    for i in range(0, 64, 8):\n",
    "        out += chr(int(bit64[i:i+8], 2))\n",
    "\n",
    "    #out.replace(\"\\x00\", \"\")\n",
    "    return out"
   ]
  },
  {
   "cell_type": "code",
   "execution_count": 462,
   "metadata": {
    "ExecuteTime": {
     "end_time": "2019-12-11T15:04:50.887406Z",
     "start_time": "2019-12-11T15:04:50.875370Z"
    }
   },
   "outputs": [],
   "source": [
    "# Convert HEX text to binary\n",
    "def _hex_to_bin(text):\n",
    "\n",
    "    out = \"\"\n",
    "    for letter in text:\n",
    "        out += bin(int(letter, 16))[2:].zfill(4)\n",
    "\n",
    "    # Pad block with 0s if necessary\n",
    "    for i in range(64-(len(out))):\n",
    "        out += \"0\"\n",
    "\n",
    "    return out"
   ]
  },
  {
   "cell_type": "code",
   "execution_count": 495,
   "metadata": {
    "ExecuteTime": {
     "end_time": "2019-12-11T18:22:17.624065Z",
     "start_time": "2019-12-11T18:22:17.618081Z"
    }
   },
   "outputs": [],
   "source": [
    "# Convert binary to hex\n",
    "def _bin_to_hex(bit64):\n",
    "\n",
    "    out = \"\"\n",
    "    for i in range(0, len(bit64), 4):\n",
    "        out += hex(int(bit64[i:i+4], 2))[2:]\n",
    "\n",
    "    return out"
   ]
  },
  {
   "cell_type": "code",
   "execution_count": 456,
   "metadata": {
    "ExecuteTime": {
     "end_time": "2019-12-11T15:04:50.755375Z",
     "start_time": "2019-12-11T15:04:50.747413Z"
    }
   },
   "outputs": [],
   "source": [
    "\"\"\"\n",
    "Expansion:\n",
    "\n",
    "    - Takes 32-bit binary number in the form of a string\n",
    "    - Transforms and permutes 32-bit number into 48-bit number\n",
    "    - Returns 48-bit binary number in the form of a string\n",
    "\n",
    "\"\"\"\n",
    "def _expansion(bit32):\n",
    "\n",
    "    # Expansion table\n",
    "    e = [32,  1,  2,  3,  4,  5,\n",
    "          4,  5,  6,  7,  8,  9,\n",
    "          8,  9, 10, 11, 12, 13,\n",
    "         12, 13, 14, 15, 16, 17,\n",
    "         16, 17, 18, 19, 20, 21,\n",
    "         20, 21, 22, 23, 24, 25,\n",
    "         24, 25, 26, 27, 28, 29,\n",
    "         28, 29, 30, 31, 32,  1]\n",
    "\n",
    "    # Perform permutation on bit32\n",
    "    out = \"\"\n",
    "    for number in e:\n",
    "        out += bit32[number-1]\n",
    "\n",
    "    return out"
   ]
  },
  {
   "cell_type": "code",
   "execution_count": 457,
   "metadata": {
    "ExecuteTime": {
     "end_time": "2019-12-11T15:04:50.815371Z",
     "start_time": "2019-12-11T15:04:50.759410Z"
    }
   },
   "outputs": [],
   "source": [
    "\"\"\"\n",
    "Sbox Substitution:\n",
    "\n",
    "    - Takes 48-bit binary number in the form of a string\n",
    "    \n",
    "    - Splits 48-bit input into 8 chunks of 6 bits\n",
    "    - Performs substitutions on each chunk using 8 hard-coded tables:\n",
    "\t    > The first and last bit of the 6-bit chunk acts as a\n",
    "\t      coordinate for the row of the Sbox\n",
    "\t    > The middle 4 bits act as a coordinate for the column\n",
    "\t    \n",
    "    - Returns 32-bit binary number in the form of a string \n",
    "\"\"\"\n",
    "def _Sbox(bit48, s_boxovi = False, round_s_boxovi = False, round_s_boxovi_list = None):\n",
    "\n",
    "    s = [\n",
    "         # s1\n",
    "         [[14,  4, 13,  1,  2, 15, 11,  8,  3, 10,  6, 12,  5,  9,  0,  7],\n",
    "          [ 0, 15,  7,  4, 14,  2, 13,  1, 10,  6, 12, 11,  9,  5,  3,  8],\n",
    "          [ 4,  1, 14,  8, 13,  6,  2, 11, 15, 12,  9,  7,  3, 10,  5,  0],\n",
    "          [15, 12,  8,  2,  4,  9,  1,  7,  5, 11,  3, 14, 10,  0,  6, 13]],\n",
    "         # s2\n",
    "         [[15,  1,  8, 14,  6, 11,  3,  4,  9,  7,  2, 13, 12,  0,  5, 10],\n",
    "          [ 3, 13,  4,  7, 15,  2,  8, 14, 12,  0,  1, 10,  6,  9, 11,  5],\n",
    "          [ 0, 14,  7, 11, 10,  4, 13,  1,  5,  8, 12,  6,  9,  3,  2, 15],\n",
    "          [13,  8, 10,  1,  3, 15,  4,  2, 11,  6,  7, 12,  0,  5, 14,  9]],\n",
    "         # s3\n",
    "         [[10,  0,  9, 14,  6,  3, 15,  5,  1, 13, 12,  7, 11,  4,  2,  8],\n",
    "          [13,  7,  0,  9,  3,  4,  6, 10,  2,  8,  5, 14, 12, 11, 15,  1],\n",
    "          [13,  6,  4,  9,  8, 15,  3,  0, 11,  1,  2, 12,  5, 10, 14,  7],\n",
    "          [ 1, 10, 13,  0,  6,  9,  8,  7,  4, 15, 14,  3, 11,  5,  2, 12]],\n",
    "         # s4\n",
    "         [[ 7, 13, 14,  3,  0,  6,  9, 10,  1,  2,  8,  5, 11, 12,  4, 15],\n",
    "          [13,  8, 11,  5,  6, 15,  0,  3,  4,  7,  2, 12,  1, 10, 14,  9],\n",
    "          [10,  6,  9,  0, 12, 11,  7, 13, 15,  1,  3, 14,  5,  2,  8,  4],\n",
    "          [ 3, 15,  0,  6, 10,  1, 13,  8,  9,  4,  5, 11, 12,  7,  2, 14]],\n",
    "         # s5\n",
    "         [[ 2, 12,  4,  1,  7, 10, 11,  6,  8,  5,  3, 15, 13,  0, 14,  9],\n",
    "          [14, 11,  2, 12,  4,  7, 13,  1,  5,  0, 15, 10,  3,  9,  8,  6],\n",
    "          [ 4,  2,  1, 11, 10, 13,  7,  8, 15,  9, 12,  5,  6,  3,  0, 14],\n",
    "          [11,  8, 12,  7,  1, 14,  2, 13,  6, 15,  0,  9, 10,  4,  5,  3]],\n",
    "         # s6\n",
    "         [[12,  1, 10, 15,  9,  2,  6,  8,  0, 13,  3,  4, 14,  7,  5, 11],\n",
    "          [10, 15,  4,  2,  7, 12,  9,  5,  6,  1, 13, 14,  0, 11,  3,  8],\n",
    "          [ 9, 14, 15,  5,  2,  8, 12,  3,  7,  0,  4, 10,  1, 13, 11,  6],\n",
    "          [ 4,  3,  2, 12,  9,  5, 15, 10, 11, 14,  1,  7,  6,  0,  8, 13]],\n",
    "         # s7\n",
    "         [[ 4, 11,  2, 14, 15,  0,  8, 13,  3, 12,  9,  7,  5, 10,  6,  1],\n",
    "          [13,  0, 11,  7,  4,  9,  1, 10, 14,  3,  5, 12,  2, 15,  8,  6],\n",
    "          [ 1,  4, 11, 13, 12,  3,  7, 14, 10, 15,  6,  8,  0,  5,  9,  2],\n",
    "          [ 6, 11, 13,  8,  1,  4, 10,  7,  9,  5,  0, 15, 14,  2,  3, 12]],\n",
    "         # s8\n",
    "         [[13,  2,  8,  4,  6, 15, 11,  1, 10,  9,  3, 14,  5,  0, 12,  7],\n",
    "          [ 1, 15, 13,  8, 10,  3,  7,  4, 12,  5,  6, 11,  0, 14,  9,  2],\n",
    "          [ 7, 11,  4,  1,  9, 12, 14,  2,  0,  6, 10, 13, 15,  3,  5,  8],\n",
    "          [ 2,  1, 14,  7,  4, 10,  8, 13, 15, 12,  9,  0,  3,  5,  6, 11]]\n",
    "        ]\n",
    "    \n",
    "    # Break up 48-bit input into 8 6-bit chunks\n",
    "    bit6_list = []\n",
    "    for i in range(0, 48, 6):\n",
    "        bit6_list.append(bit48[i:i+6])\n",
    "    if s_boxovi:\n",
    "        print(bit6_list)\n",
    "    elif round_s_boxovi:\n",
    "        # print(bit6_list)\n",
    "        round_s_boxovi_list.append(bit6_list)\n",
    "\n",
    "    # Perform 8 Sbox substitutions using the 8 6-bit chunks\n",
    "    # and the 8 Sbox tables s1-s8\n",
    "    out = \"\"\n",
    "    for i in range(8):\n",
    "        chunk = bit6_list[i]\n",
    "        row = int(chunk[0]+chunk[5], 2)\n",
    "        col = int(chunk[1:5], 2)\n",
    "\n",
    "        out += (bin(s[i][row][col])[2:].zfill(4))\n",
    "\n",
    "    return out"
   ]
  },
  {
   "cell_type": "code",
   "execution_count": 458,
   "metadata": {
    "ExecuteTime": {
     "end_time": "2019-12-11T15:04:50.827371Z",
     "start_time": "2019-12-11T15:04:50.815371Z"
    }
   },
   "outputs": [],
   "source": [
    "\"\"\"\n",
    "Permute:\n",
    "\n",
    "    - Takes 32-bit binary number in the form of a string\n",
    "    - Performs simple permutation on the number\n",
    "    - Returns 32-bit binary number in the form of a string\n",
    "\n",
    "\"\"\"\n",
    "def _permute(bit32):\n",
    "\n",
    "    # Permutation table\n",
    "    p = [16,  7, 20, 21,\n",
    "         29, 12, 28, 17,\n",
    "          1, 15, 23, 26,\n",
    "          5, 18, 31, 10,\n",
    "          2,  8, 24, 14,\n",
    "         32, 27,  3,  9,\n",
    "         19, 13, 30,  6,\n",
    "         22, 11,  4, 25]\n",
    "\n",
    "    # Perform permutation on bit32\n",
    "    out = \"\"\n",
    "    for number in p:\n",
    "        out += bit32[number-1]\n",
    "\n",
    "    return out"
   ]
  },
  {
   "cell_type": "code",
   "execution_count": 459,
   "metadata": {
    "ExecuteTime": {
     "end_time": "2019-12-11T15:04:50.839371Z",
     "start_time": "2019-12-11T15:04:50.827371Z"
    }
   },
   "outputs": [],
   "source": [
    "\"\"\"\n",
    "f Function:\n",
    "\n",
    "    - Takes 32-bit binary number in the form of a string (bit32)\n",
    "      and a 48-bit binary number in the form of a string (key)\n",
    "\n",
    "    - Performs various permutations, expansions, and reductions\n",
    "      on the input bit32\n",
    "\n",
    "    - Returns 32-bit binary number in the form of a string\n",
    "\n",
    "\n",
    "\"\"\"\n",
    "def f(bit32, key, s_boxovi = False, round_s_boxovi = False, round_s_boxovi_list = None):\n",
    "\n",
    "    # Expand 32-bit input to 48 bits and convert to int\n",
    "    bit48 = int(_expansion(bit32), base = 2)\n",
    "\n",
    "\n",
    "    # XOR 48-bit result and round key, and then convert back to binary\n",
    "    bit48 ^= int(key, 2)\n",
    "    bit48 = bin(bit48)[2:].zfill(48)\n",
    "    # [2:] - because bin gives a number of a form '0b{binaryNumberRepresentation}'\n",
    "    # zfill(width) - The width specifies the length of the returned string from zfill() with '0' digits filled to the left.\n",
    "    \n",
    "\n",
    "    # Perform Sbox substitution\n",
    "    bit32 = _Sbox(bit48, s_boxovi, round_s_boxovi, round_s_boxovi_list)\n",
    "\n",
    "\n",
    "    # Perform permutation on bit32\n",
    "    bit32 = _permute(bit32)\n",
    "    \n",
    "\n",
    "    return bit32"
   ]
  },
  {
   "cell_type": "code",
   "execution_count": 532,
   "metadata": {
    "ExecuteTime": {
     "end_time": "2019-12-11T18:51:07.484203Z",
     "start_time": "2019-12-11T18:51:07.466210Z"
    }
   },
   "outputs": [],
   "source": [
    "def _cipher(bit64, keys, first_round = False, s_boxovi = False, round_s_boxovi = False, round_s_boxovi_list = None):\n",
    "\n",
    "    # Initial permutation table\n",
    "    ip = [58, 50, 42, 34, 26, 18, 10, 2,\n",
    "          60, 52, 44, 36, 28, 20, 12, 4,\n",
    "          62, 54, 46, 38, 30, 22, 14, 6,\n",
    "          64, 56, 48, 40, 32, 24, 16, 8,\n",
    "          57, 49, 41, 33, 25, 17,  9, 1,\n",
    "          59, 51, 43, 35, 27, 19, 11, 3,\n",
    "          61, 53, 45, 37, 29, 21, 13, 5,\n",
    "          63, 55, 47, 39, 31, 23, 15, 7]\n",
    "\n",
    "    # Final permutation\n",
    "    fp = [40,  8, 48, 16, 56, 24, 64, 32,\n",
    "          39,  7, 47, 15, 55, 23, 63, 31,\n",
    "          38,  6, 46, 14, 54, 22, 62, 30,\n",
    "          37,  5, 45, 13, 53, 21, 61, 29,\n",
    "          36,  4, 44, 12, 52, 20, 60, 28,\n",
    "          35,  3, 43, 11, 51, 19, 59, 27,\n",
    "          34,  2, 42, 10, 50, 18, 58, 26,\n",
    "          33,  1, 41,  9, 49, 17, 57, 25]\n",
    "    \n",
    "\n",
    "    # Perform initial permutation on block\n",
    "    p = \"\"\n",
    "    for number in ip:\n",
    "        p += bit64[number-1]\n",
    "\n",
    "    # Split block into two halves\n",
    "    ln = p[:32]\n",
    "    rn = p[32:]\n",
    "    \n",
    "    # print('After initial permutation', _bin_to_hex(p))\n",
    "    # print('L0', _bin_to_hex(ln), 'R0', _bin_to_hex(rn))\n",
    "        \n",
    "    # 16 rounds of encryption, rotating and XORing each half after each round\n",
    "    for i in range(16):\n",
    "        temp = rn\n",
    "        if round_s_boxovi:\n",
    "            rn = bin(int(ln, 2) ^ int(f(rn, keys[i], round_s_boxovi = round_s_boxovi, round_s_boxovi_list = round_s_boxovi_list), 2))[2:].zfill(32)\n",
    "        elif i == 1 and s_boxovi:\n",
    "            rn = bin(int(ln, 2) ^ int(f(rn, keys[i], True), 2))[2:].zfill(32)\n",
    "            break\n",
    "        elif i == 0 and first_round:\n",
    "            print(ln + rn)\n",
    "            break\n",
    "        else:\n",
    "            rn = bin(int(ln, 2) ^ int(f(rn, keys[i]), 2))[2:].zfill(32)\n",
    "        ln = temp\n",
    "        # print(_bin_to_hex(ln), _bin_to_hex(rn), _bin_to_hex(keys[i]))\n",
    "    \n",
    "    # We reverse the order of the two blocks into R16L16 and perform final permutation\n",
    "    combined = rn + ln\n",
    "    # combined = ln + rn\n",
    "    out = \"\"\n",
    "    for number in fp:\n",
    "        out += combined[number-1]\n",
    "    \n",
    "    return out"
   ]
  },
  {
   "cell_type": "code",
   "execution_count": 465,
   "metadata": {
    "ExecuteTime": {
     "end_time": "2019-12-11T15:04:50.923373Z",
     "start_time": "2019-12-11T15:04:50.911373Z"
    }
   },
   "outputs": [],
   "source": [
    "def encrypt(text, keys, first_round=False, s_boxovi = False, round_s_boxovi = False, round_s_boxovi_list = None):\n",
    "\n",
    "    # Split text up into 64-bit chunks\n",
    "    blocks = []\n",
    "    for i in range(0, len(text), 16):\n",
    "        blocks.append(text[i:i+16])\n",
    "\n",
    "\n",
    "    # Encrypt chunks\n",
    "    e_list = []\n",
    "    for block in blocks:\n",
    "        e_list.append(_cipher(_hex_to_bin(block), keys, first_round, s_boxovi, round_s_boxovi, round_s_boxovi_list))\n",
    "\n",
    "\n",
    "    # Combine chunks back into a single string\n",
    "    out = \"\"\n",
    "    for block in e_list:\n",
    "        #out += _bin_to_ascii(block)    # ASCII output\n",
    "        out += hex(int(block, 2))      # Hex output\n",
    "        #out += block                    # Binary output\n",
    "    return out"
   ]
  },
  {
   "cell_type": "code",
   "execution_count": 466,
   "metadata": {
    "ExecuteTime": {
     "end_time": "2019-12-11T15:04:50.951373Z",
     "start_time": "2019-12-11T15:04:50.923373Z"
    }
   },
   "outputs": [],
   "source": [
    "import random\n",
    "\n",
    "\"\"\"\n",
    "DES Key Scheduler:\n",
    "\n",
    "    - Generates 16 48-bit subkeys from a randomly\n",
    "      generated 64-bit initial key\n",
    "\n",
    "    - Returns a list of the 16 subkeys in the form\n",
    "      of binary strings\n",
    "\n",
    "\"\"\"\n",
    "\n",
    "def key_scheduler(key = None, is_key_random = False):\n",
    "\n",
    "    # -------------------- Variables -------------------- #\n",
    "    #\n",
    "    # k         Initial 64-bit key\n",
    "    # k_prime   Permuted 56-bit key\n",
    "    # c0        Left half of k_prime\n",
    "    # d0        Right half of k_prime\n",
    "    # c_keys    16 28-bit permutations of c0 using lrt\n",
    "    # d_keys    16 28-bit permutations of d0 using lrt\n",
    "    # keys      Final list of 16 48-bit keys\n",
    "    #\n",
    "    # --------------------------------------------------- #\n",
    "\n",
    "    \n",
    "    # ---------------- Hard-Coded Values ---------------- #\n",
    "\n",
    "    # pc1       Permutation table No. 1\n",
    "    pc1 = [57, 49, 41, 33, 25, 17,  9, #7\n",
    "            1, 58, 50, 42, 34, 26, 18, #14\n",
    "           10,  2, 59, 51, 43, 35, 27, #21\n",
    "           19, 11,  3, 60, 52, 44, 36, #28\n",
    "           63, 55, 47, 39, 31, 23, 15, #35\n",
    "            7, 62, 54, 46, 38, 30, 22, #42\n",
    "           14,  6, 61, 53, 45, 37, 29, #49\n",
    "           21, 13,  5, 28, 20, 12,  4] #56\n",
    "\n",
    "    # pc2       Permutation table No. 2\n",
    "    pc2 = [14, 17, 11, 24,  1,  5,\n",
    "           3,  28, 15,  6, 21, 10,\n",
    "           23, 19, 12,  4, 26,  8,\n",
    "           16,  7, 27, 20, 13,  2,\n",
    "           41, 52, 31, 37, 47, 55,\n",
    "           30, 40, 51, 45, 33, 48,\n",
    "           44, 49, 39, 56, 34, 53,\n",
    "           46, 42, 50, 36, 29, 32]\n",
    "           \n",
    "\n",
    "    # lrt       Left rotation table\n",
    "    lrt = [1, 1, 2, 2, 2, 2, 2, 2,\n",
    "           1, 2, 2, 2, 2, 2, 2, 1]\n",
    "\n",
    "    # --------------------------------------------------- #\n",
    "\n",
    "\n",
    "    \n",
    "\n",
    "    # Generate random 64-bit number\n",
    "    # Note - Even though the algorithm starts with a 64-bit key, DES is still technically\n",
    "    # 56-bit, because 8 of the bits are used as parity bits. These bits are lost during the\n",
    "    # first permutation using pc1.\n",
    "    k = None\n",
    "    if is_key_random:\n",
    "        k = random.getrandbits(64)    # getrandbits(k) - Returns a python long int with k random bits. \n",
    "        k = bin(k)[2:].zfill(64)\n",
    "    else:\n",
    "        k = _hex_to_bin(key)\n",
    "        # print('key: ',key)\n",
    "        # print('k: ', k)\n",
    "    \n",
    "\n",
    "    # Generate k_prime using permutation table 1\n",
    "    k_prime = \"\"\n",
    "    for number in pc1:\n",
    "        k_prime += k[number-1]\n",
    "    \n",
    "    # print(\"k_prime: \", k_prime)\n",
    "\n",
    "    # Find c0 (left half of k_prime) and d0 (right half of k_prime)\n",
    "    c0 = k_prime[:28]\n",
    "    d0 = k_prime[28:]\n",
    "\n",
    "\n",
    "    # Rotate c0 and d0 according to left rotation table\n",
    "    c_keys = []\n",
    "    d_keys = []\n",
    "    for i in range(16):\n",
    "        num = lrt[i]\n",
    "        \n",
    "        temp = c0[0:num]\n",
    "        c0 = c0[num:] + temp\n",
    "        c_keys.append(c0)\n",
    "\n",
    "        temp = d0[0:num]\n",
    "        d0 = d0[num:] + temp\n",
    "        d_keys.append(d0)\n",
    "        # print(i, c0, d0)\n",
    "\n",
    "\n",
    "    # Generate subkeys by combining c_keys[i] and d_keys[i].\n",
    "    # Use permutation table 2 to generate 16 48-bit keys\n",
    "    keys = []\n",
    "    for i in range(16):\n",
    "        cat = c_keys[i] + d_keys[i]\n",
    "        # print('cat:', cat)\n",
    "        temp = \"\"\n",
    "        for number in pc2:\n",
    "            temp += cat[number-1]\n",
    "        keys.append(temp)\n",
    "\n",
    "    return keys"
   ]
  },
  {
   "cell_type": "markdown",
   "metadata": {},
   "source": [
    "# 2. ЗАДАЧИ"
   ]
  },
  {
   "cell_type": "markdown",
   "metadata": {},
   "source": [
    "# 2.1. ЗАДАЧА 1"
   ]
  },
  {
   "cell_type": "markdown",
   "metadata": {},
   "source": [
    "## 2.1 a) Kој е излезот од првата рунда на DES алгоритамот кога пораката и клучот се составени само од 0-ли. Испечатете ги рундовските клучеви."
   ]
  },
  {
   "cell_type": "code",
   "execution_count": 538,
   "metadata": {
    "ExecuteTime": {
     "end_time": "2019-12-11T18:56:59.705596Z",
     "start_time": "2019-12-11T18:56:59.696619Z"
    }
   },
   "outputs": [
    {
     "name": "stdout",
     "output_type": "stream",
     "text": [
      "ROUND KEYS ARE:\n",
      "ROUND  1 KEY:  000000000000000000000000000000000000000000000000\n",
      "ROUND  2 KEY:  000000000000000000000000000000000000000000000000\n",
      "ROUND  3 KEY:  000000000000000000000000000000000000000000000000\n",
      "ROUND  4 KEY:  000000000000000000000000000000000000000000000000\n",
      "ROUND  5 KEY:  000000000000000000000000000000000000000000000000\n",
      "ROUND  6 KEY:  000000000000000000000000000000000000000000000000\n",
      "ROUND  7 KEY:  000000000000000000000000000000000000000000000000\n",
      "ROUND  8 KEY:  000000000000000000000000000000000000000000000000\n",
      "ROUND  9 KEY:  000000000000000000000000000000000000000000000000\n",
      "ROUND 10 KEY:  000000000000000000000000000000000000000000000000\n",
      "ROUND 11 KEY:  000000000000000000000000000000000000000000000000\n",
      "ROUND 12 KEY:  000000000000000000000000000000000000000000000000\n",
      "ROUND 13 KEY:  000000000000000000000000000000000000000000000000\n",
      "ROUND 14 KEY:  000000000000000000000000000000000000000000000000\n",
      "ROUND 15 KEY:  000000000000000000000000000000000000000000000000\n",
      "ROUND 16 KEY:  000000000000000000000000000000000000000000000000\n"
     ]
    }
   ],
   "source": [
    "KEY1a = '0000000000000000'\n",
    "keys1a = key_scheduler(KEY1a)\n",
    "\n",
    "print('ROUND KEYS ARE:')\n",
    "for i in range(len(keys1a)):\n",
    "    print('ROUND',  '%2s' %(i+1), 'KEY: ', keys1a[i])"
   ]
  },
  {
   "cell_type": "code",
   "execution_count": 539,
   "metadata": {
    "ExecuteTime": {
     "end_time": "2019-12-11T18:57:29.547989Z",
     "start_time": "2019-12-11T18:57:29.544001Z"
    }
   },
   "outputs": [
    {
     "name": "stdout",
     "output_type": "stream",
     "text": [
      "Izlezot od prvata runda koga porakata e 0000000000000000 i klucot e 0000000000000000 e:\n",
      "0000000000000000000000000000000000000000000000000000000000000000\n"
     ]
    }
   ],
   "source": [
    "M1a = '0000000000000000'\n",
    "print ('Izlezot od prvata runda koga porakata e', M1a, 'i klucot e', KEY1a, 'e:')\n",
    "c = encrypt(M1a, keys1a, first_round = True)"
   ]
  },
  {
   "cell_type": "markdown",
   "metadata": {},
   "source": [
    "## 2.1 б) Kој е излезот од првата рунда на DES алгоритамот кога пораката и клучот се составени само од 1-ци. Испечатете ги рундовските клучеви."
   ]
  },
  {
   "cell_type": "code",
   "execution_count": 540,
   "metadata": {
    "ExecuteTime": {
     "end_time": "2019-12-11T18:58:24.549112Z",
     "start_time": "2019-12-11T18:58:24.538177Z"
    }
   },
   "outputs": [
    {
     "name": "stdout",
     "output_type": "stream",
     "text": [
      "ROUND KEYS ARE:\n",
      "ROUND  1 KEY:  111111111111111111111111111111111111111111111111\n",
      "ROUND  2 KEY:  111111111111111111111111111111111111111111111111\n",
      "ROUND  3 KEY:  111111111111111111111111111111111111111111111111\n",
      "ROUND  4 KEY:  111111111111111111111111111111111111111111111111\n",
      "ROUND  5 KEY:  111111111111111111111111111111111111111111111111\n",
      "ROUND  6 KEY:  111111111111111111111111111111111111111111111111\n",
      "ROUND  7 KEY:  111111111111111111111111111111111111111111111111\n",
      "ROUND  8 KEY:  111111111111111111111111111111111111111111111111\n",
      "ROUND  9 KEY:  111111111111111111111111111111111111111111111111\n",
      "ROUND 10 KEY:  111111111111111111111111111111111111111111111111\n",
      "ROUND 11 KEY:  111111111111111111111111111111111111111111111111\n",
      "ROUND 12 KEY:  111111111111111111111111111111111111111111111111\n",
      "ROUND 13 KEY:  111111111111111111111111111111111111111111111111\n",
      "ROUND 14 KEY:  111111111111111111111111111111111111111111111111\n",
      "ROUND 15 KEY:  111111111111111111111111111111111111111111111111\n",
      "ROUND 16 KEY:  111111111111111111111111111111111111111111111111\n"
     ]
    }
   ],
   "source": [
    "KEY1b = 'FFFFFFFFFFFFFFFF'\n",
    "keys1b = key_scheduler(KEY1b)\n",
    "\n",
    "print('ROUND KEYS ARE:')\n",
    "for i in range(len(keys1b)):\n",
    "    print('ROUND',  '%2s' %(i+1), 'KEY: ', keys1b[i])"
   ]
  },
  {
   "cell_type": "code",
   "execution_count": 541,
   "metadata": {
    "ExecuteTime": {
     "end_time": "2019-12-11T18:58:41.522762Z",
     "start_time": "2019-12-11T18:58:41.519767Z"
    }
   },
   "outputs": [
    {
     "name": "stdout",
     "output_type": "stream",
     "text": [
      "Izlezot od prvata runda koga porakata e FFFFFFFFFFFFFFFF i klucot e FFFFFFFFFFFFFFFF e:\n",
      "1111111111111111111111111111111111111111111111111111111111111111\n"
     ]
    }
   ],
   "source": [
    "M1b = 'FFFFFFFFFFFFFFFF'\n",
    "print ('Izlezot od prvata runda koga porakata e', M1b, 'i klucot e', KEY1b, 'e:')\n",
    "c = encrypt(M1b, keys1b, True)"
   ]
  },
  {
   "cell_type": "markdown",
   "metadata": {},
   "source": [
    "## 2.1 в) Kој е излезот од првата рунда на DES алгоритамот кога пораката под а) се променила во еден бит (на било која позиција ставете бит 1, а сите останати нека останат 0), а клучот останал ист како и претходно (се состои од сите 0-ли). Пробајте повеќе варинати за позиции на битот 1. Може ли да изведете некој заклучок?"
   ]
  },
  {
   "cell_type": "code",
   "execution_count": 545,
   "metadata": {
    "ExecuteTime": {
     "end_time": "2019-12-11T19:25:51.625383Z",
     "start_time": "2019-12-11T19:25:51.609461Z"
    }
   },
   "outputs": [
    {
     "name": "stdout",
     "output_type": "stream",
     "text": [
      "Primer 1 :\n",
      "Porakata:                      0000000000000000000000000010000000000000000000000000000000000000\n",
      "Izlez:                         0000000000000000000000000000000000000000000010000000000000000000\n",
      "Izlez od porakata so site 0:   0000000000000000000000000000000000000000000000000000000000000000\n",
      "\n",
      "Primer 2 :\n",
      "Porakata:                      0000000010000000000000000000000000000000000000000000000000000000\n",
      "Izlez:                         0000000000000000000000000000000000000010000000000000000000000000\n",
      "Izlez od porakata so site 0:   0000000000000000000000000000000000000000000000000000000000000000\n",
      "\n",
      "Primer 3 :\n",
      "Porakata:                      0000000000000100000000000000000000000000000000000000000000000000\n",
      "Izlez:                         0000000000000000000000100000000000000000000000000000000000000000\n",
      "Izlez od porakata so site 0:   0000000000000000000000000000000000000000000000000000000000000000\n",
      "\n",
      "Primer 4 :\n",
      "Porakata:                      0000000001000000000000000000000000000000000000000000000000000000\n",
      "Izlez:                         0000001000000000000000000000000000000000000000000000000000000000\n",
      "Izlez od porakata so site 0:   0000000000000000000000000000000000000000000000000000000000000000\n",
      "\n",
      "Primer 5 :\n",
      "Porakata:                      0000000000000000000000000000000000000000000001000000000000000000\n",
      "Izlez:                         0000000000000000001000000000000000000000000000000000000000000000\n",
      "Izlez od porakata so site 0:   0000000000000000000000000000000000000000000000000000000000000000\n",
      "\n",
      "Primer 6 :\n",
      "Porakata:                      0000000000000000000000000000000010000000000000000000000000000000\n",
      "Izlez:                         0000000000000000000000000000000000010000000000000000000000000000\n",
      "Izlez od porakata so site 0:   0000000000000000000000000000000000000000000000000000000000000000\n",
      "\n",
      "Primer 7 :\n",
      "Porakata:                      0000000000000000000000000000000000000000000000000000000000000001\n",
      "Izlez:                         0000000000000000000000001000000000000000000000000000000000000000\n",
      "Izlez od porakata so site 0:   0000000000000000000000000000000000000000000000000000000000000000\n",
      "\n",
      "Primer 8 :\n",
      "Porakata:                      0000000000000000000000000000000000000000000100000000000000000000\n",
      "Izlez:                         0000000000100000000000000000000000000000000000000000000000000000\n",
      "Izlez od porakata so site 0:   0000000000000000000000000000000000000000000000000000000000000000\n",
      "\n",
      "Primer 9 :\n",
      "Porakata:                      0000000000000000000000000000000000000000000000000000000000000001\n",
      "Izlez:                         0000000000000000000000001000000000000000000000000000000000000000\n",
      "Izlez od porakata so site 0:   0000000000000000000000000000000000000000000000000000000000000000\n",
      "\n",
      "Primer 10 :\n",
      "Porakata:                      0000000000000000000000000000000000000000000000000000000000000100\n",
      "Izlez:                         0000000000000000100000000000000000000000000000000000000000000000\n",
      "Izlez od porakata so site 0:   0000000000000000000000000000000000000000000000000000000000000000\n",
      "\n",
      "Primer 11 :\n",
      "Porakata:                      0000000000000010000000000000000000000000000000000000000000000000\n",
      "Izlez:                         0000000000000000000000000000000000000000000000000000000000000010\n",
      "Izlez od porakata so site 0:   0000000000000000000000000000000000000000000000000000000000000000\n",
      "\n",
      "Primer 12 :\n",
      "Porakata:                      0000000000000000010000000000000000000000000000000000000000000000\n",
      "Izlez:                         0000010000000000000000000000000000000000000000000000000000000000\n",
      "Izlez od porakata so site 0:   0000000000000000000000000000000000000000000000000000000000000000\n",
      "\n",
      "Primer 13 :\n",
      "Porakata:                      0000000000000000000000000000001000000000000000000000000000000000\n",
      "Izlez:                         0000000000000000000000000000000000000000000000000000000000001000\n",
      "Izlez od porakata so site 0:   0000000000000000000000000000000000000000000000000000000000000000\n",
      "\n",
      "Primer 14 :\n",
      "Porakata:                      0000000000000000000000000000000100000000000000000000000000000000\n",
      "Izlez:                         0000000000000000000000000000100000000000000000000000000000000000\n",
      "Izlez od porakata so site 0:   0000000000000000000000000000000000000000000000000000000000000000\n",
      "\n",
      "Primer 15 :\n",
      "Porakata:                      0000000001000000000000000000000000000000000000000000000000000000\n",
      "Izlez:                         0000001000000000000000000000000000000000000000000000000000000000\n",
      "Izlez od porakata so site 0:   0000000000000000000000000000000000000000000000000000000000000000\n",
      "\n",
      "Primer 16 :\n",
      "Porakata:                      0000000000000000000000000010000000000000000000000000000000000000\n",
      "Izlez:                         0000000000000000000000000000000000000000000010000000000000000000\n",
      "Izlez od porakata so site 0:   0000000000000000000000000000000000000000000000000000000000000000\n",
      "\n",
      "Primer 17 :\n",
      "Porakata:                      0000000000010000000000000000000000000000000000000000000000000000\n",
      "Izlez:                         0000000000000010000000000000000000000000000000000000000000000000\n",
      "Izlez od porakata so site 0:   0000000000000000000000000000000000000000000000000000000000000000\n",
      "\n",
      "Primer 18 :\n",
      "Porakata:                      0000000000000000000000000000000000000000000000010000000000000000\n",
      "Izlez:                         0000000000000000000000000010000000000000000000000000000000000000\n",
      "Izlez od porakata so site 0:   0000000000000000000000000000000000000000000000000000000000000000\n",
      "\n",
      "Primer 19 :\n",
      "Porakata:                      0000000000000100000000000000000000000000000000000000000000000000\n",
      "Izlez:                         0000000000000000000000100000000000000000000000000000000000000000\n",
      "Izlez od porakata so site 0:   0000000000000000000000000000000000000000000000000000000000000000\n",
      "\n",
      "Primer 20 :\n",
      "Porakata:                      0010000000000000000000000000000000000000000000000000000000000000\n",
      "Izlez:                         0000000000000000000000000000000000000000000000010000000000000000\n",
      "Izlez od porakata so site 0:   0000000000000000000000000000000000000000000000000000000000000000\n",
      "\n"
     ]
    }
   ],
   "source": [
    "from random import randint\n",
    "\n",
    "\"\"\"\n",
    "    Function that generates 20 messages with a bit changed in random position of an all-zero message\n",
    "\"\"\"\n",
    "for i in range(20):\n",
    "    \n",
    "    print('Primer', i+1, ':')\n",
    "    M1c_list = ['0' for i in range(64)]\n",
    "    index = randint(0, 63)\n",
    "    M1c_list[index] = '1'\n",
    "    M1c = ''.join(M1c_list)\n",
    "    print('%-30s' %('Porakata:'), M1c)\n",
    "    print('%-31s' %('Izlez:'), end='')\n",
    "    encrypt(_bin_to_hex(M1c), keys1a, True)\n",
    "    print('%-31s' %('Izlez od porakata so site 0:'), end = '')\n",
    "    encrypt(M1a, keys1a, True)\n",
    "    print()"
   ]
  },
  {
   "cell_type": "markdown",
   "metadata": {},
   "source": [
    "### Заклучок:\n",
    "\n",
    "#### Еден бит променет на пораката со сите 0, кога и клучот исто така е со сите нули, предизвикува само еден бит да се промени на излезот од првата рунда"
   ]
  },
  {
   "cell_type": "markdown",
   "metadata": {},
   "source": [
    "  \n",
    "\n",
    "\n",
    "  \n",
    "## 2.1 г) Kолку битови се промениле на излез после првата рунда. Споредено со ситуацијата под а) има ли разлика? Колкав е авеланч ефектот тука?"
   ]
  },
  {
   "cell_type": "markdown",
   "metadata": {},
   "source": [
    "- После првата рунда се променил само еден бит.\n",
    "- Споредено со ситуацијата под а) имаме само еден бит разлика\n",
    "- Од горедобиените излези за пораката со сите нули и пораката со еден ненулти бит добиевме дека имаат само една разлика.\n",
    "- Авеланч ефект тука е просечно 1/64 ~ 1.6%"
   ]
  },
  {
   "cell_type": "markdown",
   "metadata": {},
   "source": [
    "## 2.1 д) Споредете колку од S-box-овите (во втората рунда) сега имаат различен влез, споредено со ситуацијата под а)?"
   ]
  },
  {
   "cell_type": "code",
   "execution_count": 546,
   "metadata": {
    "ExecuteTime": {
     "end_time": "2019-12-11T19:32:22.932790Z",
     "start_time": "2019-12-11T19:32:22.905894Z"
    }
   },
   "outputs": [
    {
     "name": "stdout",
     "output_type": "stream",
     "text": [
      "Primer 1 :\n",
      "Porakata:                                1000000000000000000000000000000000000000000000000000000000000000\n",
      "S-box vlezovi:                           ['011011', '110001', '010011', '111001', '011011', '110110', '101111', '111001']\n",
      "S-box vlezovi od porakata so site 0:     ['011011', '110001', '011011', '110001', '011011', '110111', '110111', '111001']\n",
      "\n",
      "Primer 2 :\n",
      "Porakata:                                0000000000000000000000000000000000000000000000000000000001000000\n",
      "S-box vlezovi:                           ['011011', '110001', '010011', '111001', '011011', '110110', '101111', '111001']\n",
      "S-box vlezovi od porakata so site 0:     ['011011', '110001', '011011', '110001', '011011', '110111', '110111', '111001']\n",
      "\n",
      "Primer 3 :\n",
      "Porakata:                                0000000000000000000000000000000000000000000000000000100000000000\n",
      "S-box vlezovi:                           ['011011', '110001', '010011', '111001', '011011', '110110', '101111', '111001']\n",
      "S-box vlezovi od porakata so site 0:     ['011011', '110001', '011011', '110001', '011011', '110111', '110111', '111001']\n",
      "\n",
      "Primer 4 :\n",
      "Porakata:                                0000000000000000000000000000000000000010000000000000000000000000\n",
      "S-box vlezovi:                           ['011011', '110001', '010011', '111001', '011011', '110110', '101111', '111001']\n",
      "S-box vlezovi od porakata so site 0:     ['011011', '110001', '011011', '110001', '011011', '110111', '110111', '111001']\n",
      "\n",
      "Primer 5 :\n",
      "Porakata:                                0000000000000000000000000000000000000000000010000000000000000000\n",
      "S-box vlezovi:                           ['011011', '110001', '010011', '111001', '011011', '110110', '101111', '111001']\n",
      "S-box vlezovi od porakata so site 0:     ['011011', '110001', '011011', '110001', '011011', '110111', '110111', '111001']\n",
      "\n",
      "Primer 6 :\n",
      "Porakata:                                1000000000000000000000000000000000000000000000000000000000000000\n",
      "S-box vlezovi:                           ['011011', '110001', '010011', '111001', '011011', '110110', '101111', '111001']\n",
      "S-box vlezovi od porakata so site 0:     ['011011', '110001', '011011', '110001', '011011', '110111', '110111', '111001']\n",
      "\n",
      "Primer 7 :\n",
      "Porakata:                                0000000000000000000000000000000000000000000000000010000000000000\n",
      "S-box vlezovi:                           ['011011', '110001', '010011', '111001', '011011', '110110', '101111', '111001']\n",
      "S-box vlezovi od porakata so site 0:     ['011011', '110001', '011011', '110001', '011011', '110111', '110111', '111001']\n",
      "\n",
      "Primer 8 :\n",
      "Porakata:                                0000000000000000000000000000000000000000000000000000000000001000\n",
      "S-box vlezovi:                           ['011011', '110001', '010011', '111001', '011011', '110110', '101111', '111001']\n",
      "S-box vlezovi od porakata so site 0:     ['011011', '110001', '011011', '110001', '011011', '110111', '110111', '111001']\n",
      "\n",
      "Primer 9 :\n",
      "Porakata:                                0100000000000000000000000000000000000000000000000000000000000000\n",
      "S-box vlezovi:                           ['011011', '110001', '010011', '111001', '011011', '110110', '101111', '111001']\n",
      "S-box vlezovi od porakata so site 0:     ['011011', '110001', '011011', '110001', '011011', '110111', '110111', '111001']\n",
      "\n",
      "Primer 10 :\n",
      "Porakata:                                1000000000000000000000000000000000000000000000000000000000000000\n",
      "S-box vlezovi:                           ['011011', '110001', '010011', '111001', '011011', '110110', '101111', '111001']\n",
      "S-box vlezovi od porakata so site 0:     ['011011', '110001', '011011', '110001', '011011', '110111', '110111', '111001']\n",
      "\n",
      "Primer 11 :\n",
      "Porakata:                                0000000010000000000000000000000000000000000000000000000000000000\n",
      "S-box vlezovi:                           ['011011', '110001', '010011', '111001', '011011', '110110', '101111', '111001']\n",
      "S-box vlezovi od porakata so site 0:     ['011011', '110001', '011011', '110001', '011011', '110111', '110111', '111001']\n",
      "\n",
      "Primer 12 :\n",
      "Porakata:                                0000000000000000000000000000000000000000000000000000000010000000\n",
      "S-box vlezovi:                           ['011011', '110001', '010011', '111001', '011011', '110110', '101111', '111001']\n",
      "S-box vlezovi od porakata so site 0:     ['011011', '110001', '011011', '110001', '011011', '110111', '110111', '111001']\n",
      "\n",
      "Primer 13 :\n",
      "Porakata:                                0000000000000000000000000000000000000000100000000000000000000000\n",
      "S-box vlezovi:                           ['011011', '110001', '010011', '111001', '011011', '110110', '101111', '111001']\n",
      "S-box vlezovi od porakata so site 0:     ['011011', '110001', '011011', '110001', '011011', '110111', '110111', '111001']\n",
      "\n",
      "Primer 14 :\n",
      "Porakata:                                0000000000000000000000000000000000000001000000000000000000000000\n",
      "S-box vlezovi:                           ['011011', '110001', '010011', '111001', '011011', '110110', '101111', '111001']\n",
      "S-box vlezovi od porakata so site 0:     ['011011', '110001', '011011', '110001', '011011', '110111', '110111', '111001']\n",
      "\n",
      "Primer 15 :\n",
      "Porakata:                                0000000000000000000000000000000000000000000000000000100000000000\n",
      "S-box vlezovi:                           ['011011', '110001', '010011', '111001', '011011', '110110', '101111', '111001']\n",
      "S-box vlezovi od porakata so site 0:     ['011011', '110001', '011011', '110001', '011011', '110111', '110111', '111001']\n",
      "\n",
      "Primer 16 :\n",
      "Porakata:                                0000000000000000000000000000000000000000000000000000100000000000\n",
      "S-box vlezovi:                           ['011011', '110001', '010011', '111001', '011011', '110110', '101111', '111001']\n",
      "S-box vlezovi od porakata so site 0:     ['011011', '110001', '011011', '110001', '011011', '110111', '110111', '111001']\n",
      "\n",
      "Primer 17 :\n",
      "Porakata:                                0000000000000000000000000000000000000000000000000000000000100000\n",
      "S-box vlezovi:                           ['011011', '110001', '010011', '111001', '011011', '110110', '101111', '111001']\n",
      "S-box vlezovi od porakata so site 0:     ['011011', '110001', '011011', '110001', '011011', '110111', '110111', '111001']\n",
      "\n",
      "Primer 18 :\n",
      "Porakata:                                1000000000000000000000000000000000000000000000000000000000000000\n",
      "S-box vlezovi:                           ['011011', '110001', '010011', '111001', '011011', '110110', '101111', '111001']\n",
      "S-box vlezovi od porakata so site 0:     ['011011', '110001', '011011', '110001', '011011', '110111', '110111', '111001']\n",
      "\n",
      "Primer 19 :\n",
      "Porakata:                                0000000000000000000000000000000000000100000000000000000000000000\n",
      "S-box vlezovi:                           ['011011', '110001', '010011', '111001', '011011', '110110', '101111', '111001']\n",
      "S-box vlezovi od porakata so site 0:     ['011011', '110001', '011011', '110001', '011011', '110111', '110111', '111001']\n",
      "\n",
      "Primer 20 :\n",
      "Porakata:                                0000000000000000000000000000000000010000000000000000000000000000\n",
      "S-box vlezovi:                           ['011011', '110001', '010011', '111001', '011011', '110110', '101111', '111001']\n",
      "S-box vlezovi od porakata so site 0:     ['011011', '110001', '011011', '110001', '011011', '110111', '110111', '111001']\n",
      "\n"
     ]
    }
   ],
   "source": [
    "for i in range(20):\n",
    "    print('Primer', i+1, ':')\n",
    "    M1d_list = ['0' for i in range(64)]\n",
    "    index = randint(0, 63)\n",
    "    M1d_list[index] = '1'\n",
    "    M1d = ''.join(M1d_list)\n",
    "    print('%-40s' %('Porakata:'), M1d)\n",
    "    print('%-41s' %('S-box vlezovi:'), end='')\n",
    "    encrypt(_bin_to_hex(M1c), keys1a, False, True)\n",
    "    print('%-41s' %('S-box vlezovi od porakata so site 0:'), end = '')\n",
    "    encrypt(M1a, keys1a, False, True)\n",
    "    print()"
   ]
  },
  {
   "cell_type": "markdown",
   "metadata": {},
   "source": [
    "### Заклучок: \n",
    "\n",
    "#### Бројот на различни влезови за S-box-овите се просечно 4 (или половина)"
   ]
  },
  {
   "cell_type": "markdown",
   "metadata": {},
   "source": [
    "## 2.1 ѓ) Наведете кои точно S-box-ови се засегнати од оваа промена на битот, односно да се покаже патот на промена на S-box-овите низ сите 16 рунди на DES алгоритамот."
   ]
  },
  {
   "cell_type": "code",
   "execution_count": 547,
   "metadata": {
    "ExecuteTime": {
     "end_time": "2019-12-11T19:49:49.739548Z",
     "start_time": "2019-12-11T19:49:49.730612Z"
    }
   },
   "outputs": [
    {
     "name": "stdout",
     "output_type": "stream",
     "text": [
      "Porakata so site 0:                      0000000000000000000000000000000000000000000000000000000000000000\n",
      "Porakata so eden promenet bit:           0000000000000000000000000000000000000000000000000001000000000000\n"
     ]
    }
   ],
   "source": [
    "M1gj_list = ['0' for i in range(64)]\n",
    "index = randint(0, 63)\n",
    "M1gj_list[index] = '1'\n",
    "M1gj = ''.join(M1gj_list)\n",
    "\n",
    "porakata_so_site_nuli = _hex_to_bin(M1a)\n",
    "porakata_so_eden_promenet_bit = M1gj\n",
    "\n",
    "round_s_boxovi_list_so_porakata_so_site_nuli = []\n",
    "e1 = encrypt(_bin_to_hex(porakata_so_site_nuli), keys1a, first_round = False, s_boxovi = False, round_s_boxovi = True, round_s_boxovi_list=round_s_boxovi_list_so_porakata_so_site_nuli)\n",
    "\n",
    "round_s_boxovi_list_so_porakata_so_eden_promenet_bit = []\n",
    "e2 = encrypt(_bin_to_hex(porakata_so_eden_promenet_bit), keys1a, first_round = False, s_boxovi = False, round_s_boxovi = True, round_s_boxovi_list=round_s_boxovi_list_so_porakata_so_eden_promenet_bit)\n",
    "\n",
    "print('%-40s' %('Porakata so site 0: '), porkata_so_site_nuli)\n",
    "print('%-40s' %('Porakata so eden promenet bit: '), porakata_so_eden_promenet_bit)"
   ]
  },
  {
   "cell_type": "code",
   "execution_count": 551,
   "metadata": {
    "ExecuteTime": {
     "end_time": "2019-12-11T20:08:32.815410Z",
     "start_time": "2019-12-11T20:08:32.798456Z"
    }
   },
   "outputs": [
    {
     "name": "stdout",
     "output_type": "stream",
     "text": [
      "Round 1\n",
      "S-box vlezovi od porakata so site nuli         ['000000', '000000', '000000', '000000', '000000', '000000', '000000', '000000']\n",
      "S-box vlezovi od porakata so eden promenet bit ['000000', '000000', '000000', '000000', '000000', '000000', '000000', '000000']\n",
      "Vkupen broj na bitovi koi se razlikuvaat:     0\n",
      "\n",
      "Round 2\n",
      "S-box vlezovi od porakata so site nuli         ['011011', '110001', '011011', '110001', '011011', '110111', '110111', '111001']\n",
      "S-box vlezovi od porakata so eden promenet bit ['011011', '110001', '010011', '110001', '011011', '110111', '110111', '111001']\n",
      "Vkupen broj na bitovi koi se razlikuvaat:     1\n",
      "\n",
      "Round 3\n",
      "S-box vlezovi od porakata so site nuli         ['111100', '001110', '100111', '110101', '011101', '011010', '101001', '011111']\n",
      "S-box vlezovi od porakata so eden promenet bit ['111100', '000110', '100111', '110101', '011101', '011010', '101001', '010111']\n",
      "Vkupen broj na bitovi koi se razlikuvaat:     2\n",
      "\n",
      "Round 4\n",
      "S-box vlezovi od porakata so site nuli         ['001011', '110111', '111111', '110100', '001101', '010111', '110100', '001100']\n",
      "S-box vlezovi od porakata so eden promenet bit ['000010', '100111', '110110', '100100', '001100', '000111', '110100', '001100']\n",
      "Vkupen broj na bitovi koi se razlikuvaat:     8\n",
      "\n",
      "Round 5\n",
      "S-box vlezovi od porakata so site nuli         ['101011', '111100', '001000', '001011', '111100', '000100', '001010', '101110']\n",
      "S-box vlezovi od porakata so eden promenet bit ['101001', '010100', '000001', '010010', '100100', '000001', '010001', '010110']\n",
      "Vkupen broj na bitovi koi se razlikuvaat:     19\n",
      "\n",
      "Round 6\n",
      "S-box vlezovi od porakata so site nuli         ['010001', '010110', '100011', '110010', '101111', '110111', '111100', '000001']\n",
      "S-box vlezovi od porakata so eden promenet bit ['101101', '011111', '111000', '000011', '111100', '001101', '010000', '001110']\n",
      "Vkupen broj na bitovi koi se razlikuvaat:     27\n",
      "\n",
      "Round 7\n",
      "S-box vlezovi od porakata so site nuli         ['011111', '111011', '111101', '010011', '110001', '010010', '101001', '010101']\n",
      "S-box vlezovi od porakata so eden promenet bit ['101011', '111000', '000001', '010000', '001001', '011001', '011011', '110010']\n",
      "Vkupen broj na bitovi koi se razlikuvaat:     24\n",
      "\n",
      "Round 8\n",
      "S-box vlezovi od porakata so site nuli         ['000011', '110011', '111011', '111110', '100001', '010110', '101011', '111000']\n",
      "S-box vlezovi od porakata so eden promenet bit ['011101', '010010', '101011', '111101', '010100', '000111', '110100', '001001']\n",
      "Vkupen broj na bitovi koi se razlikuvaat:     23\n",
      "\n",
      "Round 9\n",
      "S-box vlezovi od porakata so site nuli         ['010010', '100000', '001111', '110100', '000010', '100111', '111110', '100001']\n",
      "S-box vlezovi od porakata so eden promenet bit ['100110', '100000', '001111', '110100', '000001', '010110', '101001', '010110']\n",
      "Vkupen broj na bitovi koi se razlikuvaat:     17\n",
      "\n",
      "Round 10\n",
      "S-box vlezovi od porakata so site nuli         ['010001', '010000', '000011', '110010', '100001', '011000', '001010', '100001']\n",
      "S-box vlezovi od porakata so eden promenet bit ['001100', '000101', '010011', '110001', '010100', '000100', '000001', '010000']\n",
      "Vkupen broj na bitovi koi se razlikuvaat:     23\n",
      "\n",
      "Round 11\n",
      "S-box vlezovi od porakata so site nuli         ['000100', '001011', '111010', '100010', '101010', '100010', '101111', '111000']\n",
      "S-box vlezovi od porakata so eden promenet bit ['010001', '010101', '011001', '010000', '000001', '010001', '010011', '110001']\n",
      "Vkupen broj na bitovi koi se razlikuvaat:     27\n",
      "\n",
      "Round 12\n",
      "S-box vlezovi od porakata so site nuli         ['011110', '100111', '111101', '011111', '110010', '100010', '101111', '111101']\n",
      "S-box vlezovi od porakata so eden promenet bit ['011101', '010010', '100111', '111111', '111101', '011011', '110100', '000001']\n",
      "Vkupen broj na bitovi koi se razlikuvaat:     26\n",
      "\n",
      "Round 13\n",
      "S-box vlezovi od porakata so site nuli         ['010010', '101101', '011100', '000111', '110010', '101110', '100010', '100101']\n",
      "S-box vlezovi od porakata so eden promenet bit ['011111', '110101', '010111', '111000', '001110', '101101', '011001', '010101']\n",
      "Vkupen broj na bitovi koi se razlikuvaat:     27\n",
      "\n",
      "Round 14\n",
      "S-box vlezovi od porakata so site nuli         ['001011', '110100', '001011', '111011', '110100', '000110', '101001', '010100']\n",
      "S-box vlezovi od porakata so eden promenet bit ['000111', '110011', '110011', '110001', '010011', '110000', '000011', '111000']\n",
      "Vkupen broj na bitovi koi se razlikuvaat:     24\n",
      "\n",
      "Round 15\n",
      "S-box vlezovi od porakata so site nuli         ['000000', '001011', '110001', '011001', '010101', '011010', '100001', '010100']\n",
      "S-box vlezovi od porakata so eden promenet bit ['000110', '101101', '010011', '111111', '111011', '111111', '110110', '101100']\n",
      "Vkupen broj na bitovi koi se razlikuvaat:     24\n",
      "\n",
      "Round 16\n",
      "S-box vlezovi od porakata so site nuli         ['010111', '110111', '111101', '010100', '000001', '011011', '111000', '000101']\n",
      "S-box vlezovi od porakata so eden promenet bit ['100100', '000011', '111011', '111101', '010101', '010010', '101100', '001110']\n",
      "Vkupen broj na bitovi koi se razlikuvaat:     21\n",
      "\n"
     ]
    }
   ],
   "source": [
    "for i in range(16):\n",
    "    print('Round', i+1)\n",
    "    print('%-46s'%('S-box vlezovi od porakata so site nuli'), round_s_boxovi_list_so_porakata_so_site_nuli[i])\n",
    "    print('%-45s' %('S-box vlezovi od porakata so eden promenet bit'), round_s_boxovi_list_so_porakata_so_eden_promenet_bit[i])\n",
    "    \n",
    "    razliki = 0\n",
    "    for j in range(8):\n",
    "        sbox1 = round_s_boxovi_list_so_porakata_so_site_nuli[i][j]\n",
    "        sbox2 = round_s_boxovi_list_so_porakata_so_eden_promenet_bit[i][j]\n",
    "        # print(sbox1, sbox2)\n",
    "        for k in range(6):\n",
    "            if sbox1[k] != sbox2[k]:\n",
    "                razliki+=1\n",
    "    \n",
    "    print('%-45s' %('Vkupen broj na bitovi koi se razlikuvaat:'), razliki)\n",
    "    print()"
   ]
  },
  {
   "cell_type": "markdown",
   "metadata": {},
   "source": [
    "### Заклучок:\n",
    "\n",
    "#### 1ва рунда:               Немаат разлики влезовите на S-boxoвите, \n",
    "#### 2та рунда:          Има разлика само на еден S-box, \n",
    "#### 3та рунда:          Имаат разлики 2 S-boxови\n",
    "#### 4та рунда:      Имаат разлики 6 S-boxovi (8 битови)\n",
    "#### 5та рунда:          Имаат разлики 8 S-boxovi (19 битови)\n",
    "#### 6та рунда:         Имаат разлики 8 S-boxovi (27 битови)\n",
    "#### 7та рунда:         Имаат разлики 8 S-boxovi (24 битови)\n",
    "...\n",
    "#### 16та рунда:                 Имаат разлики 8 S-boxovi (21 битови)"
   ]
  },
  {
   "cell_type": "markdown",
   "metadata": {},
   "source": [
    "## 2.2. Задача 2\n",
    "\n",
    "### Изгенерирајте си сите слаби клучеви за DES алгоритамот и покажете преку примери зошто овие клучеви не треба да се користат."
   ]
  },
  {
   "cell_type": "markdown",
   "metadata": {},
   "source": [
    "- Дефиниција за слаб клуч \n",
    "    - ако енкрипцијата и декрипцијата се идентични операции, т.е. Ek(Ek(x)) = x за сите x.\n",
    "    - овие подклучеви изгенерираат идентичен подклуч за секоја рунда"
   ]
  },
  {
   "attachments": {
    "Generate_Weak_Keys.png": {
     "image/png": "[encoded data removed]"
    }
   },
   "cell_type": "markdown",
   "metadata": {},
   "source": [
    "![Generate_Weak_Keys.png](attachment:Generate_Weak_Keys.png)"
   ]
  },
  {
   "cell_type": "markdown",
   "metadata": {},
   "source": [
    "### Тие 4 слаби клучеви пред PC-1 се:  \n",
    "\n",
    "- Kw1 = 00000000 00000000 00000000 00000000 00000000 00000000 00000000 00000000  \n",
    "- Kw2 = 00011110 00011110 00011110 00011110 00001111 00001111 00001111 00001111  \n",
    "- Kw3 = 11100001 11100001 11100001 11100001 11110000 11110000 11110000 11110000  \n",
    "- Kw4 = 11111111 11111111 11111111 11111111 11111111 11111111 11111111 11111111  "
   ]
  },
  {
   "cell_type": "markdown",
   "metadata": {},
   "source": [
    "# 2.2.1. СЛАБ КЛУЧ 1\n",
    "### Kw1 = 0000000000000000000000000000000000000000000000000000000000000000"
   ]
  },
  {
   "cell_type": "code",
   "execution_count": 555,
   "metadata": {
    "ExecuteTime": {
     "end_time": "2019-12-11T20:17:27.197041Z",
     "start_time": "2019-12-11T20:17:27.185113Z"
    }
   },
   "outputs": [
    {
     "name": "stdout",
     "output_type": "stream",
     "text": [
      "Round Keys for weak key 0000000000000000000000000000000000000000000000000000000000000000 are:\n",
      "Round   1 : 000000000000000000000000000000000000000000000000\n",
      "Round   2 : 000000000000000000000000000000000000000000000000\n",
      "Round   3 : 000000000000000000000000000000000000000000000000\n",
      "Round   4 : 000000000000000000000000000000000000000000000000\n",
      "Round   5 : 000000000000000000000000000000000000000000000000\n",
      "Round   6 : 000000000000000000000000000000000000000000000000\n",
      "Round   7 : 000000000000000000000000000000000000000000000000\n",
      "Round   8 : 000000000000000000000000000000000000000000000000\n",
      "Round   9 : 000000000000000000000000000000000000000000000000\n",
      "Round  10 : 000000000000000000000000000000000000000000000000\n",
      "Round  11 : 000000000000000000000000000000000000000000000000\n",
      "Round  12 : 000000000000000000000000000000000000000000000000\n",
      "Round  13 : 000000000000000000000000000000000000000000000000\n",
      "Round  14 : 000000000000000000000000000000000000000000000000\n",
      "Round  15 : 000000000000000000000000000000000000000000000000\n",
      "Round  16 : 000000000000000000000000000000000000000000000000\n"
     ]
    }
   ],
   "source": [
    "Kw1 = '0000000000000000000000000000000000000000000000000000000000000000'\n",
    "Kw1_keys = key_scheduler(_bin_to_hex(Kw1))\n",
    "print('Round Keys for weak key', Kw1, 'are:')\n",
    "for i in range(len(Kw1_keys)):\n",
    "    print('Round ', '%2s' %(i + 1), ':', Kw1_keys[i])"
   ]
  },
  {
   "cell_type": "code",
   "execution_count": 568,
   "metadata": {
    "ExecuteTime": {
     "end_time": "2019-12-11T20:24:01.299394Z",
     "start_time": "2019-12-11T20:24:01.290421Z"
    }
   },
   "outputs": [
    {
     "name": "stdout",
     "output_type": "stream",
     "text": [
      "Enkriptirana poraka na Fisnik11 e FB08CEC992240CC1\n",
      "Enkriptirana poraka na FB08CEC992240CC1 e Fisnik11\n"
     ]
    }
   ],
   "source": [
    "message = 'Fisnik11'\n",
    "enkriptirana = encrypt(_bin_to_hex(_ascii_to_bin(message)), Kw1_keys)[2:].upper()\n",
    "print('Enkriptirana poraka na', message, 'e', enkriptirana)\n",
    "\n",
    "enkriptirana_enkriptiranata = _bin_to_ascii(_hex_to_bin(encrypt(enkriptirana, Kw1_keys)[2:]))\n",
    "print('Enkriptirana poraka na', enkriptirana, 'e', enkriptirana_enkriptiranata)"
   ]
  },
  {
   "cell_type": "markdown",
   "metadata": {},
   "source": [
    "## Заклучок: \n",
    "- Се изгенерираат исти подклучеви за секоја рунда\n",
    "- Ако една порака ја енкриптираме 2 пати, ќе го добиеме оригиналната порака!"
   ]
  },
  {
   "cell_type": "markdown",
   "metadata": {},
   "source": [
    "  \n",
    "# 2.2.2. СЛАБ КЛУЧ 2\n",
    "### Kw2 = 00011110 00011110 00011110 00011110 00001111 00001111 00001111 00001111"
   ]
  },
  {
   "cell_type": "code",
   "execution_count": 572,
   "metadata": {
    "ExecuteTime": {
     "end_time": "2019-12-11T20:33:04.396282Z",
     "start_time": "2019-12-11T20:33:04.382320Z"
    }
   },
   "outputs": [
    {
     "name": "stdout",
     "output_type": "stream",
     "text": [
      "Round Keys for weak key 0001111000011110000111100001111000001111000011110000111100001111 are:\n",
      "Round   1 : 000000000000000000000000111111111111111111111111\n",
      "Round   2 : 000000000000000000000000111111111111111111111111\n",
      "Round   3 : 000000000000000000000000111111111111111111111111\n",
      "Round   4 : 000000000000000000000000111111111111111111111111\n",
      "Round   5 : 000000000000000000000000111111111111111111111111\n",
      "Round   6 : 000000000000000000000000111111111111111111111111\n",
      "Round   7 : 000000000000000000000000111111111111111111111111\n",
      "Round   8 : 000000000000000000000000111111111111111111111111\n",
      "Round   9 : 000000000000000000000000111111111111111111111111\n",
      "Round  10 : 000000000000000000000000111111111111111111111111\n",
      "Round  11 : 000000000000000000000000111111111111111111111111\n",
      "Round  12 : 000000000000000000000000111111111111111111111111\n",
      "Round  13 : 000000000000000000000000111111111111111111111111\n",
      "Round  14 : 000000000000000000000000111111111111111111111111\n",
      "Round  15 : 000000000000000000000000111111111111111111111111\n",
      "Round  16 : 000000000000000000000000111111111111111111111111\n",
      "Enkriptirana poraka na SLABKLUC e 4E84E2846A0173A8\n",
      "Enkriptirana poraka na 4E84E2846A0173A8 e SLABKLUC\n"
     ]
    }
   ],
   "source": [
    "Kw2 = '0001111000011110000111100001111000001111000011110000111100001111'\n",
    "\n",
    "Kw2_keys = key_scheduler(_bin_to_hex(Kw2))\n",
    "print('Round Keys for weak key', Kw2, 'are:')\n",
    "for i in range(len(Kw2_keys)):\n",
    "    print('Round ', '%2s' %(i + 1), ':', Kw2_keys[i])\n",
    "    \n",
    "message = 'SLABKLUC'\n",
    "enkriptirana = encrypt(_bin_to_hex(_ascii_to_bin(message)), Kw2_keys)[2:].upper()\n",
    "print('Enkriptirana poraka na', message, 'e', enkriptirana)\n",
    "\n",
    "enkriptirana_enkriptiranata = _bin_to_ascii(_hex_to_bin(encrypt(enkriptirana, Kw2_keys)[2:]))\n",
    "print('Enkriptirana poraka na', enkriptirana, 'e', enkriptirana_enkriptiranata)"
   ]
  },
  {
   "cell_type": "markdown",
   "metadata": {},
   "source": [
    "\n",
    "# 2.2.3. СЛАБ КЛУЧ 3\n",
    "### Kw3 = 11100001 11100001 11100001 11100001 11110000 11110000 11110000 11110000  "
   ]
  },
  {
   "cell_type": "code",
   "execution_count": 575,
   "metadata": {
    "ExecuteTime": {
     "end_time": "2019-12-11T20:34:43.440294Z",
     "start_time": "2019-12-11T20:34:43.422305Z"
    }
   },
   "outputs": [
    {
     "name": "stdout",
     "output_type": "stream",
     "text": [
      "Round Keys for weak key 1110000111100001111000011110000111110000111100001111000011110000 are:\n",
      "Round   1 : 111111111111111111111111000000000000000000000000\n",
      "Round   2 : 111111111111111111111111000000000000000000000000\n",
      "Round   3 : 111111111111111111111111000000000000000000000000\n",
      "Round   4 : 111111111111111111111111000000000000000000000000\n",
      "Round   5 : 111111111111111111111111000000000000000000000000\n",
      "Round   6 : 111111111111111111111111000000000000000000000000\n",
      "Round   7 : 111111111111111111111111000000000000000000000000\n",
      "Round   8 : 111111111111111111111111000000000000000000000000\n",
      "Round   9 : 111111111111111111111111000000000000000000000000\n",
      "Round  10 : 111111111111111111111111000000000000000000000000\n",
      "Round  11 : 111111111111111111111111000000000000000000000000\n",
      "Round  12 : 111111111111111111111111000000000000000000000000\n",
      "Round  13 : 111111111111111111111111000000000000000000000000\n",
      "Round  14 : 111111111111111111111111000000000000000000000000\n",
      "Round  15 : 111111111111111111111111000000000000000000000000\n",
      "Round  16 : 111111111111111111111111000000000000000000000000\n",
      "Enkriptirana poraka na KRIPTO00 e 95D79DAA5C5CD6C3\n",
      "Enkriptirana poraka na 95D79DAA5C5CD6C3 e KRIPTO00\n"
     ]
    }
   ],
   "source": [
    "Kw3 = '1110000111100001111000011110000111110000111100001111000011110000'\n",
    "\n",
    "Kw3_keys = key_scheduler(_bin_to_hex(Kw3))\n",
    "print('Round Keys for weak key', Kw3, 'are:')\n",
    "for i in range(len(Kw3_keys)):\n",
    "    print('Round ', '%2s' %(i + 1), ':', Kw3_keys[i])\n",
    "    \n",
    "message = 'KRIPTO00'\n",
    "enkriptirana = encrypt(_bin_to_hex(_ascii_to_bin(message)), Kw3_keys)[2:].upper()\n",
    "print('Enkriptirana poraka na', message, 'e', enkriptirana)\n",
    "\n",
    "enkriptirana_enkriptiranata = _bin_to_ascii(_hex_to_bin(encrypt(enkriptirana, Kw3_keys)[2:]))\n",
    "print('Enkriptirana poraka na', enkriptirana, 'e', enkriptirana_enkriptiranata)"
   ]
  },
  {
   "cell_type": "markdown",
   "metadata": {},
   "source": [
    "\n",
    "# 2.2.4. СЛАБ КЛУЧ 4\n",
    "### Kw4 = 11111111 11111111 11111111 11111111 11111111 11111111 11111111 11111111 "
   ]
  },
  {
   "cell_type": "code",
   "execution_count": 576,
   "metadata": {
    "ExecuteTime": {
     "end_time": "2019-12-11T20:36:00.659031Z",
     "start_time": "2019-12-11T20:36:00.641080Z"
    }
   },
   "outputs": [
    {
     "name": "stdout",
     "output_type": "stream",
     "text": [
      "Round Keys for weak key 1111111111111111111111111111111111111111111111111111111111111111 are:\n",
      "Round   1 : 111111111111111111111111111111111111111111111111\n",
      "Round   2 : 111111111111111111111111111111111111111111111111\n",
      "Round   3 : 111111111111111111111111111111111111111111111111\n",
      "Round   4 : 111111111111111111111111111111111111111111111111\n",
      "Round   5 : 111111111111111111111111111111111111111111111111\n",
      "Round   6 : 111111111111111111111111111111111111111111111111\n",
      "Round   7 : 111111111111111111111111111111111111111111111111\n",
      "Round   8 : 111111111111111111111111111111111111111111111111\n",
      "Round   9 : 111111111111111111111111111111111111111111111111\n",
      "Round  10 : 111111111111111111111111111111111111111111111111\n",
      "Round  11 : 111111111111111111111111111111111111111111111111\n",
      "Round  12 : 111111111111111111111111111111111111111111111111\n",
      "Round  13 : 111111111111111111111111111111111111111111111111\n",
      "Round  14 : 111111111111111111111111111111111111111111111111\n",
      "Round  15 : 111111111111111111111111111111111111111111111111\n",
      "Round  16 : 111111111111111111111111111111111111111111111111\n",
      "Enkriptirana poraka na F.Limani e 1D806E75759165D1\n",
      "Enkriptirana poraka na 1D806E75759165D1 e F.Limani\n"
     ]
    }
   ],
   "source": [
    "Kw4 = '1111111111111111111111111111111111111111111111111111111111111111'\n",
    "\n",
    "Kw4_keys = key_scheduler(_bin_to_hex(Kw4))\n",
    "print('Round Keys for weak key', Kw4, 'are:')\n",
    "for i in range(len(Kw4_keys)):\n",
    "    print('Round ', '%2s' %(i + 1), ':', Kw4_keys[i])\n",
    "    \n",
    "message = 'F.Limani'\n",
    "enkriptirana = encrypt(_bin_to_hex(_ascii_to_bin(message)), Kw4_keys)[2:].upper()\n",
    "print('Enkriptirana poraka na', message, 'e', enkriptirana)\n",
    "\n",
    "enkriptirana_enkriptiranata = _bin_to_ascii(_hex_to_bin(encrypt(enkriptirana, Kw4_keys)[2:]))\n",
    "print('Enkriptirana poraka na', enkriptirana, 'e', enkriptirana_enkriptiranata)"
   ]
  },
  {
   "cell_type": "markdown",
   "metadata": {},
   "source": [
    "## Заклучок за 2.2.2, 2.2.3, 2.2.4\n",
    "\n",
    "##### Важи истиот заклучок како и за 2.2.1. т.е.:\n",
    "- Се изгенерираат исти подклучеви за секоја рунда\n",
    "- Ако една порака ја енкриптираме 2 пати, ќе го добиеме оригиналната порака!"
   ]
  },
  {
   "cell_type": "markdown",
   "metadata": {},
   "source": [
    "### References:\n",
    "\n",
    "- https://csrc.nist.gov/csrc/media/publications/fips/46/3/archive/1999-10-25/documents/fips46-3.pdf\n",
    "- http://page.math.tu-berlin.de/~kant/teaching/hess/krypto-ws2006/des.htm\n",
    "- https://github.com/JoshGutman/Data-Encryption-Standard\n",
    "- https://academic.csuohio.edu/yuc/security/Chapter_06_Data_Encription_Standard.pdf"
   ]
  }
 ],
 "metadata": {
  "kernelspec": {
   "display_name": "Python 3",
   "language": "python",
   "name": "python3"
  },
  "language_info": {
   "codemirror_mode": {
    "name": "ipython",
    "version": 3
   },
   "file_extension": ".py",
   "mimetype": "text/x-python",
   "name": "python",
   "nbconvert_exporter": "python",
   "pygments_lexer": "ipython3",
   "version": "3.7.3"
  }
 },
 "nbformat": 4,
 "nbformat_minor": 2
}
